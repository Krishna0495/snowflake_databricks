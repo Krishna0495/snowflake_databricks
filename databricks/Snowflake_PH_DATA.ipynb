{
 "cells": [
  {
   "cell_type": "code",
   "execution_count": 0,
   "metadata": {
    "application/vnd.databricks.v1+cell": {
     "cellMetadata": {
      "byteLimit": 2048000,
      "rowLimit": 10000
     },
     "collapsed": true,
     "inputWidgets": {},
     "nuid": "bd3abcf9-1fb0-4851-91cf-f39f02217926",
     "showTitle": false,
     "title": ""
    }
   },
   "outputs": [
    {
     "output_type": "stream",
     "name": "stdout",
     "output_type": "stream",
     "text": [
      "Collecting snowflake-connector-python\r\n  Obtaining dependency information for snowflake-connector-python from https://files.pythonhosted.org/packages/37/b7/729dee146a9129cd069f7e036709387965d58ab2fd82bf3cbb1a8904cddb/snowflake_connector_python-3.10.1-cp311-cp311-manylinux_2_17_x86_64.manylinux2014_x86_64.whl.metadata\r\n  Downloading snowflake_connector_python-3.10.1-cp311-cp311-manylinux_2_17_x86_64.manylinux2014_x86_64.whl.metadata (62 kB)\r\n\u001B[?25l     \u001B[90m━━━━━━━━━━━━━━━━━━━━━━━━━━━━━━━━━━━━━━━━\u001B[0m \u001B[32m0.0/62.6 kB\u001B[0m \u001B[31m?\u001B[0m eta \u001B[36m-:--:--\u001B[0m\r\u001B[2K     \u001B[90m━━━━━━━━━━━━━━━━━━━━━━━━━━━━━━━━━━━━━━━━\u001B[0m \u001B[32m62.6/62.6 kB\u001B[0m \u001B[31m3.1 MB/s\u001B[0m eta \u001B[36m0:00:00\u001B[0m\r\n\u001B[?25hCollecting asn1crypto<2.0.0,>0.24.0 (from snowflake-connector-python)\r\n  Obtaining dependency information for asn1crypto<2.0.0,>0.24.0 from https://files.pythonhosted.org/packages/c9/7f/09065fd9e27da0eda08b4d6897f1c13535066174cc023af248fc2a8d5e5a/asn1crypto-1.5.1-py2.py3-none-any.whl.metadata\r\n  Downloading asn1crypto-1.5.1-py2.py3-none-any.whl.metadata (13 kB)\r\nRequirement already satisfied: cffi<2.0.0,>=1.9 in /databricks/python3/lib/python3.11/site-packages (from snowflake-connector-python) (1.15.1)\r\nRequirement already satisfied: cryptography<43.0.0,>=3.1.0 in /databricks/python3/lib/python3.11/site-packages (from snowflake-connector-python) (41.0.3)\r\nCollecting pyOpenSSL<25.0.0,>=16.2.0 (from snowflake-connector-python)\r\n  Obtaining dependency information for pyOpenSSL<25.0.0,>=16.2.0 from https://files.pythonhosted.org/packages/54/a7/2104f674a5a6845b04c8ff01659becc6b8978ca410b82b94287e0b1e018b/pyOpenSSL-24.1.0-py3-none-any.whl.metadata\r\n  Downloading pyOpenSSL-24.1.0-py3-none-any.whl.metadata (12 kB)\r\nRequirement already satisfied: pyjwt<3.0.0 in /usr/lib/python3/dist-packages (from snowflake-connector-python) (2.3.0)\r\nRequirement already satisfied: pytz in /databricks/python3/lib/python3.11/site-packages (from snowflake-connector-python) (2022.7)\r\nRequirement already satisfied: requests<3.0.0 in /databricks/python3/lib/python3.11/site-packages (from snowflake-connector-python) (2.31.0)\r\nRequirement already satisfied: packaging in /databricks/python3/lib/python3.11/site-packages (from snowflake-connector-python) (23.2)\r\nRequirement already satisfied: charset-normalizer<4,>=2 in /databricks/python3/lib/python3.11/site-packages (from snowflake-connector-python) (2.0.4)\r\nRequirement already satisfied: idna<4,>=2.5 in /databricks/python3/lib/python3.11/site-packages (from snowflake-connector-python) (3.4)\r\nRequirement already satisfied: certifi>=2017.4.17 in /databricks/python3/lib/python3.11/site-packages (from snowflake-connector-python) (2023.7.22)\r\nRequirement already satisfied: typing-extensions<5,>=4.3 in /databricks/python3/lib/python3.11/site-packages (from snowflake-connector-python) (4.10.0)\r\nRequirement already satisfied: filelock<4,>=3.5 in /databricks/python3/lib/python3.11/site-packages (from snowflake-connector-python) (3.13.4)\r\nCollecting sortedcontainers>=2.4.0 (from snowflake-connector-python)\r\n  Obtaining dependency information for sortedcontainers>=2.4.0 from https://files.pythonhosted.org/packages/32/46/9cb0e58b2deb7f82b84065f37f3bffeb12413f947f9388e4cac22c4621ce/sortedcontainers-2.4.0-py2.py3-none-any.whl.metadata\r\n  Downloading sortedcontainers-2.4.0-py2.py3-none-any.whl.metadata (10 kB)\r\nRequirement already satisfied: platformdirs<5.0.0,>=2.6.0 in /databricks/python3/lib/python3.11/site-packages (from snowflake-connector-python) (3.10.0)\r\nCollecting tomlkit (from snowflake-connector-python)\r\n  Obtaining dependency information for tomlkit from https://files.pythonhosted.org/packages/73/6d/b5406752c4e4ba86692b22fab0afed8b48f16bdde8f92e1d852976b61dc6/tomlkit-0.12.5-py3-none-any.whl.metadata\r\n  Downloading tomlkit-0.12.5-py3-none-any.whl.metadata (2.7 kB)\r\nRequirement already satisfied: pycparser in /databricks/python3/lib/python3.11/site-packages (from cffi<2.0.0,>=1.9->snowflake-connector-python) (2.21)\r\nCollecting cryptography<43.0.0,>=3.1.0 (from snowflake-connector-python)\r\n  Obtaining dependency information for cryptography<43.0.0,>=3.1.0 from https://files.pythonhosted.org/packages/fa/e2/b7e6e8c261536c489d9cf908769880d94bd5d9a187e166b0dc838d2e6a56/cryptography-42.0.8-cp39-abi3-manylinux_2_28_x86_64.whl.metadata\r\n  Downloading cryptography-42.0.8-cp39-abi3-manylinux_2_28_x86_64.whl.metadata (5.3 kB)\r\nRequirement already satisfied: urllib3<3,>=1.21.1 in /databricks/python3/lib/python3.11/site-packages (from requests<3.0.0->snowflake-connector-python) (1.26.16)\r\nDownloading snowflake_connector_python-3.10.1-cp311-cp311-manylinux_2_17_x86_64.manylinux2014_x86_64.whl (2.5 MB)\r\n\u001B[?25l   \u001B[90m━━━━━━━━━━━━━━━━━━━━━━━━━━━━━━━━━━━━━━━━\u001B[0m \u001B[32m0.0/2.5 MB\u001B[0m \u001B[31m?\u001B[0m eta \u001B[36m-:--:--\u001B[0m\r\u001B[2K   \u001B[91m━━━━━━━━\u001B[0m\u001B[90m╺\u001B[0m\u001B[90m━━━━━━━━━━━━━━━━━━━━━━━━━━━━━━━\u001B[0m \u001B[32m0.5/2.5 MB\u001B[0m \u001B[31m16.4 MB/s\u001B[0m eta \u001B[36m0:00:01\u001B[0m\r\u001B[2K   \u001B[91m━━━━━━━━━━━━━━━━━━━━\u001B[0m\u001B[90m╺\u001B[0m\u001B[90m━━━━━━━━━━━━━━━━━━━\u001B[0m \u001B[32m1.3/2.5 MB\u001B[0m \u001B[31m17.4 MB/s\u001B[0m eta \u001B[36m0:00:01\u001B[0m\r\u001B[2K   \u001B[91m━━━━━━━━━━━━━━━━━━━━━━━━━━━━━━━━━\u001B[0m\u001B[90m╺\u001B[0m\u001B[90m━━━━━━\u001B[0m \u001B[32m2.1/2.5 MB\u001B[0m \u001B[31m19.2 MB/s\u001B[0m eta \u001B[36m0:00:01\u001B[0m\r\u001B[2K   \u001B[90m━━━━━━━━━━━━━━━━━━━━━━━━━━━━━━━━━━━━━━━━\u001B[0m \u001B[32m2.5/2.5 MB\u001B[0m \u001B[31m17.8 MB/s\u001B[0m eta \u001B[36m0:00:00\u001B[0m\r\n\u001B[?25hDownloading asn1crypto-1.5.1-py2.py3-none-any.whl (105 kB)\r\n\u001B[?25l   \u001B[90m━━━━━━━━━━━━━━━━━━━━━━━━━━━━━━━━━━━━━━━━\u001B[0m \u001B[32m0.0/105.0 kB\u001B[0m \u001B[31m?\u001B[0m eta \u001B[36m-:--:--\u001B[0m\r\u001B[2K   \u001B[90m━━━━━━━━━━━━━━━━━━━━━━━━━━━━━━━━━━━━━━━━\u001B[0m \u001B[32m105.0/105.0 kB\u001B[0m \u001B[31m20.2 MB/s\u001B[0m eta \u001B[36m0:00:00\u001B[0m\r\n\u001B[?25hDownloading pyOpenSSL-24.1.0-py3-none-any.whl (56 kB)\r\n\u001B[?25l   \u001B[90m━━━━━━━━━━━━━━━━━━━━━━━━━━━━━━━━━━━━━━━━\u001B[0m \u001B[32m0.0/56.9 kB\u001B[0m \u001B[31m?\u001B[0m eta \u001B[36m-:--:--\u001B[0m\r\u001B[2K   \u001B[90m━━━━━━━━━━━━━━━━━━━━━━━━━━━━━━━━━━━━━━━━\u001B[0m \u001B[32m56.9/56.9 kB\u001B[0m \u001B[31m11.8 MB/s\u001B[0m eta \u001B[36m0:00:00\u001B[0m\r\n\u001B[?25hDownloading cryptography-42.0.8-cp39-abi3-manylinux_2_28_x86_64.whl (3.9 MB)\r\n\u001B[?25l   \u001B[90m━━━━━━━━━━━━━━━━━━━━━━━━━━━━━━━━━━━━━━━━\u001B[0m \u001B[32m0.0/3.9 MB\u001B[0m \u001B[31m?\u001B[0m eta \u001B[36m-:--:--\u001B[0m\r\u001B[2K   \u001B[91m━━━━━━━━━━━\u001B[0m\u001B[91m╸\u001B[0m\u001B[90m━━━━━━━━━━━━━━━━━━━━━━━━━━━━\u001B[0m \u001B[32m1.1/3.9 MB\u001B[0m \u001B[31m34.2 MB/s\u001B[0m eta \u001B[36m0:00:01\u001B[0m\r\u001B[2K   \u001B[91m━━━━━━━━━━━━━━━━━━━━━━━━━━━\u001B[0m\u001B[90m╺\u001B[0m\u001B[90m━━━━━━━━━━━━\u001B[0m \u001B[32m2.6/3.9 MB\u001B[0m \u001B[31m37.9 MB/s\u001B[0m eta \u001B[36m0:00:01\u001B[0m\r\u001B[2K   \u001B[91m━━━━━━━━━━━━━━━━━━━━━━━━━━━━━━━━━━━━━━━\u001B[0m\u001B[91m╸\u001B[0m \u001B[32m3.9/3.9 MB\u001B[0m \u001B[31m40.4 MB/s\u001B[0m eta \u001B[36m0:00:01\u001B[0m\r\u001B[2K   \u001B[90m━━━━━━━━━━━━━━━━━━━━━━━━━━━━━━━━━━━━━━━━\u001B[0m \u001B[32m3.9/3.9 MB\u001B[0m \u001B[31m32.0 MB/s\u001B[0m eta \u001B[36m0:00:00\u001B[0m\r\n\u001B[?25hDownloading sortedcontainers-2.4.0-py2.py3-none-any.whl (29 kB)\r\nDownloading tomlkit-0.12.5-py3-none-any.whl (37 kB)\r\nInstalling collected packages: sortedcontainers, asn1crypto, tomlkit, cryptography, pyOpenSSL, snowflake-connector-python\r\n  Attempting uninstall: cryptography\r\n    Found existing installation: cryptography 41.0.3\r\n    Not uninstalling cryptography at /databricks/python3/lib/python3.11/site-packages, outside environment /local_disk0/.ephemeral_nfs/envs/pythonEnv-52240efc-f3b8-4ab0-a424-85af079d7fd4\r\n    Can't uninstall 'cryptography'. No files were found to uninstall.\r\nSuccessfully installed asn1crypto-1.5.1 cryptography-42.0.8 pyOpenSSL-24.1.0 snowflake-connector-python-3.10.1 sortedcontainers-2.4.0 tomlkit-0.12.5\r\n\r\n\u001B[1m[\u001B[0m\u001B[34;49mnotice\u001B[0m\u001B[1;39;49m]\u001B[0m\u001B[39;49m A new release of pip is available: \u001B[0m\u001B[31;49m23.2.1\u001B[0m\u001B[39;49m -> \u001B[0m\u001B[32;49m24.0\u001B[0m\r\n\u001B[1m[\u001B[0m\u001B[34;49mnotice\u001B[0m\u001B[1;39;49m]\u001B[0m\u001B[39;49m To update, run: \u001B[0m\u001B[32;49mpip install --upgrade pip\u001B[0m\r\n"
     ]
    }
   ],
   "source": [
    "!pip3 install snowflake-connector-python"
   ]
  },
  {
   "cell_type": "code",
   "execution_count": 0,
   "metadata": {
    "application/vnd.databricks.v1+cell": {
     "cellMetadata": {
      "byteLimit": 2048000,
      "rowLimit": 10000
     },
     "inputWidgets": {},
     "nuid": "913ed36c-39a3-40a4-97bd-5ca23ec1cb4e",
     "showTitle": false,
     "title": ""
    }
   },
   "outputs": [],
   "source": [
    "import pandas as pd\n",
    "import snowflake.connector\n",
    "from snowflake.connector.pandas_tools import write_pandas"
   ]
  },
  {
   "cell_type": "code",
   "execution_count": 0,
   "metadata": {
    "application/vnd.databricks.v1+cell": {
     "cellMetadata": {
      "byteLimit": 2048000,
      "rowLimit": 10000
     },
     "inputWidgets": {},
     "nuid": "04d6fe7f-a021-4310-b080-77bc572a5727",
     "showTitle": false,
     "title": ""
    }
   },
   "outputs": [],
   "source": [
    "# airports = pd.read_csv(\"/dbfs/FileStore/ph_data/airports.csv\")\n",
    "\n",
    "df_airports = spark.read.format('csv').options(header='true').load('dbfs:/FileStore/ph_data/airports.csv')\n"
   ]
  },
  {
   "cell_type": "code",
   "execution_count": 0,
   "metadata": {
    "application/vnd.databricks.v1+cell": {
     "cellMetadata": {
      "byteLimit": 2048000,
      "rowLimit": 10000
     },
     "inputWidgets": {},
     "nuid": "3cbe1371-6874-4797-a7da-20f674a545b9",
     "showTitle": false,
     "title": ""
    }
   },
   "outputs": [
    {
     "output_type": "display_data",
     "data": {
      "text/html": [
       "<style scoped>\n",
       "  .table-result-container {\n",
       "    max-height: 300px;\n",
       "    overflow: auto;\n",
       "  }\n",
       "  table, th, td {\n",
       "    border: 1px solid black;\n",
       "    border-collapse: collapse;\n",
       "  }\n",
       "  th, td {\n",
       "    padding: 5px;\n",
       "  }\n",
       "  th {\n",
       "    text-align: left;\n",
       "  }\n",
       "</style><div class='table-result-container'><table class='table-result'><thead style='background-color: white'><tr><th>IATA_CODE</th><th>AIRPORT</th><th>CITY</th><th>STATE</th><th>COUNTRY</th><th>LATITUDE</th><th>LONGITUDE</th></tr></thead><tbody><tr><td>ABE</td><td>Lehigh Valley International Airport</td><td>Allentown</td><td>PA</td><td>USA</td><td>40.65236</td><td>-75.44040</td></tr><tr><td>ABI</td><td>Abilene Regional Airport</td><td>Abilene</td><td>TX</td><td>USA</td><td>32.41132</td><td>-99.68190</td></tr><tr><td>ABQ</td><td>Albuquerque International Sunport</td><td>Albuquerque</td><td>NM</td><td>USA</td><td>35.04022</td><td>-106.60919</td></tr><tr><td>ABR</td><td>Aberdeen Regional Airport</td><td>Aberdeen</td><td>SD</td><td>USA</td><td>45.44906</td><td>-98.42183</td></tr><tr><td>ABY</td><td>Southwest Georgia Regional Airport</td><td>Albany</td><td>GA</td><td>USA</td><td>31.53552</td><td>-84.19447</td></tr><tr><td>ACK</td><td>Nantucket Memorial Airport</td><td>Nantucket</td><td>MA</td><td>USA</td><td>41.25305</td><td>-70.06018</td></tr><tr><td>ACT</td><td>Waco Regional Airport</td><td>Waco</td><td>TX</td><td>USA</td><td>31.61129</td><td>-97.23052</td></tr><tr><td>ACV</td><td>Arcata Airport</td><td>Arcata/Eureka</td><td>CA</td><td>USA</td><td>40.97812</td><td>-124.10862</td></tr><tr><td>ACY</td><td>Atlantic City International Airport</td><td>Atlantic City</td><td>NJ</td><td>USA</td><td>39.45758</td><td>-74.57717</td></tr><tr><td>ADK</td><td>Adak Airport</td><td>Adak</td><td>AK</td><td>USA</td><td>51.87796</td><td>-176.64603</td></tr><tr><td>ADQ</td><td>Kodiak Airport</td><td>Kodiak</td><td>AK</td><td>USA</td><td>57.74997</td><td>-152.49386</td></tr><tr><td>AEX</td><td>Alexandria International Airport</td><td>Alexandria</td><td>LA</td><td>USA</td><td>31.32737</td><td>-92.54856</td></tr><tr><td>AGS</td><td>Augusta Regional Airport (Bush Field)</td><td>Augusta</td><td>GA</td><td>USA</td><td>33.36996</td><td>-81.96450</td></tr><tr><td>AKN</td><td>King Salmon Airport</td><td>King Salmon</td><td>AK</td><td>USA</td><td>58.67680</td><td>-156.64922</td></tr><tr><td>ALB</td><td>Albany International Airport</td><td>Albany</td><td>NY</td><td>USA</td><td>42.74812</td><td>-73.80298</td></tr><tr><td>ALO</td><td>Waterloo Regional Airport</td><td>Waterloo</td><td>IA</td><td>USA</td><td>42.55708</td><td>-92.40034</td></tr><tr><td>AMA</td><td>Rick Husband Amarillo International Airport</td><td>Amarillo</td><td>TX</td><td>USA</td><td>35.21937</td><td>-101.70593</td></tr><tr><td>ANC</td><td>Ted Stevens Anchorage International Airport</td><td>Anchorage</td><td>AK</td><td>USA</td><td>61.17432</td><td>-149.99619</td></tr><tr><td>APN</td><td>Alpena County Regional Airport</td><td>Alpena</td><td>MI</td><td>USA</td><td>45.07807</td><td>-83.56029</td></tr><tr><td>ASE</td><td>Aspen-Pitkin County Airport</td><td>Aspen</td><td>CO</td><td>USA</td><td>39.22316</td><td>-106.86885</td></tr><tr><td>ATL</td><td>Hartsfield-Jackson Atlanta International Airport</td><td>Atlanta</td><td>GA</td><td>USA</td><td>33.64044</td><td>-84.42694</td></tr><tr><td>ATW</td><td>Appleton International Airport</td><td>Appleton</td><td>WI</td><td>USA</td><td>44.25741</td><td>-88.51948</td></tr><tr><td>AUS</td><td>Austin-Bergstrom International Airport</td><td>Austin</td><td>TX</td><td>USA</td><td>30.19453</td><td>-97.66987</td></tr><tr><td>AVL</td><td>Asheville Regional Airport</td><td>Asheville</td><td>NC</td><td>USA</td><td>35.43619</td><td>-82.54181</td></tr><tr><td>AVP</td><td>Wilkes-Barre/Scranton International Airport</td><td>Wilkes-Barre/Scranton</td><td>PA</td><td>USA</td><td>41.33815</td><td>-75.72427</td></tr><tr><td>AZO</td><td>Kalamazoo/Battle Creek International Airport</td><td>Kalamazoo</td><td>MI</td><td>USA</td><td>42.23488</td><td>-85.55206</td></tr><tr><td>BDL</td><td>Bradley International Airport</td><td>Windsor Locks</td><td>CT</td><td>USA</td><td>41.93887</td><td>-72.68323</td></tr><tr><td>BET</td><td>Bethel Airport</td><td>Bethel</td><td>AK</td><td>USA</td><td>60.77978</td><td>-161.83800</td></tr><tr><td>BFL</td><td>Meadows Field</td><td>Bakersfield</td><td>CA</td><td>USA</td><td>35.43360</td><td>-119.05677</td></tr><tr><td>BGM</td><td>Greater Binghamton Airport</td><td>Binghamton</td><td>NY</td><td>USA</td><td>42.20848</td><td>-75.97961</td></tr><tr><td>BGR</td><td>Bangor International Airport</td><td>Bangor</td><td>ME</td><td>USA</td><td>44.80744</td><td>-68.82814</td></tr><tr><td>BHM</td><td>Birmingham-Shuttlesworth International Airport</td><td>Birmingham</td><td>AL</td><td>USA</td><td>33.56294</td><td>-86.75355</td></tr><tr><td>BIL</td><td>Billings Logan International Airport</td><td>Billings</td><td>MT</td><td>USA</td><td>45.80766</td><td>-108.54286</td></tr><tr><td>BIS</td><td>Bismarck Municipal Airport</td><td>Bismarck</td><td>ND</td><td>USA</td><td>46.77411</td><td>-100.74672</td></tr><tr><td>BJI</td><td>Bemidji Regional Airport</td><td>Bemidji</td><td>MN</td><td>USA</td><td>47.50942</td><td>-94.93372</td></tr><tr><td>BLI</td><td>Bellingham International Airport</td><td>Bellingham</td><td>WA</td><td>USA</td><td>48.79275</td><td>-122.53753</td></tr><tr><td>BMI</td><td>Central Illinois Regional Airport at Bloomington-Normal</td><td>Bloomington</td><td>IL</td><td>USA</td><td>40.47799</td><td>-88.91595</td></tr><tr><td>BNA</td><td>Nashville International Airport</td><td>Nashville</td><td>TN</td><td>USA</td><td>36.12448</td><td>-86.67818</td></tr><tr><td>BOI</td><td>Boise Airport (Boise Air Terminal)</td><td>Boise</td><td>ID</td><td>USA</td><td>43.56444</td><td>-116.22278</td></tr><tr><td>BOS</td><td>Gen. Edward Lawrence Logan International Airport</td><td>Boston</td><td>MA</td><td>USA</td><td>42.36435</td><td>-71.00518</td></tr><tr><td>BPT</td><td>Jack Brooks Regional Airport (Southeast Texas Regional)</td><td>Beaumont/Port Arthur</td><td>TX</td><td>USA</td><td>29.95083</td><td>-94.02069</td></tr><tr><td>BQK</td><td>Brunswick Golden Isles Airport</td><td>Brunswick</td><td>GA</td><td>USA</td><td>31.25903</td><td>-81.46631</td></tr><tr><td>BQN</td><td>Rafael Hernández Airport</td><td>Aguadilla</td><td>PR</td><td>USA</td><td>18.49486</td><td>-67.12944</td></tr><tr><td>BRD</td><td>Brainerd Lakes Regional Airport</td><td>Brainerd</td><td>MN</td><td>USA</td><td>46.39786</td><td>-94.13723</td></tr><tr><td>BRO</td><td>Brownsville/South Padre Island International Airport</td><td>Brownsville</td><td>TX</td><td>USA</td><td>25.90683</td><td>-97.42586</td></tr><tr><td>BRW</td><td>Wiley Post-Will Rogers Memorial Airport</td><td>Barrow</td><td>AK</td><td>USA</td><td>71.28545</td><td>-156.76600</td></tr><tr><td>BTM</td><td>Bert Mooney Airport</td><td>Butte</td><td>MT</td><td>USA</td><td>45.95480</td><td>-112.49746</td></tr><tr><td>BTR</td><td>Baton Rouge Metropolitan Airport</td><td>Baton Rouge</td><td>LA</td><td>USA</td><td>30.53316</td><td>-91.14963</td></tr><tr><td>BTV</td><td>Burlington International Airport</td><td>Burlington</td><td>VT</td><td>USA</td><td>44.47300</td><td>-73.15031</td></tr><tr><td>BUF</td><td>Buffalo Niagara International Airport</td><td>Buffalo</td><td>NY</td><td>USA</td><td>42.94052</td><td>-78.73217</td></tr><tr><td>BUR</td><td>Bob Hope Airport (Hollywood Burbank Airport)</td><td>Burbank</td><td>CA</td><td>USA</td><td>34.20062</td><td>-118.35850</td></tr><tr><td>BWI</td><td>Baltimore-Washington International Airport</td><td>Baltimore</td><td>MD</td><td>USA</td><td>39.17540</td><td>-76.66820</td></tr><tr><td>BZN</td><td>Bozeman Yellowstone International Airport (Gallatin Field Airport)</td><td>Bozeman</td><td>MT</td><td>USA</td><td>45.77690</td><td>-111.15301</td></tr><tr><td>CAE</td><td>Columbia Metropolitan Airport</td><td>Columbia</td><td>SC</td><td>USA</td><td>33.93884</td><td>-81.11954</td></tr><tr><td>CAK</td><td>Akron-Canton Regional Airport</td><td>Akron</td><td>OH</td><td>USA</td><td>40.91631</td><td>-81.44247</td></tr><tr><td>CDC</td><td>Cedar City Regional Airport</td><td>Cedar City</td><td>UT</td><td>USA</td><td>37.70097</td><td>-113.09858</td></tr><tr><td>CDV</td><td>Merle K. (Mudhole) Smith Airport</td><td>Cordova</td><td>AK</td><td>USA</td><td>60.49183</td><td>-145.47765</td></tr><tr><td>CEC</td><td>Del Norte County Airport (Jack McNamara Field)</td><td>Crescent City</td><td>CA</td><td>USA</td><td>41.78016</td><td>-124.23653</td></tr><tr><td>CHA</td><td>Chattanooga Metropolitan Airport (Lovell Field)</td><td>Chattanooga</td><td>TN</td><td>USA</td><td>35.03527</td><td>-85.20379</td></tr><tr><td>CHO</td><td>Charlottesville-Albemarle Airport</td><td>Charlottesville</td><td>VA</td><td>USA</td><td>38.13864</td><td>-78.45286</td></tr><tr><td>CHS</td><td>Charleston International Airport/Charleston AFB</td><td>Charleston</td><td>SC</td><td>USA</td><td>32.89865</td><td>-80.04051</td></tr><tr><td>CID</td><td>The Eastern Iowa Airport</td><td>Cedar Rapids</td><td>IA</td><td>USA</td><td>41.88459</td><td>-91.71087</td></tr><tr><td>CIU</td><td>Chippewa County International Airport</td><td>Sault Ste. Marie</td><td>MI</td><td>USA</td><td>46.25075</td><td>-84.47239</td></tr><tr><td>CLD</td><td>McClellan-Palomar Airport</td><td>San Diego</td><td>CA</td><td>USA</td><td>33.12723</td><td>-117.27873</td></tr><tr><td>CLE</td><td>Cleveland Hopkins International Airport</td><td>Cleveland</td><td>OH</td><td>USA</td><td>41.41089</td><td>-81.84940</td></tr><tr><td>CLL</td><td>Easterwood Airport</td><td>College Station</td><td>TX</td><td>USA</td><td>30.58859</td><td>-96.36382</td></tr><tr><td>CLT</td><td>Charlotte Douglas International Airport</td><td>Charlotte</td><td>NC</td><td>USA</td><td>35.21401</td><td>-80.94313</td></tr><tr><td>CMH</td><td>Port Columbus International Airport</td><td>Columbus</td><td>OH</td><td>USA</td><td>39.99799</td><td>-82.89188</td></tr><tr><td>CMI</td><td>University of Illinois - Willard Airport</td><td>Champaign/Urbana</td><td>IL</td><td>USA</td><td>40.03925</td><td>-88.27806</td></tr><tr><td>CMX</td><td>Houghton County Memorial Airport</td><td>Hancock</td><td>MI</td><td>USA</td><td>47.16842</td><td>-88.48906</td></tr><tr><td>CNY</td><td>Canyonlands Field</td><td>Moab</td><td>UT</td><td>USA</td><td>38.75496</td><td>-109.75484</td></tr><tr><td>COD</td><td>Yellowstone Regional Airport</td><td>Cody</td><td>WY</td><td>USA</td><td>44.52019</td><td>-109.02380</td></tr><tr><td>COS</td><td>City of Colorado Springs Municipal Airport</td><td>Colorado Springs</td><td>CO</td><td>USA</td><td>38.80581</td><td>-104.70025</td></tr><tr><td>COU</td><td>Columbia Regional Airport</td><td>Columbia</td><td>MO</td><td>USA</td><td>38.81809</td><td>-92.21963</td></tr><tr><td>CPR</td><td>Natrona County International Airport</td><td>Casper</td><td>WY</td><td>USA</td><td>42.90836</td><td>-106.46447</td></tr><tr><td>CRP</td><td>Corpus Christi International Airport</td><td>Corpus Christi</td><td>TX</td><td>USA</td><td>27.77036</td><td>-97.50122</td></tr><tr><td>CRW</td><td>Yeager Airport</td><td>Charleston</td><td>WV</td><td>USA</td><td>38.37315</td><td>-81.59319</td></tr><tr><td>CSG</td><td>Columbus Metropolitan Airport</td><td>Columbus</td><td>GA</td><td>USA</td><td>32.51633</td><td>-84.93886</td></tr><tr><td>CVG</td><td>Cincinnati/Northern Kentucky International Airport</td><td>Covington</td><td>KY</td><td>USA</td><td>39.04614</td><td>-84.66217</td></tr><tr><td>CWA</td><td>Central Wisconsin Airport</td><td>Mosinee</td><td>WI</td><td>USA</td><td>44.77762</td><td>-89.66678</td></tr><tr><td>DAB</td><td>Daytona Beach International Airport</td><td>Daytona Beach</td><td>FL</td><td>USA</td><td>29.17992</td><td>-81.05806</td></tr><tr><td>DAL</td><td>Dallas Love Field</td><td>Dallas</td><td>TX</td><td>USA</td><td>32.84711</td><td>-96.85177</td></tr><tr><td>DAY</td><td>James M. Cox Dayton International Airport</td><td>Dayton</td><td>OH</td><td>USA</td><td>39.90238</td><td>-84.21938</td></tr><tr><td>DBQ</td><td>Dubuque Regional Airport</td><td>Dubuque</td><td>IA</td><td>USA</td><td>42.40296</td><td>-90.70917</td></tr><tr><td>DCA</td><td>Ronald Reagan Washington National Airport</td><td>Arlington</td><td>VA</td><td>USA</td><td>38.85208</td><td>-77.03772</td></tr><tr><td>DEN</td><td>Denver International Airport</td><td>Denver</td><td>CO</td><td>USA</td><td>39.85841</td><td>-104.66700</td></tr><tr><td>DFW</td><td>Dallas/Fort Worth International Airport</td><td>Dallas-Fort Worth</td><td>TX</td><td>USA</td><td>32.89595</td><td>-97.03720</td></tr><tr><td>DHN</td><td>Dothan Regional Airport</td><td>Dothan</td><td>AL</td><td>USA</td><td>31.32134</td><td>-85.44963</td></tr><tr><td>DIK</td><td>Dickinson Theodore Roosevelt Regional Airport</td><td>Dickinson</td><td>ND</td><td>USA</td><td>46.79739</td><td>-102.80195</td></tr><tr><td>DLG</td><td>Dillingham Airport</td><td>Dillingham</td><td>AK</td><td>USA</td><td>59.04541</td><td>-158.50334</td></tr><tr><td>DLH</td><td>Duluth International Airport</td><td>Duluth</td><td>MN</td><td>USA</td><td>46.84209</td><td>-92.19365</td></tr><tr><td>DRO</td><td>Durango-La Plata County Airport</td><td>Durango</td><td>CO</td><td>USA</td><td>37.15152</td><td>-107.75377</td></tr><tr><td>DSM</td><td>Des Moines International Airport</td><td>Des Moines</td><td>IA</td><td>USA</td><td>41.53493</td><td>-93.66068</td></tr><tr><td>DTW</td><td>Detroit Metropolitan Airport</td><td>Detroit</td><td>MI</td><td>USA</td><td>42.21206</td><td>-83.34884</td></tr><tr><td>DVL</td><td>Devils Lake Regional Airport</td><td>Devils Lake</td><td>ND</td><td>USA</td><td>48.11425</td><td>-98.90878</td></tr><tr><td>EAU</td><td>Chippewa Valley Regional Airport</td><td>Eau Claire</td><td>WI</td><td>USA</td><td>44.86526</td><td>-91.48507</td></tr><tr><td>ECP</td><td>Northwest Florida Beaches International Airport</td><td>Panama City</td><td>FL</td><td>USA</td><td>null</td><td>null</td></tr><tr><td>EGE</td><td>Eagle County Regional Airport</td><td>Eagle</td><td>CO</td><td>USA</td><td>39.64257</td><td>-106.91770</td></tr><tr><td>EKO</td><td>Elko Regional Airport</td><td>Elko</td><td>NV</td><td>USA</td><td>40.82493</td><td>-115.79170</td></tr><tr><td>ELM</td><td>Elmira/Corning Regional Airport</td><td>Elmira</td><td>NY</td><td>USA</td><td>42.15991</td><td>-76.89144</td></tr><tr><td>ELP</td><td>El Paso International Airport</td><td>El Paso</td><td>TX</td><td>USA</td><td>31.80667</td><td>-106.37781</td></tr><tr><td>ERI</td><td>Erie International Airport</td><td>Erie</td><td>PA</td><td>USA</td><td>42.08202</td><td>-80.17622</td></tr><tr><td>ESC</td><td>Delta County Airport</td><td>Escanaba</td><td>MI</td><td>USA</td><td>45.72267</td><td>-87.09373</td></tr><tr><td>EUG</td><td>Eugene Airport (Mahlon Sweet Field)</td><td>Eugene</td><td>OR</td><td>USA</td><td>44.12326</td><td>-123.21869</td></tr><tr><td>EVV</td><td>Evansville Regional Airport</td><td>Evansville</td><td>IN</td><td>USA</td><td>38.03799</td><td>-87.53063</td></tr><tr><td>EWN</td><td>Coastal Carolina Regional Airport (Craven County Regional)</td><td>New Bern</td><td>NC</td><td>USA</td><td>35.07297</td><td>-77.04294</td></tr><tr><td>EWR</td><td>Newark Liberty International Airport</td><td>Newark</td><td>NJ</td><td>USA</td><td>40.69250</td><td>-74.16866</td></tr><tr><td>EYW</td><td>Key West International Airport</td><td>Key West</td><td>FL</td><td>USA</td><td>24.55611</td><td>-81.75956</td></tr><tr><td>FAI</td><td>Fairbanks International Airport</td><td>Fairbanks</td><td>AK</td><td>USA</td><td>64.81368</td><td>-147.85967</td></tr><tr><td>FAR</td><td>Hector International Airport</td><td>Fargo</td><td>ND</td><td>USA</td><td>46.91935</td><td>-96.81499</td></tr><tr><td>FAT</td><td>Fresno Yosemite International Airport</td><td>Fresno</td><td>CA</td><td>USA</td><td>36.77619</td><td>-119.71814</td></tr><tr><td>FAY</td><td>Fayetteville Regional Airport</td><td>Fayetteville</td><td>NC</td><td>USA</td><td>34.99147</td><td>-78.88000</td></tr><tr><td>FCA</td><td>Glacier Park International Airport</td><td>Kalispell</td><td>MT</td><td>USA</td><td>48.31140</td><td>-114.25507</td></tr><tr><td>FLG</td><td>Flagstaff Pulliam Airport</td><td>Flagstaff</td><td>AZ</td><td>USA</td><td>35.13845</td><td>-111.67122</td></tr><tr><td>FLL</td><td>Fort Lauderdale-Hollywood International Airport</td><td>Ft. Lauderdale</td><td>FL</td><td>USA</td><td>26.07258</td><td>-80.15275</td></tr><tr><td>FNT</td><td>Bishop International Airport</td><td>Flint</td><td>MI</td><td>USA</td><td>42.96550</td><td>-83.74346</td></tr><tr><td>FSD</td><td>Sioux Falls Regional Airport</td><td>Sioux Falls</td><td>SD</td><td>USA</td><td>43.58135</td><td>-96.74170</td></tr><tr><td>FSM</td><td>Fort Smith Regional Airport</td><td>Fort Smith</td><td>AR</td><td>USA</td><td>35.33659</td><td>-94.36744</td></tr><tr><td>FWA</td><td>Fort Wayne International Airport</td><td>Fort Wayne</td><td>IN</td><td>USA</td><td>40.97847</td><td>-85.19515</td></tr><tr><td>GCC</td><td>Gillette-Campbell County Airport</td><td>Gillette</td><td>WY</td><td>USA</td><td>44.34890</td><td>-105.53936</td></tr><tr><td>GCK</td><td>Garden City Regional Airport</td><td>Garden City</td><td>KS</td><td>USA</td><td>37.92752</td><td>-100.72441</td></tr><tr><td>GEG</td><td>Spokane International Airport</td><td>Spokane</td><td>WA</td><td>USA</td><td>47.61986</td><td>-117.53384</td></tr><tr><td>GFK</td><td>Grand Forks International Airport</td><td>Grand Forks</td><td>ND</td><td>USA</td><td>47.94926</td><td>-97.17611</td></tr><tr><td>GGG</td><td>East Texas Regional Airport</td><td>Longview</td><td>TX</td><td>USA</td><td>32.38486</td><td>-94.71171</td></tr><tr><td>GJT</td><td>Grand Junction Regional Airport (Walker Field)</td><td>Grand Junction</td><td>CO</td><td>USA</td><td>39.12241</td><td>-108.52673</td></tr><tr><td>GNV</td><td>Gainesville Regional Airport</td><td>Gainesville</td><td>FL</td><td>USA</td><td>29.69006</td><td>-82.27178</td></tr><tr><td>GPT</td><td>Gulfport-Biloxi International Airport</td><td>Gulfport-Biloxi</td><td>MS</td><td>USA</td><td>30.40728</td><td>-89.07009</td></tr><tr><td>GRB</td><td>Green Bay-Austin Straubel International Airport</td><td>Green Bay</td><td>WI</td><td>USA</td><td>44.48507</td><td>-88.12959</td></tr><tr><td>GRI</td><td>Central Nebraska Regional Airport</td><td>Grand Island</td><td>NE</td><td>USA</td><td>40.96747</td><td>-98.30861</td></tr><tr><td>GRK</td><td>Killeen-Fort Hood Regional Airport</td><td>Killeen</td><td>TX</td><td>USA</td><td>31.06490</td><td>-97.82780</td></tr><tr><td>GRR</td><td>Gerald R. Ford International Airport</td><td>Grand Rapids</td><td>MI</td><td>USA</td><td>42.88082</td><td>-85.52277</td></tr><tr><td>GSO</td><td>Piedmont Triad International Airport</td><td>Greensboro</td><td>NC</td><td>USA</td><td>36.09775</td><td>-79.93730</td></tr><tr><td>GSP</td><td>Greenville-Spartanburg International Airport</td><td>Greer</td><td>SC</td><td>USA</td><td>34.89567</td><td>-82.21886</td></tr><tr><td>GST</td><td>Gustavus Airport</td><td>Gustavus</td><td>AK</td><td>USA</td><td>58.42438</td><td>-135.70738</td></tr><tr><td>GTF</td><td>Great Falls International Airport</td><td>Great Falls</td><td>MT</td><td>USA</td><td>47.48200</td><td>-111.37069</td></tr><tr><td>GTR</td><td>Golden Triangle Regional Airport</td><td>Columbus-Starkville-West Point</td><td>MS</td><td>USA</td><td>33.45033</td><td>-88.59137</td></tr><tr><td>GUC</td><td>Gunnison-Crested Butte Regional Airport</td><td>Gunnison</td><td>CO</td><td>USA</td><td>38.53396</td><td>-106.93318</td></tr><tr><td>GUM</td><td>Guam International Airport</td><td>Agana</td><td>GU</td><td>USA</td><td>13.48345</td><td>-144.79598</td></tr><tr><td>HDN</td><td>Yampa Valley Airport (Yampa Valley Regional)</td><td>Hayden</td><td>CO</td><td>USA</td><td>40.48118</td><td>-107.21766</td></tr><tr><td>HIB</td><td>Range Regional Airport (Chisholm-Hibbing Airport)</td><td>Hibbing</td><td>MN</td><td>USA</td><td>47.38660</td><td>-92.83899</td></tr><tr><td>HLN</td><td>Helena Regional Airport</td><td>Helena</td><td>MT</td><td>USA</td><td>46.60682</td><td>-111.98275</td></tr><tr><td>HNL</td><td>Honolulu International Airport</td><td>Honolulu</td><td>HI</td><td>USA</td><td>21.31869</td><td>-157.92241</td></tr><tr><td>HOB</td><td>Lea County Regional Airport</td><td>Hobbs</td><td>NM</td><td>USA</td><td>32.68753</td><td>-103.21703</td></tr><tr><td>HOU</td><td>William P. Hobby Airport</td><td>Houston</td><td>TX</td><td>USA</td><td>29.64542</td><td>-95.27889</td></tr><tr><td>HPN</td><td>Westchester County Airport</td><td>White Plains</td><td>NY</td><td>USA</td><td>41.06696</td><td>-73.70757</td></tr><tr><td>HRL</td><td>Valley International Airport</td><td>Harlingen</td><td>TX</td><td>USA</td><td>26.22851</td><td>-97.65439</td></tr><tr><td>HSV</td><td>Huntsville International Airport</td><td>Huntsville</td><td>AL</td><td>USA</td><td>34.64045</td><td>-86.77311</td></tr><tr><td>HYA</td><td>Barnstable Municipal Airport</td><td>Hyannis</td><td>MA</td><td>USA</td><td>41.66934</td><td>-70.28036</td></tr><tr><td>HYS</td><td>Hays Regional Airport</td><td>Hays</td><td>KS</td><td>USA</td><td>38.84494</td><td>-99.27403</td></tr><tr><td>IAD</td><td>Washington Dulles International Airport</td><td>Chantilly</td><td>VA</td><td>USA</td><td>38.94453</td><td>-77.45581</td></tr><tr><td>IAG</td><td>Niagara Falls International Airport</td><td>Niagara Falls</td><td>NY</td><td>USA</td><td>43.10726</td><td>-78.94538</td></tr><tr><td>IAH</td><td>George Bush Intercontinental Airport</td><td>Houston</td><td>TX</td><td>USA</td><td>29.98047</td><td>-95.33972</td></tr><tr><td>ICT</td><td>Wichita Dwight D. Eisenhower National Airport (Wichita Mid-Continent Airport)</td><td>Wichita</td><td>KS</td><td>USA</td><td>37.64996</td><td>-97.43305</td></tr><tr><td>IDA</td><td>Idaho Falls Regional Airport</td><td>Idaho Falls</td><td>ID</td><td>USA</td><td>43.51456</td><td>-112.07017</td></tr><tr><td>ILG</td><td>Wilmington Airport</td><td>Wilmington</td><td>DE</td><td>USA</td><td>39.67872</td><td>-75.60653</td></tr><tr><td>ILM</td><td>Wilmington International Airport</td><td>Wilmington</td><td>NC</td><td>USA</td><td>34.27061</td><td>-77.90256</td></tr><tr><td>IMT</td><td>Ford Airport</td><td>Iron Mountain/Kingsford</td><td>MI</td><td>USA</td><td>45.81835</td><td>-88.11454</td></tr><tr><td>IND</td><td>Indianapolis International Airport</td><td>Indianapolis</td><td>IN</td><td>USA</td><td>39.71733</td><td>-86.29438</td></tr><tr><td>INL</td><td>Falls International Airport</td><td>International Falls</td><td>MN</td><td>USA</td><td>48.56619</td><td>-93.40307</td></tr><tr><td>ISN</td><td>Sloulin Field International Airport</td><td>Williston</td><td>ND</td><td>USA</td><td>48.17794</td><td>-103.64235</td></tr><tr><td>ISP</td><td>Long Island MacArthur Airport</td><td>Islip</td><td>NY</td><td>USA</td><td>40.79524</td><td>-73.10021</td></tr><tr><td>ITH</td><td>Ithaca Tompkins Regional Airport</td><td>Ithaca</td><td>NY</td><td>USA</td><td>42.49103</td><td>-76.45844</td></tr><tr><td>ITO</td><td>Hilo International Airport</td><td>Hilo</td><td>HI</td><td>USA</td><td>19.72026</td><td>-155.04847</td></tr><tr><td>JAC</td><td>Jackson Hole Airport</td><td>Jackson</td><td>WY</td><td>USA</td><td>43.60732</td><td>-110.73774</td></tr><tr><td>JAN</td><td>Jackson-Evers International Airport</td><td>Jackson</td><td>MS</td><td>USA</td><td>32.31117</td><td>-90.07589</td></tr><tr><td>JAX</td><td>Jacksonville International Airport</td><td>Jacksonville</td><td>FL</td><td>USA</td><td>30.49406</td><td>-81.68786</td></tr><tr><td>JFK</td><td>John F. Kennedy International Airport (New York International Airport)</td><td>New York</td><td>NY</td><td>USA</td><td>40.63975</td><td>-73.77893</td></tr><tr><td>JLN</td><td>Joplin Regional Airport</td><td>Joplin</td><td>MO</td><td>USA</td><td>37.15181</td><td>-94.49827</td></tr><tr><td>JMS</td><td>Jamestown Regional Airport</td><td>Jamestown</td><td>ND</td><td>USA</td><td>46.92972</td><td>-98.67820</td></tr><tr><td>JNU</td><td>Juneau International Airport</td><td>Juneau</td><td>AK</td><td>USA</td><td>58.35496</td><td>-134.57628</td></tr><tr><td>KOA</td><td>Kona International Airport at Keahole</td><td>Kailua/Kona</td><td>HI</td><td>USA</td><td>19.73877</td><td>-156.04563</td></tr><tr><td>KTN</td><td>Ketchikan International Airport</td><td>Ketchikan</td><td>AK</td><td>USA</td><td>55.35557</td><td>-131.71374</td></tr><tr><td>LAN</td><td>Capital Region International Airport ( Lansing Capital City)</td><td>Lansing</td><td>MI</td><td>USA</td><td>42.77870</td><td>-84.58736</td></tr><tr><td>LAR</td><td>Laramie Regional Airport</td><td>Laramie</td><td>WY</td><td>USA</td><td>41.31205</td><td>-105.67499</td></tr><tr><td>LAS</td><td>McCarran International Airport</td><td>Las Vegas</td><td>NV</td><td>USA</td><td>36.08036</td><td>-115.15233</td></tr><tr><td>LAW</td><td>Lawton-Fort Sill Regional Airport</td><td>Lawton</td><td>OK</td><td>USA</td><td>34.56771</td><td>-98.41664</td></tr><tr><td>LAX</td><td>Los Angeles International Airport</td><td>Los Angeles</td><td>CA</td><td>USA</td><td>33.94254</td><td>-118.40807</td></tr><tr><td>LBB</td><td>Lubbock Preston Smith International Airport</td><td>Lubbock</td><td>TX</td><td>USA</td><td>33.66364</td><td>-101.82278</td></tr><tr><td>LBE</td><td>Arnold Palmer Regional Airport</td><td>Latrobe</td><td>PA</td><td>USA</td><td>40.27594</td><td>-79.40480</td></tr><tr><td>LCH</td><td>Lake Charles Regional Airport</td><td>Lake Charles</td><td>LA</td><td>USA</td><td>30.12610</td><td>-93.22340</td></tr><tr><td>LEX</td><td>Blue Grass Airport</td><td>Lexington</td><td>KY</td><td>USA</td><td>38.03697</td><td>-84.60539</td></tr><tr><td>LFT</td><td>Lafayette Regional Airport</td><td>Lafayette</td><td>LA</td><td>USA</td><td>30.20528</td><td>-91.98766</td></tr><tr><td>LGA</td><td>LaGuardia Airport (Marine Air Terminal)</td><td>New York</td><td>NY</td><td>USA</td><td>40.77724</td><td>-73.87261</td></tr><tr><td>LGB</td><td>Long Beach Airport (Daugherty Field)</td><td>Long Beach</td><td>CA</td><td>USA</td><td>33.81772</td><td>-118.15161</td></tr><tr><td>LIH</td><td>Lihue Airport</td><td>Lihue</td><td>HI</td><td>USA</td><td>21.97598</td><td>-159.33896</td></tr><tr><td>LIT</td><td>Bill and Hillary Clinton National Airport (Adams Field)</td><td>Little Rock</td><td>AR</td><td>USA</td><td>34.72940</td><td>-92.22425</td></tr><tr><td>LNK</td><td>Lincoln Airport (Lincoln Municipal)</td><td>Lincoln</td><td>NE</td><td>USA</td><td>40.85097</td><td>-96.75925</td></tr><tr><td>LRD</td><td>Laredo International Airport</td><td>Laredo</td><td>TX</td><td>USA</td><td>27.54374</td><td>-99.46154</td></tr><tr><td>LSE</td><td>La Crosse Regional Airport</td><td>La Crosse</td><td>WI</td><td>USA</td><td>43.87938</td><td>-91.25654</td></tr><tr><td>LWS</td><td>Lewiston-Nez Perce County Airport</td><td>Lewiston</td><td>ID</td><td>USA</td><td>46.37450</td><td>-117.01539</td></tr><tr><td>MAF</td><td>Midland International Airport</td><td>Midland</td><td>TX</td><td>USA</td><td>31.94253</td><td>-102.20191</td></tr><tr><td>MBS</td><td>MBS International Airport</td><td>Saginaw</td><td>MI</td><td>USA</td><td>43.53291</td><td>-84.07965</td></tr><tr><td>MCI</td><td>Kansas City International Airport</td><td>Kansas City</td><td>MO</td><td>USA</td><td>39.29761</td><td>-94.71391</td></tr><tr><td>MCO</td><td>Orlando International Airport</td><td>Orlando</td><td>FL</td><td>USA</td><td>28.42889</td><td>-81.31603</td></tr><tr><td>MDT</td><td>Harrisburg International Airport</td><td>Harrisburg</td><td>PA</td><td>USA</td><td>40.19350</td><td>-76.76340</td></tr><tr><td>MDW</td><td>Chicago Midway International Airport</td><td>Chicago</td><td>IL</td><td>USA</td><td>41.78598</td><td>-87.75242</td></tr><tr><td>MEI</td><td>Meridian Regional Airport</td><td>Meridian</td><td>MS</td><td>USA</td><td>32.33313</td><td>-88.75121</td></tr><tr><td>MEM</td><td>Memphis International Airport</td><td>Memphis</td><td>TN</td><td>USA</td><td>35.04242</td><td>-89.97667</td></tr><tr><td>MFE</td><td>McAllen-Miller International Airport (McAllen Miller International)</td><td>McAllen</td><td>TX</td><td>USA</td><td>26.17583</td><td>-98.23861</td></tr><tr><td>MFR</td><td>Rogue Valley International Airport</td><td>Medford</td><td>OR</td><td>USA</td><td>42.37423</td><td>-122.87350</td></tr><tr><td>MGM</td><td>Montgomery Regional Airport</td><td>Montgomery</td><td>AL</td><td>USA</td><td>32.30064</td><td>-86.39398</td></tr><tr><td>MHK</td><td>Manhattan Regional Airport</td><td>Manhattan</td><td>KS</td><td>USA</td><td>39.14097</td><td>-96.67083</td></tr><tr><td>MHT</td><td>Manchester-Boston Regional Airport</td><td>Manchester</td><td>NH</td><td>USA</td><td>42.93452</td><td>-71.43706</td></tr><tr><td>MIA</td><td>Miami International Airport</td><td>Miami</td><td>FL</td><td>USA</td><td>25.79325</td><td>-80.29056</td></tr><tr><td>MKE</td><td>General Mitchell International Airport</td><td>Milwaukee</td><td>WI</td><td>USA</td><td>42.94722</td><td>-87.89658</td></tr><tr><td>MKG</td><td>Muskegon County Airport</td><td>Muskegon</td><td>MI</td><td>USA</td><td>43.16949</td><td>-86.23822</td></tr><tr><td>MLB</td><td>Melbourne International Airport</td><td>Melbourne</td><td>FL</td><td>USA</td><td>28.10275</td><td>-80.64581</td></tr><tr><td>MLI</td><td>Quad City International Airport</td><td>Moline</td><td>IL</td><td>USA</td><td>41.44853</td><td>-90.50754</td></tr><tr><td>MLU</td><td>Monroe Regional Airport</td><td>Monroe</td><td>LA</td><td>USA</td><td>32.51087</td><td>-92.03769</td></tr><tr><td>MMH</td><td>Mammoth Yosemite Airport</td><td>Mammoth Lakes</td><td>CA</td><td>USA</td><td>37.62405</td><td>-118.83777</td></tr><tr><td>MOB</td><td>Mobile Regional Airport</td><td>Mobile</td><td>AL</td><td>USA</td><td>30.69142</td><td>-88.24283</td></tr><tr><td>MOT</td><td>Minot International Airport</td><td>Minot</td><td>ND</td><td>USA</td><td>48.25938</td><td>-101.28033</td></tr><tr><td>MQT</td><td>Sawyer International Airport</td><td>Marquette</td><td>MI</td><td>USA</td><td>46.35364</td><td>-87.39536</td></tr><tr><td>MRY</td><td>Monterey Regional Airport (Monterey Peninsula Airport)</td><td>Monterey</td><td>CA</td><td>USA</td><td>36.58698</td><td>-121.84295</td></tr><tr><td>MSN</td><td>Dane County Regional Airport</td><td>Madison</td><td>WI</td><td>USA</td><td>43.13986</td><td>-89.33751</td></tr><tr><td>MSO</td><td>Missoula International Airport</td><td>Missoula</td><td>MT</td><td>USA</td><td>46.91631</td><td>-114.09056</td></tr><tr><td>MSP</td><td>Minneapolis-Saint Paul International Airport</td><td>Minneapolis</td><td>MN</td><td>USA</td><td>44.88055</td><td>-93.21692</td></tr><tr><td>MSY</td><td>Louis Armstrong New Orleans International Airport</td><td>New Orleans</td><td>LA</td><td>USA</td><td>29.99339</td><td>-90.25803</td></tr><tr><td>MTJ</td><td>Montrose Regional Airport</td><td>Montrose</td><td>CO</td><td>USA</td><td>38.50887</td><td>-107.89383</td></tr><tr><td>MVY</td><td>Martha's Vineyard Airport</td><td>Marthas Vineyard</td><td>MA</td><td>USA</td><td>41.39303</td><td>-70.61433</td></tr><tr><td>MYR</td><td>Myrtle Beach International Airport</td><td>Myrtle Beach</td><td>SC</td><td>USA</td><td>33.67975</td><td>-78.92833</td></tr><tr><td>OAJ</td><td>Albert J. Ellis Airport</td><td>Jacksonville</td><td>NC</td><td>USA</td><td>34.82916</td><td>-77.61214</td></tr><tr><td>OAK</td><td>Oakland International Airport</td><td>Oakland</td><td>CA</td><td>USA</td><td>37.72129</td><td>-122.22072</td></tr><tr><td>OGG</td><td>Kahului Airport</td><td>Kahului</td><td>HI</td><td>USA</td><td>20.89865</td><td>-156.43046</td></tr><tr><td>OKC</td><td>Will Rogers World Airport</td><td>Oklahoma City</td><td>OK</td><td>USA</td><td>35.39309</td><td>-97.60073</td></tr><tr><td>OMA</td><td>Eppley Airfield</td><td>Omaha</td><td>NE</td><td>USA</td><td>41.30252</td><td>-95.89417</td></tr><tr><td>OME</td><td>Nome Airport</td><td>Nome</td><td>AK</td><td>USA</td><td>64.51220</td><td>-165.44525</td></tr><tr><td>ONT</td><td>Ontario International Airport</td><td>Ontario</td><td>CA</td><td>USA</td><td>34.05600</td><td>-117.60119</td></tr><tr><td>ORD</td><td>Chicago O'Hare International Airport</td><td>Chicago</td><td>IL</td><td>USA</td><td>41.97960</td><td>-87.90446</td></tr><tr><td>ORF</td><td>Norfolk International Airport</td><td>Norfolk</td><td>VA</td><td>USA</td><td>36.89461</td><td>-76.20122</td></tr><tr><td>ORH</td><td>Worcester Regional Airport</td><td>Worcester</td><td>MA</td><td>USA</td><td>42.26734</td><td>-71.87571</td></tr><tr><td>OTH</td><td>Southwest Oregon Regional Airport (North Bend Municipal)</td><td>North Bend</td><td>OR</td><td>USA</td><td>43.41714</td><td>-124.24603</td></tr><tr><td>OTZ</td><td>Ralph Wien Memorial Airport</td><td>Kotzebue</td><td>AK</td><td>USA</td><td>66.88468</td><td>-162.59855</td></tr><tr><td>PAH</td><td>Barkley Regional Airport</td><td>Paducah</td><td>KY</td><td>USA</td><td>37.06083</td><td>-88.77375</td></tr><tr><td>PBG</td><td>Plattsburgh International Airport</td><td>Plattsburgh</td><td>NY</td><td>USA</td><td>null</td><td>null</td></tr><tr><td>PBI</td><td>Palm Beach International Airport</td><td>West Palm Beach</td><td>FL</td><td>USA</td><td>26.68316</td><td>-80.09559</td></tr><tr><td>PDX</td><td>Portland International Airport</td><td>Portland</td><td>OR</td><td>USA</td><td>45.58872</td><td>-122.59750</td></tr><tr><td>PHF</td><td>Newport News/Williamsburg International Airport</td><td>Newport News</td><td>VA</td><td>USA</td><td>37.13190</td><td>-76.49299</td></tr><tr><td>PHL</td><td>Philadelphia International Airport</td><td>Philadelphia</td><td>PA</td><td>USA</td><td>39.87195</td><td>-75.24114</td></tr><tr><td>PHX</td><td>Phoenix Sky Harbor International Airport</td><td>Phoenix</td><td>AZ</td><td>USA</td><td>33.43417</td><td>-112.00806</td></tr><tr><td>PIA</td><td>General Wayne A. Downing Peoria International Airport</td><td>Peoria</td><td>IL</td><td>USA</td><td>40.66424</td><td>-89.69331</td></tr><tr><td>PIB</td><td>Hattiesburg-Laurel Regional Airport</td><td>Hattiesburg-Laurel</td><td>MS</td><td>USA</td><td>31.46715</td><td>-89.33706</td></tr><tr><td>PIH</td><td>Pocatello Regional Airport</td><td>Pocatello</td><td>ID</td><td>USA</td><td>42.91131</td><td>-112.59586</td></tr><tr><td>PIT</td><td>Pittsburgh International Airport</td><td>Pittsburgh</td><td>PA</td><td>USA</td><td>40.49147</td><td>-80.23287</td></tr><tr><td>PLN</td><td>Pellston Regional Airport of Emmet County</td><td>Pellston</td><td>MI</td><td>USA</td><td>45.57093</td><td>-84.79672</td></tr><tr><td>PNS</td><td>Pensacola International Airport (Pensacola Gulf Coast Regional Airport)</td><td>Pensacola</td><td>FL</td><td>USA</td><td>30.47331</td><td>-87.18744</td></tr><tr><td>PPG</td><td>Pago Pago International Airport (Tafuna Airport)</td><td>Pago Pago</td><td>AS</td><td>USA</td><td>14.33102</td><td>-170.71053</td></tr><tr><td>PSC</td><td>Tri-Cities Airport</td><td>Pasco</td><td>WA</td><td>USA</td><td>46.26468</td><td>-119.11903</td></tr><tr><td>PSE</td><td>Mercedita Airport</td><td>Ponce</td><td>PR</td><td>USA</td><td>18.00830</td><td>-66.56301</td></tr><tr><td>PSG</td><td>Petersburg James A. Johnson Airport</td><td>Petersburg</td><td>AK</td><td>USA</td><td>56.80165</td><td>-132.94528</td></tr><tr><td>PSP</td><td>Palm Springs International Airport</td><td>Palm Springs</td><td>CA</td><td>USA</td><td>33.82922</td><td>-116.50625</td></tr><tr><td>PUB</td><td>Pueblo Memorial Airport</td><td>Pueblo</td><td>CO</td><td>USA</td><td>38.28909</td><td>-104.49657</td></tr><tr><td>PVD</td><td>Theodore Francis Green State Airport</td><td>Providence</td><td>RI</td><td>USA</td><td>41.72400</td><td>-71.42822</td></tr><tr><td>PWM</td><td>Portland International Jetport</td><td>Portland</td><td>ME</td><td>USA</td><td>43.64617</td><td>-70.30875</td></tr><tr><td>RAP</td><td>Rapid City Regional Airport</td><td>Rapid City</td><td>SD</td><td>USA</td><td>44.04532</td><td>-103.05737</td></tr><tr><td>RDD</td><td>Redding Municipal Airport</td><td>Redding</td><td>CA</td><td>USA</td><td>40.50898</td><td>-122.29340</td></tr><tr><td>RDM</td><td>Redmond Municipal Airport (Roberts Field)</td><td>Redmond</td><td>OR</td><td>USA</td><td>44.25407</td><td>-121.14996</td></tr><tr><td>RDU</td><td>Raleigh-Durham International Airport</td><td>Raleigh</td><td>NC</td><td>USA</td><td>35.87764</td><td>-78.78747</td></tr><tr><td>RHI</td><td>Rhinelander-Oneida County Airport</td><td>Rhinelander</td><td>WI</td><td>USA</td><td>45.63119</td><td>-89.46745</td></tr><tr><td>RIC</td><td>Richmond International Airport</td><td>Richmond</td><td>VA</td><td>USA</td><td>37.50517</td><td>-77.31967</td></tr><tr><td>RKS</td><td>Rock Springs-Sweetwater County Airport</td><td>Rock Springs</td><td>WY</td><td>USA</td><td>41.59422</td><td>-109.06519</td></tr><tr><td>RNO</td><td>Reno/Tahoe International Airport</td><td>Reno</td><td>NV</td><td>USA</td><td>39.49858</td><td>-119.76806</td></tr><tr><td>ROA</td><td>Roanoke Regional Airport (Woodrum Field)</td><td>Roanoke</td><td>VA</td><td>USA</td><td>37.32547</td><td>-79.97543</td></tr><tr><td>ROC</td><td>Greater Rochester International Airport</td><td>Rochester</td><td>NY</td><td>USA</td><td>43.11887</td><td>-77.67238</td></tr><tr><td>ROW</td><td>Roswell International Air Center</td><td>Roswell</td><td>NM</td><td>USA</td><td>33.30156</td><td>-104.53056</td></tr><tr><td>RST</td><td>Rochester International Airport</td><td>Rochester</td><td>MN</td><td>USA</td><td>43.90883</td><td>-92.49799</td></tr><tr><td>RSW</td><td>Southwest Florida International Airport</td><td>Ft. Myers</td><td>FL</td><td>USA</td><td>26.53617</td><td>-81.75517</td></tr><tr><td>SAF</td><td>Santa Fe Municipal Airport</td><td>Santa Fe</td><td>NM</td><td>USA</td><td>35.61678</td><td>-106.08814</td></tr><tr><td>SAN</td><td>San Diego International Airport (Lindbergh Field)</td><td>San Diego</td><td>CA</td><td>USA</td><td>32.73356</td><td>-117.18966</td></tr><tr><td>SAT</td><td>San Antonio International Airport</td><td>San Antonio</td><td>TX</td><td>USA</td><td>29.53369</td><td>-98.46978</td></tr><tr><td>SAV</td><td>Savannah/Hilton Head International Airport</td><td>Savannah</td><td>GA</td><td>USA</td><td>32.12758</td><td>-81.20214</td></tr><tr><td>SBA</td><td>Santa Barbara Municipal Airport (Santa Barbara Airport)</td><td>Santa Barbara</td><td>CA</td><td>USA</td><td>34.42621</td><td>-119.84037</td></tr><tr><td>SBN</td><td>South Bend International Airport (South Bend Regional)</td><td>South Bend</td><td>IN</td><td>USA</td><td>41.70895</td><td>-86.31847</td></tr><tr><td>SBP</td><td>San Luis Obispo County Regional Airport (McChesney Field)</td><td>San Luis Obispo</td><td>CA</td><td>USA</td><td>35.23706</td><td>-120.64239</td></tr><tr><td>SCC</td><td>Deadhorse Airport (Prudhoe Bay Airport)</td><td>Deadhorse</td><td>AK</td><td>USA</td><td>70.19476</td><td>-148.46516</td></tr><tr><td>SCE</td><td>University Park Airport</td><td>State College</td><td>PA</td><td>USA</td><td>40.85121</td><td>-77.84630</td></tr><tr><td>SDF</td><td>Louisville International Airport (Standiford Field)</td><td>Louisville</td><td>KY</td><td>USA</td><td>38.17439</td><td>-85.73600</td></tr><tr><td>SEA</td><td>Seattle-Tacoma International Airport</td><td>Seattle</td><td>WA</td><td>USA</td><td>47.44898</td><td>-122.30931</td></tr><tr><td>SFO</td><td>San Francisco International Airport</td><td>San Francisco</td><td>CA</td><td>USA</td><td>37.61900</td><td>-122.37484</td></tr><tr><td>SGF</td><td>Springfield-Branson National Airport</td><td>Springfield</td><td>MO</td><td>USA</td><td>37.24433</td><td>-93.38686</td></tr><tr><td>SGU</td><td>St. George Regional Airport</td><td>St George</td><td>UT</td><td>USA</td><td>37.09058</td><td>-113.59306</td></tr><tr><td>SHV</td><td>Shreveport Regional Airport</td><td>Shreveport</td><td>LA</td><td>USA</td><td>32.44663</td><td>-93.82560</td></tr><tr><td>SIT</td><td>Sitka Rocky Gutierrez Airport</td><td>Sitka</td><td>AK</td><td>USA</td><td>57.04714</td><td>-135.36160</td></tr><tr><td>SJC</td><td>Norman Y. Mineta San José International Airport</td><td>San Jose</td><td>CA</td><td>USA</td><td>37.36186</td><td>-121.92901</td></tr><tr><td>SJT</td><td>San Angelo Regional Airport (Mathis Field)</td><td>San Angelo</td><td>TX</td><td>USA</td><td>31.35775</td><td>-100.49631</td></tr><tr><td>SJU</td><td>Luis Muñoz Marín International Airport</td><td>San Juan</td><td>PR</td><td>USA</td><td>18.43942</td><td>-66.00183</td></tr><tr><td>SLC</td><td>Salt Lake City International Airport</td><td>Salt Lake City</td><td>UT</td><td>USA</td><td>40.78839</td><td>-111.97777</td></tr><tr><td>SMF</td><td>Sacramento International Airport</td><td>Sacramento</td><td>CA</td><td>USA</td><td>38.69542</td><td>-121.59077</td></tr><tr><td>SMX</td><td>Santa Maria Public Airport (Capt G. Allan Hancock Field)</td><td>Santa Maria</td><td>CA</td><td>USA</td><td>34.89925</td><td>-120.45758</td></tr><tr><td>SNA</td><td>John Wayne Airport (Orange County Airport)</td><td>Santa Ana</td><td>CA</td><td>USA</td><td>33.67566</td><td>-117.86822</td></tr><tr><td>SPI</td><td>Abraham Lincoln Capital Airport</td><td>Springfield</td><td>IL</td><td>USA</td><td>39.84395</td><td>-89.67762</td></tr><tr><td>SPS</td><td>Wichita Falls Municipal Airport/Sheppard AFB</td><td>Wichita Falls</td><td>TX</td><td>USA</td><td>33.98880</td><td>-98.49189</td></tr><tr><td>SRQ</td><td>Sarasota-Bradenton International Airport</td><td>Sarasota</td><td>FL</td><td>USA</td><td>27.39533</td><td>-82.55411</td></tr><tr><td>STC</td><td>St. Cloud Regional Airport</td><td>St Cloud</td><td>MN</td><td>USA</td><td>45.54532</td><td>-94.05834</td></tr><tr><td>STL</td><td>St. Louis International Airport at Lambert Field</td><td>St Louis</td><td>MO</td><td>USA</td><td>38.74769</td><td>-90.35999</td></tr><tr><td>STT</td><td>Cyril E. King Airport</td><td>Charlotte Amalie</td><td>VI</td><td>USA</td><td>18.33731</td><td>-64.97336</td></tr><tr><td>STT</td><td>Cyril E. King Airport</td><td>Charlotte Amalie</td><td>null</td><td>null</td><td>VI</td><td>USA</td></tr><tr><td>STX</td><td>Henry E. Rohlsen Airport</td><td>Christiansted</td><td>VI</td><td>USA</td><td>17.70189</td><td>-64.79856</td></tr><tr><td>SUN</td><td>Friedman Memorial Airport</td><td>Hailey</td><td>ID</td><td>USA</td><td>43.50484</td><td>-114.29659</td></tr><tr><td>SUX</td><td>Sioux Gateway Airport</td><td>Sioux City</td><td>IA</td><td>USA</td><td>42.40260</td><td>-96.38437</td></tr><tr><td>SWF</td><td>Stewart International Airport</td><td>Newburgh</td><td>NY</td><td>USA</td><td>41.50409</td><td>-74.10484</td></tr><tr><td>SYR</td><td>Syracuse Hancock International Airport</td><td>Syracuse</td><td>NY</td><td>USA</td><td>43.11119</td><td>-76.10631</td></tr><tr><td>TLH</td><td>Tallahassee International Airport</td><td>Tallahassee</td><td>FL</td><td>USA</td><td>30.39653</td><td>-84.35033</td></tr><tr><td>TOL</td><td>Toledo Express Airport</td><td>Toledo</td><td>OH</td><td>USA</td><td>41.58681</td><td>-83.80783</td></tr><tr><td>TPA</td><td>Tampa International Airport</td><td>Tampa</td><td>FL</td><td>USA</td><td>27.97547</td><td>-82.53325</td></tr><tr><td>TRI</td><td>Tri-Cities Regional Airport</td><td>Bristol</td><td>TN</td><td>USA</td><td>36.47521</td><td>-82.40742</td></tr><tr><td>TTN</td><td>Trenton Mercer Airport</td><td>Trenton</td><td>NJ</td><td>USA</td><td>40.27669</td><td>-74.81347</td></tr><tr><td>TUL</td><td>Tulsa International Airport</td><td>Tulsa</td><td>OK</td><td>USA</td><td>36.19837</td><td>-95.88824</td></tr><tr><td>TUS</td><td>Tucson International Airport</td><td>Tucson</td><td>AZ</td><td>USA</td><td>32.11608</td><td>-110.94103</td></tr><tr><td>TVC</td><td>Cherry Capital Airport</td><td>Traverse City</td><td>MI</td><td>USA</td><td>44.74144</td><td>-85.58224</td></tr><tr><td>TWF</td><td>Magic Valley Regional Airport (Joslin Field)</td><td>Twin Falls</td><td>ID</td><td>USA</td><td>42.48180</td><td>-114.48774</td></tr><tr><td>TXK</td><td>Texarkana Regional Airport (Webb Field)</td><td>Texarkana</td><td>AR</td><td>USA</td><td>33.45371</td><td>-93.99102</td></tr><tr><td>TYR</td><td>Tyler Pounds Regional Airport</td><td>Tyler</td><td>TX</td><td>USA</td><td>32.35414</td><td>-95.40239</td></tr><tr><td>TYS</td><td>McGhee Tyson Airport</td><td>Knoxville</td><td>TN</td><td>USA</td><td>35.81249</td><td>-83.99286</td></tr><tr><td>UST</td><td>Northeast Florida Regional Airport (St. Augustine Airport)</td><td>St. Augustine</td><td>FL</td><td>USA</td><td>null</td><td>null</td></tr><tr><td>VEL</td><td>Valdez Airport</td><td>Vernal</td><td>UT</td><td>USA</td><td>40.44090</td><td>-109.50992</td></tr><tr><td>VLD</td><td>Valdosta Regional Airport</td><td>Valdosta</td><td>GA</td><td>USA</td><td>30.78250</td><td>-83.27672</td></tr><tr><td>VPS</td><td>Destin-Fort Walton Beach Airport/Eglin AFB</td><td>Valparaiso</td><td>FL</td><td>USA</td><td>30.48325</td><td>-86.52540</td></tr><tr><td>WRG</td><td>Wrangell Airport</td><td>Wrangell</td><td>AK</td><td>USA</td><td>56.48433</td><td>-132.36982</td></tr><tr><td>WYS</td><td>Westerly State Airport</td><td>West Yellowstone</td><td>MT</td><td>USA</td><td>44.68840</td><td>-111.11764</td></tr><tr><td>XNA</td><td>Northwest Arkansas Regional Airport</td><td>Fayetteville/Springdale/Rogers</td><td>AR</td><td>USA</td><td>36.28187</td><td>-94.30681</td></tr><tr><td>YAK</td><td>Yakutat Airport</td><td>Yakutat</td><td>AK</td><td>USA</td><td>59.50336</td><td>-139.66023</td></tr><tr><td>YUM</td><td>Yuma International Airport</td><td>Yuma</td><td>AZ</td><td>USA</td><td>32.65658</td><td>-114.60597</td></tr><tr><td>YUM</td><td>Yuma International Airport</td><td>Yuma</td><td>AZ</td><td>USA</td><td>32.65658</td><td>null</td></tr></tbody></table></div>"
      ]
     },
     "metadata": {
      "application/vnd.databricks.v1+output": {
       "addedWidgets": {},
       "aggData": [],
       "aggError": "",
       "aggOverflow": false,
       "aggSchema": [],
       "aggSeriesLimitReached": false,
       "aggType": "",
       "arguments": {},
       "columnCustomDisplayInfos": {},
       "data": [
        [
         "ABE",
         "Lehigh Valley International Airport",
         "Allentown",
         "PA",
         "USA",
         "40.65236",
         "-75.44040"
        ],
        [
         "ABI",
         "Abilene Regional Airport",
         "Abilene",
         "TX",
         "USA",
         "32.41132",
         "-99.68190"
        ],
        [
         "ABQ",
         "Albuquerque International Sunport",
         "Albuquerque",
         "NM",
         "USA",
         "35.04022",
         "-106.60919"
        ],
        [
         "ABR",
         "Aberdeen Regional Airport",
         "Aberdeen",
         "SD",
         "USA",
         "45.44906",
         "-98.42183"
        ],
        [
         "ABY",
         "Southwest Georgia Regional Airport",
         "Albany",
         "GA",
         "USA",
         "31.53552",
         "-84.19447"
        ],
        [
         "ACK",
         "Nantucket Memorial Airport",
         "Nantucket",
         "MA",
         "USA",
         "41.25305",
         "-70.06018"
        ],
        [
         "ACT",
         "Waco Regional Airport",
         "Waco",
         "TX",
         "USA",
         "31.61129",
         "-97.23052"
        ],
        [
         "ACV",
         "Arcata Airport",
         "Arcata/Eureka",
         "CA",
         "USA",
         "40.97812",
         "-124.10862"
        ],
        [
         "ACY",
         "Atlantic City International Airport",
         "Atlantic City",
         "NJ",
         "USA",
         "39.45758",
         "-74.57717"
        ],
        [
         "ADK",
         "Adak Airport",
         "Adak",
         "AK",
         "USA",
         "51.87796",
         "-176.64603"
        ],
        [
         "ADQ",
         "Kodiak Airport",
         "Kodiak",
         "AK",
         "USA",
         "57.74997",
         "-152.49386"
        ],
        [
         "AEX",
         "Alexandria International Airport",
         "Alexandria",
         "LA",
         "USA",
         "31.32737",
         "-92.54856"
        ],
        [
         "AGS",
         "Augusta Regional Airport (Bush Field)",
         "Augusta",
         "GA",
         "USA",
         "33.36996",
         "-81.96450"
        ],
        [
         "AKN",
         "King Salmon Airport",
         "King Salmon",
         "AK",
         "USA",
         "58.67680",
         "-156.64922"
        ],
        [
         "ALB",
         "Albany International Airport",
         "Albany",
         "NY",
         "USA",
         "42.74812",
         "-73.80298"
        ],
        [
         "ALO",
         "Waterloo Regional Airport",
         "Waterloo",
         "IA",
         "USA",
         "42.55708",
         "-92.40034"
        ],
        [
         "AMA",
         "Rick Husband Amarillo International Airport",
         "Amarillo",
         "TX",
         "USA",
         "35.21937",
         "-101.70593"
        ],
        [
         "ANC",
         "Ted Stevens Anchorage International Airport",
         "Anchorage",
         "AK",
         "USA",
         "61.17432",
         "-149.99619"
        ],
        [
         "APN",
         "Alpena County Regional Airport",
         "Alpena",
         "MI",
         "USA",
         "45.07807",
         "-83.56029"
        ],
        [
         "ASE",
         "Aspen-Pitkin County Airport",
         "Aspen",
         "CO",
         "USA",
         "39.22316",
         "-106.86885"
        ],
        [
         "ATL",
         "Hartsfield-Jackson Atlanta International Airport",
         "Atlanta",
         "GA",
         "USA",
         "33.64044",
         "-84.42694"
        ],
        [
         "ATW",
         "Appleton International Airport",
         "Appleton",
         "WI",
         "USA",
         "44.25741",
         "-88.51948"
        ],
        [
         "AUS",
         "Austin-Bergstrom International Airport",
         "Austin",
         "TX",
         "USA",
         "30.19453",
         "-97.66987"
        ],
        [
         "AVL",
         "Asheville Regional Airport",
         "Asheville",
         "NC",
         "USA",
         "35.43619",
         "-82.54181"
        ],
        [
         "AVP",
         "Wilkes-Barre/Scranton International Airport",
         "Wilkes-Barre/Scranton",
         "PA",
         "USA",
         "41.33815",
         "-75.72427"
        ],
        [
         "AZO",
         "Kalamazoo/Battle Creek International Airport",
         "Kalamazoo",
         "MI",
         "USA",
         "42.23488",
         "-85.55206"
        ],
        [
         "BDL",
         "Bradley International Airport",
         "Windsor Locks",
         "CT",
         "USA",
         "41.93887",
         "-72.68323"
        ],
        [
         "BET",
         "Bethel Airport",
         "Bethel",
         "AK",
         "USA",
         "60.77978",
         "-161.83800"
        ],
        [
         "BFL",
         "Meadows Field",
         "Bakersfield",
         "CA",
         "USA",
         "35.43360",
         "-119.05677"
        ],
        [
         "BGM",
         "Greater Binghamton Airport",
         "Binghamton",
         "NY",
         "USA",
         "42.20848",
         "-75.97961"
        ],
        [
         "BGR",
         "Bangor International Airport",
         "Bangor",
         "ME",
         "USA",
         "44.80744",
         "-68.82814"
        ],
        [
         "BHM",
         "Birmingham-Shuttlesworth International Airport",
         "Birmingham",
         "AL",
         "USA",
         "33.56294",
         "-86.75355"
        ],
        [
         "BIL",
         "Billings Logan International Airport",
         "Billings",
         "MT",
         "USA",
         "45.80766",
         "-108.54286"
        ],
        [
         "BIS",
         "Bismarck Municipal Airport",
         "Bismarck",
         "ND",
         "USA",
         "46.77411",
         "-100.74672"
        ],
        [
         "BJI",
         "Bemidji Regional Airport",
         "Bemidji",
         "MN",
         "USA",
         "47.50942",
         "-94.93372"
        ],
        [
         "BLI",
         "Bellingham International Airport",
         "Bellingham",
         "WA",
         "USA",
         "48.79275",
         "-122.53753"
        ],
        [
         "BMI",
         "Central Illinois Regional Airport at Bloomington-Normal",
         "Bloomington",
         "IL",
         "USA",
         "40.47799",
         "-88.91595"
        ],
        [
         "BNA",
         "Nashville International Airport",
         "Nashville",
         "TN",
         "USA",
         "36.12448",
         "-86.67818"
        ],
        [
         "BOI",
         "Boise Airport (Boise Air Terminal)",
         "Boise",
         "ID",
         "USA",
         "43.56444",
         "-116.22278"
        ],
        [
         "BOS",
         "Gen. Edward Lawrence Logan International Airport",
         "Boston",
         "MA",
         "USA",
         "42.36435",
         "-71.00518"
        ],
        [
         "BPT",
         "Jack Brooks Regional Airport (Southeast Texas Regional)",
         "Beaumont/Port Arthur",
         "TX",
         "USA",
         "29.95083",
         "-94.02069"
        ],
        [
         "BQK",
         "Brunswick Golden Isles Airport",
         "Brunswick",
         "GA",
         "USA",
         "31.25903",
         "-81.46631"
        ],
        [
         "BQN",
         "Rafael Hernández Airport",
         "Aguadilla",
         "PR",
         "USA",
         "18.49486",
         "-67.12944"
        ],
        [
         "BRD",
         "Brainerd Lakes Regional Airport",
         "Brainerd",
         "MN",
         "USA",
         "46.39786",
         "-94.13723"
        ],
        [
         "BRO",
         "Brownsville/South Padre Island International Airport",
         "Brownsville",
         "TX",
         "USA",
         "25.90683",
         "-97.42586"
        ],
        [
         "BRW",
         "Wiley Post-Will Rogers Memorial Airport",
         "Barrow",
         "AK",
         "USA",
         "71.28545",
         "-156.76600"
        ],
        [
         "BTM",
         "Bert Mooney Airport",
         "Butte",
         "MT",
         "USA",
         "45.95480",
         "-112.49746"
        ],
        [
         "BTR",
         "Baton Rouge Metropolitan Airport",
         "Baton Rouge",
         "LA",
         "USA",
         "30.53316",
         "-91.14963"
        ],
        [
         "BTV",
         "Burlington International Airport",
         "Burlington",
         "VT",
         "USA",
         "44.47300",
         "-73.15031"
        ],
        [
         "BUF",
         "Buffalo Niagara International Airport",
         "Buffalo",
         "NY",
         "USA",
         "42.94052",
         "-78.73217"
        ],
        [
         "BUR",
         "Bob Hope Airport (Hollywood Burbank Airport)",
         "Burbank",
         "CA",
         "USA",
         "34.20062",
         "-118.35850"
        ],
        [
         "BWI",
         "Baltimore-Washington International Airport",
         "Baltimore",
         "MD",
         "USA",
         "39.17540",
         "-76.66820"
        ],
        [
         "BZN",
         "Bozeman Yellowstone International Airport (Gallatin Field Airport)",
         "Bozeman",
         "MT",
         "USA",
         "45.77690",
         "-111.15301"
        ],
        [
         "CAE",
         "Columbia Metropolitan Airport",
         "Columbia",
         "SC",
         "USA",
         "33.93884",
         "-81.11954"
        ],
        [
         "CAK",
         "Akron-Canton Regional Airport",
         "Akron",
         "OH",
         "USA",
         "40.91631",
         "-81.44247"
        ],
        [
         "CDC",
         "Cedar City Regional Airport",
         "Cedar City",
         "UT",
         "USA",
         "37.70097",
         "-113.09858"
        ],
        [
         "CDV",
         "Merle K. (Mudhole) Smith Airport",
         "Cordova",
         "AK",
         "USA",
         "60.49183",
         "-145.47765"
        ],
        [
         "CEC",
         "Del Norte County Airport (Jack McNamara Field)",
         "Crescent City",
         "CA",
         "USA",
         "41.78016",
         "-124.23653"
        ],
        [
         "CHA",
         "Chattanooga Metropolitan Airport (Lovell Field)",
         "Chattanooga",
         "TN",
         "USA",
         "35.03527",
         "-85.20379"
        ],
        [
         "CHO",
         "Charlottesville-Albemarle Airport",
         "Charlottesville",
         "VA",
         "USA",
         "38.13864",
         "-78.45286"
        ],
        [
         "CHS",
         "Charleston International Airport/Charleston AFB",
         "Charleston",
         "SC",
         "USA",
         "32.89865",
         "-80.04051"
        ],
        [
         "CID",
         "The Eastern Iowa Airport",
         "Cedar Rapids",
         "IA",
         "USA",
         "41.88459",
         "-91.71087"
        ],
        [
         "CIU",
         "Chippewa County International Airport",
         "Sault Ste. Marie",
         "MI",
         "USA",
         "46.25075",
         "-84.47239"
        ],
        [
         "CLD",
         "McClellan-Palomar Airport",
         "San Diego",
         "CA",
         "USA",
         "33.12723",
         "-117.27873"
        ],
        [
         "CLE",
         "Cleveland Hopkins International Airport",
         "Cleveland",
         "OH",
         "USA",
         "41.41089",
         "-81.84940"
        ],
        [
         "CLL",
         "Easterwood Airport",
         "College Station",
         "TX",
         "USA",
         "30.58859",
         "-96.36382"
        ],
        [
         "CLT",
         "Charlotte Douglas International Airport",
         "Charlotte",
         "NC",
         "USA",
         "35.21401",
         "-80.94313"
        ],
        [
         "CMH",
         "Port Columbus International Airport",
         "Columbus",
         "OH",
         "USA",
         "39.99799",
         "-82.89188"
        ],
        [
         "CMI",
         "University of Illinois - Willard Airport",
         "Champaign/Urbana",
         "IL",
         "USA",
         "40.03925",
         "-88.27806"
        ],
        [
         "CMX",
         "Houghton County Memorial Airport",
         "Hancock",
         "MI",
         "USA",
         "47.16842",
         "-88.48906"
        ],
        [
         "CNY",
         "Canyonlands Field",
         "Moab",
         "UT",
         "USA",
         "38.75496",
         "-109.75484"
        ],
        [
         "COD",
         "Yellowstone Regional Airport",
         "Cody",
         "WY",
         "USA",
         "44.52019",
         "-109.02380"
        ],
        [
         "COS",
         "City of Colorado Springs Municipal Airport",
         "Colorado Springs",
         "CO",
         "USA",
         "38.80581",
         "-104.70025"
        ],
        [
         "COU",
         "Columbia Regional Airport",
         "Columbia",
         "MO",
         "USA",
         "38.81809",
         "-92.21963"
        ],
        [
         "CPR",
         "Natrona County International Airport",
         "Casper",
         "WY",
         "USA",
         "42.90836",
         "-106.46447"
        ],
        [
         "CRP",
         "Corpus Christi International Airport",
         "Corpus Christi",
         "TX",
         "USA",
         "27.77036",
         "-97.50122"
        ],
        [
         "CRW",
         "Yeager Airport",
         "Charleston",
         "WV",
         "USA",
         "38.37315",
         "-81.59319"
        ],
        [
         "CSG",
         "Columbus Metropolitan Airport",
         "Columbus",
         "GA",
         "USA",
         "32.51633",
         "-84.93886"
        ],
        [
         "CVG",
         "Cincinnati/Northern Kentucky International Airport",
         "Covington",
         "KY",
         "USA",
         "39.04614",
         "-84.66217"
        ],
        [
         "CWA",
         "Central Wisconsin Airport",
         "Mosinee",
         "WI",
         "USA",
         "44.77762",
         "-89.66678"
        ],
        [
         "DAB",
         "Daytona Beach International Airport",
         "Daytona Beach",
         "FL",
         "USA",
         "29.17992",
         "-81.05806"
        ],
        [
         "DAL",
         "Dallas Love Field",
         "Dallas",
         "TX",
         "USA",
         "32.84711",
         "-96.85177"
        ],
        [
         "DAY",
         "James M. Cox Dayton International Airport",
         "Dayton",
         "OH",
         "USA",
         "39.90238",
         "-84.21938"
        ],
        [
         "DBQ",
         "Dubuque Regional Airport",
         "Dubuque",
         "IA",
         "USA",
         "42.40296",
         "-90.70917"
        ],
        [
         "DCA",
         "Ronald Reagan Washington National Airport",
         "Arlington",
         "VA",
         "USA",
         "38.85208",
         "-77.03772"
        ],
        [
         "DEN",
         "Denver International Airport",
         "Denver",
         "CO",
         "USA",
         "39.85841",
         "-104.66700"
        ],
        [
         "DFW",
         "Dallas/Fort Worth International Airport",
         "Dallas-Fort Worth",
         "TX",
         "USA",
         "32.89595",
         "-97.03720"
        ],
        [
         "DHN",
         "Dothan Regional Airport",
         "Dothan",
         "AL",
         "USA",
         "31.32134",
         "-85.44963"
        ],
        [
         "DIK",
         "Dickinson Theodore Roosevelt Regional Airport",
         "Dickinson",
         "ND",
         "USA",
         "46.79739",
         "-102.80195"
        ],
        [
         "DLG",
         "Dillingham Airport",
         "Dillingham",
         "AK",
         "USA",
         "59.04541",
         "-158.50334"
        ],
        [
         "DLH",
         "Duluth International Airport",
         "Duluth",
         "MN",
         "USA",
         "46.84209",
         "-92.19365"
        ],
        [
         "DRO",
         "Durango-La Plata County Airport",
         "Durango",
         "CO",
         "USA",
         "37.15152",
         "-107.75377"
        ],
        [
         "DSM",
         "Des Moines International Airport",
         "Des Moines",
         "IA",
         "USA",
         "41.53493",
         "-93.66068"
        ],
        [
         "DTW",
         "Detroit Metropolitan Airport",
         "Detroit",
         "MI",
         "USA",
         "42.21206",
         "-83.34884"
        ],
        [
         "DVL",
         "Devils Lake Regional Airport",
         "Devils Lake",
         "ND",
         "USA",
         "48.11425",
         "-98.90878"
        ],
        [
         "EAU",
         "Chippewa Valley Regional Airport",
         "Eau Claire",
         "WI",
         "USA",
         "44.86526",
         "-91.48507"
        ],
        [
         "ECP",
         "Northwest Florida Beaches International Airport",
         "Panama City",
         "FL",
         "USA",
         null,
         null
        ],
        [
         "EGE",
         "Eagle County Regional Airport",
         "Eagle",
         "CO",
         "USA",
         "39.64257",
         "-106.91770"
        ],
        [
         "EKO",
         "Elko Regional Airport",
         "Elko",
         "NV",
         "USA",
         "40.82493",
         "-115.79170"
        ],
        [
         "ELM",
         "Elmira/Corning Regional Airport",
         "Elmira",
         "NY",
         "USA",
         "42.15991",
         "-76.89144"
        ],
        [
         "ELP",
         "El Paso International Airport",
         "El Paso",
         "TX",
         "USA",
         "31.80667",
         "-106.37781"
        ],
        [
         "ERI",
         "Erie International Airport",
         "Erie",
         "PA",
         "USA",
         "42.08202",
         "-80.17622"
        ],
        [
         "ESC",
         "Delta County Airport",
         "Escanaba",
         "MI",
         "USA",
         "45.72267",
         "-87.09373"
        ],
        [
         "EUG",
         "Eugene Airport (Mahlon Sweet Field)",
         "Eugene",
         "OR",
         "USA",
         "44.12326",
         "-123.21869"
        ],
        [
         "EVV",
         "Evansville Regional Airport",
         "Evansville",
         "IN",
         "USA",
         "38.03799",
         "-87.53063"
        ],
        [
         "EWN",
         "Coastal Carolina Regional Airport (Craven County Regional)",
         "New Bern",
         "NC",
         "USA",
         "35.07297",
         "-77.04294"
        ],
        [
         "EWR",
         "Newark Liberty International Airport",
         "Newark",
         "NJ",
         "USA",
         "40.69250",
         "-74.16866"
        ],
        [
         "EYW",
         "Key West International Airport",
         "Key West",
         "FL",
         "USA",
         "24.55611",
         "-81.75956"
        ],
        [
         "FAI",
         "Fairbanks International Airport",
         "Fairbanks",
         "AK",
         "USA",
         "64.81368",
         "-147.85967"
        ],
        [
         "FAR",
         "Hector International Airport",
         "Fargo",
         "ND",
         "USA",
         "46.91935",
         "-96.81499"
        ],
        [
         "FAT",
         "Fresno Yosemite International Airport",
         "Fresno",
         "CA",
         "USA",
         "36.77619",
         "-119.71814"
        ],
        [
         "FAY",
         "Fayetteville Regional Airport",
         "Fayetteville",
         "NC",
         "USA",
         "34.99147",
         "-78.88000"
        ],
        [
         "FCA",
         "Glacier Park International Airport",
         "Kalispell",
         "MT",
         "USA",
         "48.31140",
         "-114.25507"
        ],
        [
         "FLG",
         "Flagstaff Pulliam Airport",
         "Flagstaff",
         "AZ",
         "USA",
         "35.13845",
         "-111.67122"
        ],
        [
         "FLL",
         "Fort Lauderdale-Hollywood International Airport",
         "Ft. Lauderdale",
         "FL",
         "USA",
         "26.07258",
         "-80.15275"
        ],
        [
         "FNT",
         "Bishop International Airport",
         "Flint",
         "MI",
         "USA",
         "42.96550",
         "-83.74346"
        ],
        [
         "FSD",
         "Sioux Falls Regional Airport",
         "Sioux Falls",
         "SD",
         "USA",
         "43.58135",
         "-96.74170"
        ],
        [
         "FSM",
         "Fort Smith Regional Airport",
         "Fort Smith",
         "AR",
         "USA",
         "35.33659",
         "-94.36744"
        ],
        [
         "FWA",
         "Fort Wayne International Airport",
         "Fort Wayne",
         "IN",
         "USA",
         "40.97847",
         "-85.19515"
        ],
        [
         "GCC",
         "Gillette-Campbell County Airport",
         "Gillette",
         "WY",
         "USA",
         "44.34890",
         "-105.53936"
        ],
        [
         "GCK",
         "Garden City Regional Airport",
         "Garden City",
         "KS",
         "USA",
         "37.92752",
         "-100.72441"
        ],
        [
         "GEG",
         "Spokane International Airport",
         "Spokane",
         "WA",
         "USA",
         "47.61986",
         "-117.53384"
        ],
        [
         "GFK",
         "Grand Forks International Airport",
         "Grand Forks",
         "ND",
         "USA",
         "47.94926",
         "-97.17611"
        ],
        [
         "GGG",
         "East Texas Regional Airport",
         "Longview",
         "TX",
         "USA",
         "32.38486",
         "-94.71171"
        ],
        [
         "GJT",
         "Grand Junction Regional Airport (Walker Field)",
         "Grand Junction",
         "CO",
         "USA",
         "39.12241",
         "-108.52673"
        ],
        [
         "GNV",
         "Gainesville Regional Airport",
         "Gainesville",
         "FL",
         "USA",
         "29.69006",
         "-82.27178"
        ],
        [
         "GPT",
         "Gulfport-Biloxi International Airport",
         "Gulfport-Biloxi",
         "MS",
         "USA",
         "30.40728",
         "-89.07009"
        ],
        [
         "GRB",
         "Green Bay-Austin Straubel International Airport",
         "Green Bay",
         "WI",
         "USA",
         "44.48507",
         "-88.12959"
        ],
        [
         "GRI",
         "Central Nebraska Regional Airport",
         "Grand Island",
         "NE",
         "USA",
         "40.96747",
         "-98.30861"
        ],
        [
         "GRK",
         "Killeen-Fort Hood Regional Airport",
         "Killeen",
         "TX",
         "USA",
         "31.06490",
         "-97.82780"
        ],
        [
         "GRR",
         "Gerald R. Ford International Airport",
         "Grand Rapids",
         "MI",
         "USA",
         "42.88082",
         "-85.52277"
        ],
        [
         "GSO",
         "Piedmont Triad International Airport",
         "Greensboro",
         "NC",
         "USA",
         "36.09775",
         "-79.93730"
        ],
        [
         "GSP",
         "Greenville-Spartanburg International Airport",
         "Greer",
         "SC",
         "USA",
         "34.89567",
         "-82.21886"
        ],
        [
         "GST",
         "Gustavus Airport",
         "Gustavus",
         "AK",
         "USA",
         "58.42438",
         "-135.70738"
        ],
        [
         "GTF",
         "Great Falls International Airport",
         "Great Falls",
         "MT",
         "USA",
         "47.48200",
         "-111.37069"
        ],
        [
         "GTR",
         "Golden Triangle Regional Airport",
         "Columbus-Starkville-West Point",
         "MS",
         "USA",
         "33.45033",
         "-88.59137"
        ],
        [
         "GUC",
         "Gunnison-Crested Butte Regional Airport",
         "Gunnison",
         "CO",
         "USA",
         "38.53396",
         "-106.93318"
        ],
        [
         "GUM",
         "Guam International Airport",
         "Agana",
         "GU",
         "USA",
         "13.48345",
         "-144.79598"
        ],
        [
         "HDN",
         "Yampa Valley Airport (Yampa Valley Regional)",
         "Hayden",
         "CO",
         "USA",
         "40.48118",
         "-107.21766"
        ],
        [
         "HIB",
         "Range Regional Airport (Chisholm-Hibbing Airport)",
         "Hibbing",
         "MN",
         "USA",
         "47.38660",
         "-92.83899"
        ],
        [
         "HLN",
         "Helena Regional Airport",
         "Helena",
         "MT",
         "USA",
         "46.60682",
         "-111.98275"
        ],
        [
         "HNL",
         "Honolulu International Airport",
         "Honolulu",
         "HI",
         "USA",
         "21.31869",
         "-157.92241"
        ],
        [
         "HOB",
         "Lea County Regional Airport",
         "Hobbs",
         "NM",
         "USA",
         "32.68753",
         "-103.21703"
        ],
        [
         "HOU",
         "William P. Hobby Airport",
         "Houston",
         "TX",
         "USA",
         "29.64542",
         "-95.27889"
        ],
        [
         "HPN",
         "Westchester County Airport",
         "White Plains",
         "NY",
         "USA",
         "41.06696",
         "-73.70757"
        ],
        [
         "HRL",
         "Valley International Airport",
         "Harlingen",
         "TX",
         "USA",
         "26.22851",
         "-97.65439"
        ],
        [
         "HSV",
         "Huntsville International Airport",
         "Huntsville",
         "AL",
         "USA",
         "34.64045",
         "-86.77311"
        ],
        [
         "HYA",
         "Barnstable Municipal Airport",
         "Hyannis",
         "MA",
         "USA",
         "41.66934",
         "-70.28036"
        ],
        [
         "HYS",
         "Hays Regional Airport",
         "Hays",
         "KS",
         "USA",
         "38.84494",
         "-99.27403"
        ],
        [
         "IAD",
         "Washington Dulles International Airport",
         "Chantilly",
         "VA",
         "USA",
         "38.94453",
         "-77.45581"
        ],
        [
         "IAG",
         "Niagara Falls International Airport",
         "Niagara Falls",
         "NY",
         "USA",
         "43.10726",
         "-78.94538"
        ],
        [
         "IAH",
         "George Bush Intercontinental Airport",
         "Houston",
         "TX",
         "USA",
         "29.98047",
         "-95.33972"
        ],
        [
         "ICT",
         "Wichita Dwight D. Eisenhower National Airport (Wichita Mid-Continent Airport)",
         "Wichita",
         "KS",
         "USA",
         "37.64996",
         "-97.43305"
        ],
        [
         "IDA",
         "Idaho Falls Regional Airport",
         "Idaho Falls",
         "ID",
         "USA",
         "43.51456",
         "-112.07017"
        ],
        [
         "ILG",
         "Wilmington Airport",
         "Wilmington",
         "DE",
         "USA",
         "39.67872",
         "-75.60653"
        ],
        [
         "ILM",
         "Wilmington International Airport",
         "Wilmington",
         "NC",
         "USA",
         "34.27061",
         "-77.90256"
        ],
        [
         "IMT",
         "Ford Airport",
         "Iron Mountain/Kingsford",
         "MI",
         "USA",
         "45.81835",
         "-88.11454"
        ],
        [
         "IND",
         "Indianapolis International Airport",
         "Indianapolis",
         "IN",
         "USA",
         "39.71733",
         "-86.29438"
        ],
        [
         "INL",
         "Falls International Airport",
         "International Falls",
         "MN",
         "USA",
         "48.56619",
         "-93.40307"
        ],
        [
         "ISN",
         "Sloulin Field International Airport",
         "Williston",
         "ND",
         "USA",
         "48.17794",
         "-103.64235"
        ],
        [
         "ISP",
         "Long Island MacArthur Airport",
         "Islip",
         "NY",
         "USA",
         "40.79524",
         "-73.10021"
        ],
        [
         "ITH",
         "Ithaca Tompkins Regional Airport",
         "Ithaca",
         "NY",
         "USA",
         "42.49103",
         "-76.45844"
        ],
        [
         "ITO",
         "Hilo International Airport",
         "Hilo",
         "HI",
         "USA",
         "19.72026",
         "-155.04847"
        ],
        [
         "JAC",
         "Jackson Hole Airport",
         "Jackson",
         "WY",
         "USA",
         "43.60732",
         "-110.73774"
        ],
        [
         "JAN",
         "Jackson-Evers International Airport",
         "Jackson",
         "MS",
         "USA",
         "32.31117",
         "-90.07589"
        ],
        [
         "JAX",
         "Jacksonville International Airport",
         "Jacksonville",
         "FL",
         "USA",
         "30.49406",
         "-81.68786"
        ],
        [
         "JFK",
         "John F. Kennedy International Airport (New York International Airport)",
         "New York",
         "NY",
         "USA",
         "40.63975",
         "-73.77893"
        ],
        [
         "JLN",
         "Joplin Regional Airport",
         "Joplin",
         "MO",
         "USA",
         "37.15181",
         "-94.49827"
        ],
        [
         "JMS",
         "Jamestown Regional Airport",
         "Jamestown",
         "ND",
         "USA",
         "46.92972",
         "-98.67820"
        ],
        [
         "JNU",
         "Juneau International Airport",
         "Juneau",
         "AK",
         "USA",
         "58.35496",
         "-134.57628"
        ],
        [
         "KOA",
         "Kona International Airport at Keahole",
         "Kailua/Kona",
         "HI",
         "USA",
         "19.73877",
         "-156.04563"
        ],
        [
         "KTN",
         "Ketchikan International Airport",
         "Ketchikan",
         "AK",
         "USA",
         "55.35557",
         "-131.71374"
        ],
        [
         "LAN",
         "Capital Region International Airport ( Lansing Capital City)",
         "Lansing",
         "MI",
         "USA",
         "42.77870",
         "-84.58736"
        ],
        [
         "LAR",
         "Laramie Regional Airport",
         "Laramie",
         "WY",
         "USA",
         "41.31205",
         "-105.67499"
        ],
        [
         "LAS",
         "McCarran International Airport",
         "Las Vegas",
         "NV",
         "USA",
         "36.08036",
         "-115.15233"
        ],
        [
         "LAW",
         "Lawton-Fort Sill Regional Airport",
         "Lawton",
         "OK",
         "USA",
         "34.56771",
         "-98.41664"
        ],
        [
         "LAX",
         "Los Angeles International Airport",
         "Los Angeles",
         "CA",
         "USA",
         "33.94254",
         "-118.40807"
        ],
        [
         "LBB",
         "Lubbock Preston Smith International Airport",
         "Lubbock",
         "TX",
         "USA",
         "33.66364",
         "-101.82278"
        ],
        [
         "LBE",
         "Arnold Palmer Regional Airport",
         "Latrobe",
         "PA",
         "USA",
         "40.27594",
         "-79.40480"
        ],
        [
         "LCH",
         "Lake Charles Regional Airport",
         "Lake Charles",
         "LA",
         "USA",
         "30.12610",
         "-93.22340"
        ],
        [
         "LEX",
         "Blue Grass Airport",
         "Lexington",
         "KY",
         "USA",
         "38.03697",
         "-84.60539"
        ],
        [
         "LFT",
         "Lafayette Regional Airport",
         "Lafayette",
         "LA",
         "USA",
         "30.20528",
         "-91.98766"
        ],
        [
         "LGA",
         "LaGuardia Airport (Marine Air Terminal)",
         "New York",
         "NY",
         "USA",
         "40.77724",
         "-73.87261"
        ],
        [
         "LGB",
         "Long Beach Airport (Daugherty Field)",
         "Long Beach",
         "CA",
         "USA",
         "33.81772",
         "-118.15161"
        ],
        [
         "LIH",
         "Lihue Airport",
         "Lihue",
         "HI",
         "USA",
         "21.97598",
         "-159.33896"
        ],
        [
         "LIT",
         "Bill and Hillary Clinton National Airport (Adams Field)",
         "Little Rock",
         "AR",
         "USA",
         "34.72940",
         "-92.22425"
        ],
        [
         "LNK",
         "Lincoln Airport (Lincoln Municipal)",
         "Lincoln",
         "NE",
         "USA",
         "40.85097",
         "-96.75925"
        ],
        [
         "LRD",
         "Laredo International Airport",
         "Laredo",
         "TX",
         "USA",
         "27.54374",
         "-99.46154"
        ],
        [
         "LSE",
         "La Crosse Regional Airport",
         "La Crosse",
         "WI",
         "USA",
         "43.87938",
         "-91.25654"
        ],
        [
         "LWS",
         "Lewiston-Nez Perce County Airport",
         "Lewiston",
         "ID",
         "USA",
         "46.37450",
         "-117.01539"
        ],
        [
         "MAF",
         "Midland International Airport",
         "Midland",
         "TX",
         "USA",
         "31.94253",
         "-102.20191"
        ],
        [
         "MBS",
         "MBS International Airport",
         "Saginaw",
         "MI",
         "USA",
         "43.53291",
         "-84.07965"
        ],
        [
         "MCI",
         "Kansas City International Airport",
         "Kansas City",
         "MO",
         "USA",
         "39.29761",
         "-94.71391"
        ],
        [
         "MCO",
         "Orlando International Airport",
         "Orlando",
         "FL",
         "USA",
         "28.42889",
         "-81.31603"
        ],
        [
         "MDT",
         "Harrisburg International Airport",
         "Harrisburg",
         "PA",
         "USA",
         "40.19350",
         "-76.76340"
        ],
        [
         "MDW",
         "Chicago Midway International Airport",
         "Chicago",
         "IL",
         "USA",
         "41.78598",
         "-87.75242"
        ],
        [
         "MEI",
         "Meridian Regional Airport",
         "Meridian",
         "MS",
         "USA",
         "32.33313",
         "-88.75121"
        ],
        [
         "MEM",
         "Memphis International Airport",
         "Memphis",
         "TN",
         "USA",
         "35.04242",
         "-89.97667"
        ],
        [
         "MFE",
         "McAllen-Miller International Airport (McAllen Miller International)",
         "McAllen",
         "TX",
         "USA",
         "26.17583",
         "-98.23861"
        ],
        [
         "MFR",
         "Rogue Valley International Airport",
         "Medford",
         "OR",
         "USA",
         "42.37423",
         "-122.87350"
        ],
        [
         "MGM",
         "Montgomery Regional Airport",
         "Montgomery",
         "AL",
         "USA",
         "32.30064",
         "-86.39398"
        ],
        [
         "MHK",
         "Manhattan Regional Airport",
         "Manhattan",
         "KS",
         "USA",
         "39.14097",
         "-96.67083"
        ],
        [
         "MHT",
         "Manchester-Boston Regional Airport",
         "Manchester",
         "NH",
         "USA",
         "42.93452",
         "-71.43706"
        ],
        [
         "MIA",
         "Miami International Airport",
         "Miami",
         "FL",
         "USA",
         "25.79325",
         "-80.29056"
        ],
        [
         "MKE",
         "General Mitchell International Airport",
         "Milwaukee",
         "WI",
         "USA",
         "42.94722",
         "-87.89658"
        ],
        [
         "MKG",
         "Muskegon County Airport",
         "Muskegon",
         "MI",
         "USA",
         "43.16949",
         "-86.23822"
        ],
        [
         "MLB",
         "Melbourne International Airport",
         "Melbourne",
         "FL",
         "USA",
         "28.10275",
         "-80.64581"
        ],
        [
         "MLI",
         "Quad City International Airport",
         "Moline",
         "IL",
         "USA",
         "41.44853",
         "-90.50754"
        ],
        [
         "MLU",
         "Monroe Regional Airport",
         "Monroe",
         "LA",
         "USA",
         "32.51087",
         "-92.03769"
        ],
        [
         "MMH",
         "Mammoth Yosemite Airport",
         "Mammoth Lakes",
         "CA",
         "USA",
         "37.62405",
         "-118.83777"
        ],
        [
         "MOB",
         "Mobile Regional Airport",
         "Mobile",
         "AL",
         "USA",
         "30.69142",
         "-88.24283"
        ],
        [
         "MOT",
         "Minot International Airport",
         "Minot",
         "ND",
         "USA",
         "48.25938",
         "-101.28033"
        ],
        [
         "MQT",
         "Sawyer International Airport",
         "Marquette",
         "MI",
         "USA",
         "46.35364",
         "-87.39536"
        ],
        [
         "MRY",
         "Monterey Regional Airport (Monterey Peninsula Airport)",
         "Monterey",
         "CA",
         "USA",
         "36.58698",
         "-121.84295"
        ],
        [
         "MSN",
         "Dane County Regional Airport",
         "Madison",
         "WI",
         "USA",
         "43.13986",
         "-89.33751"
        ],
        [
         "MSO",
         "Missoula International Airport",
         "Missoula",
         "MT",
         "USA",
         "46.91631",
         "-114.09056"
        ],
        [
         "MSP",
         "Minneapolis-Saint Paul International Airport",
         "Minneapolis",
         "MN",
         "USA",
         "44.88055",
         "-93.21692"
        ],
        [
         "MSY",
         "Louis Armstrong New Orleans International Airport",
         "New Orleans",
         "LA",
         "USA",
         "29.99339",
         "-90.25803"
        ],
        [
         "MTJ",
         "Montrose Regional Airport",
         "Montrose",
         "CO",
         "USA",
         "38.50887",
         "-107.89383"
        ],
        [
         "MVY",
         "Martha's Vineyard Airport",
         "Marthas Vineyard",
         "MA",
         "USA",
         "41.39303",
         "-70.61433"
        ],
        [
         "MYR",
         "Myrtle Beach International Airport",
         "Myrtle Beach",
         "SC",
         "USA",
         "33.67975",
         "-78.92833"
        ],
        [
         "OAJ",
         "Albert J. Ellis Airport",
         "Jacksonville",
         "NC",
         "USA",
         "34.82916",
         "-77.61214"
        ],
        [
         "OAK",
         "Oakland International Airport",
         "Oakland",
         "CA",
         "USA",
         "37.72129",
         "-122.22072"
        ],
        [
         "OGG",
         "Kahului Airport",
         "Kahului",
         "HI",
         "USA",
         "20.89865",
         "-156.43046"
        ],
        [
         "OKC",
         "Will Rogers World Airport",
         "Oklahoma City",
         "OK",
         "USA",
         "35.39309",
         "-97.60073"
        ],
        [
         "OMA",
         "Eppley Airfield",
         "Omaha",
         "NE",
         "USA",
         "41.30252",
         "-95.89417"
        ],
        [
         "OME",
         "Nome Airport",
         "Nome",
         "AK",
         "USA",
         "64.51220",
         "-165.44525"
        ],
        [
         "ONT",
         "Ontario International Airport",
         "Ontario",
         "CA",
         "USA",
         "34.05600",
         "-117.60119"
        ],
        [
         "ORD",
         "Chicago O'Hare International Airport",
         "Chicago",
         "IL",
         "USA",
         "41.97960",
         "-87.90446"
        ],
        [
         "ORF",
         "Norfolk International Airport",
         "Norfolk",
         "VA",
         "USA",
         "36.89461",
         "-76.20122"
        ],
        [
         "ORH",
         "Worcester Regional Airport",
         "Worcester",
         "MA",
         "USA",
         "42.26734",
         "-71.87571"
        ],
        [
         "OTH",
         "Southwest Oregon Regional Airport (North Bend Municipal)",
         "North Bend",
         "OR",
         "USA",
         "43.41714",
         "-124.24603"
        ],
        [
         "OTZ",
         "Ralph Wien Memorial Airport",
         "Kotzebue",
         "AK",
         "USA",
         "66.88468",
         "-162.59855"
        ],
        [
         "PAH",
         "Barkley Regional Airport",
         "Paducah",
         "KY",
         "USA",
         "37.06083",
         "-88.77375"
        ],
        [
         "PBG",
         "Plattsburgh International Airport",
         "Plattsburgh",
         "NY",
         "USA",
         null,
         null
        ],
        [
         "PBI",
         "Palm Beach International Airport",
         "West Palm Beach",
         "FL",
         "USA",
         "26.68316",
         "-80.09559"
        ],
        [
         "PDX",
         "Portland International Airport",
         "Portland",
         "OR",
         "USA",
         "45.58872",
         "-122.59750"
        ],
        [
         "PHF",
         "Newport News/Williamsburg International Airport",
         "Newport News",
         "VA",
         "USA",
         "37.13190",
         "-76.49299"
        ],
        [
         "PHL",
         "Philadelphia International Airport",
         "Philadelphia",
         "PA",
         "USA",
         "39.87195",
         "-75.24114"
        ],
        [
         "PHX",
         "Phoenix Sky Harbor International Airport",
         "Phoenix",
         "AZ",
         "USA",
         "33.43417",
         "-112.00806"
        ],
        [
         "PIA",
         "General Wayne A. Downing Peoria International Airport",
         "Peoria",
         "IL",
         "USA",
         "40.66424",
         "-89.69331"
        ],
        [
         "PIB",
         "Hattiesburg-Laurel Regional Airport",
         "Hattiesburg-Laurel",
         "MS",
         "USA",
         "31.46715",
         "-89.33706"
        ],
        [
         "PIH",
         "Pocatello Regional Airport",
         "Pocatello",
         "ID",
         "USA",
         "42.91131",
         "-112.59586"
        ],
        [
         "PIT",
         "Pittsburgh International Airport",
         "Pittsburgh",
         "PA",
         "USA",
         "40.49147",
         "-80.23287"
        ],
        [
         "PLN",
         "Pellston Regional Airport of Emmet County",
         "Pellston",
         "MI",
         "USA",
         "45.57093",
         "-84.79672"
        ],
        [
         "PNS",
         "Pensacola International Airport (Pensacola Gulf Coast Regional Airport)",
         "Pensacola",
         "FL",
         "USA",
         "30.47331",
         "-87.18744"
        ],
        [
         "PPG",
         "Pago Pago International Airport (Tafuna Airport)",
         "Pago Pago",
         "AS",
         "USA",
         "14.33102",
         "-170.71053"
        ],
        [
         "PSC",
         "Tri-Cities Airport",
         "Pasco",
         "WA",
         "USA",
         "46.26468",
         "-119.11903"
        ],
        [
         "PSE",
         "Mercedita Airport",
         "Ponce",
         "PR",
         "USA",
         "18.00830",
         "-66.56301"
        ],
        [
         "PSG",
         "Petersburg James A. Johnson Airport",
         "Petersburg",
         "AK",
         "USA",
         "56.80165",
         "-132.94528"
        ],
        [
         "PSP",
         "Palm Springs International Airport",
         "Palm Springs",
         "CA",
         "USA",
         "33.82922",
         "-116.50625"
        ],
        [
         "PUB",
         "Pueblo Memorial Airport",
         "Pueblo",
         "CO",
         "USA",
         "38.28909",
         "-104.49657"
        ],
        [
         "PVD",
         "Theodore Francis Green State Airport",
         "Providence",
         "RI",
         "USA",
         "41.72400",
         "-71.42822"
        ],
        [
         "PWM",
         "Portland International Jetport",
         "Portland",
         "ME",
         "USA",
         "43.64617",
         "-70.30875"
        ],
        [
         "RAP",
         "Rapid City Regional Airport",
         "Rapid City",
         "SD",
         "USA",
         "44.04532",
         "-103.05737"
        ],
        [
         "RDD",
         "Redding Municipal Airport",
         "Redding",
         "CA",
         "USA",
         "40.50898",
         "-122.29340"
        ],
        [
         "RDM",
         "Redmond Municipal Airport (Roberts Field)",
         "Redmond",
         "OR",
         "USA",
         "44.25407",
         "-121.14996"
        ],
        [
         "RDU",
         "Raleigh-Durham International Airport",
         "Raleigh",
         "NC",
         "USA",
         "35.87764",
         "-78.78747"
        ],
        [
         "RHI",
         "Rhinelander-Oneida County Airport",
         "Rhinelander",
         "WI",
         "USA",
         "45.63119",
         "-89.46745"
        ],
        [
         "RIC",
         "Richmond International Airport",
         "Richmond",
         "VA",
         "USA",
         "37.50517",
         "-77.31967"
        ],
        [
         "RKS",
         "Rock Springs-Sweetwater County Airport",
         "Rock Springs",
         "WY",
         "USA",
         "41.59422",
         "-109.06519"
        ],
        [
         "RNO",
         "Reno/Tahoe International Airport",
         "Reno",
         "NV",
         "USA",
         "39.49858",
         "-119.76806"
        ],
        [
         "ROA",
         "Roanoke Regional Airport (Woodrum Field)",
         "Roanoke",
         "VA",
         "USA",
         "37.32547",
         "-79.97543"
        ],
        [
         "ROC",
         "Greater Rochester International Airport",
         "Rochester",
         "NY",
         "USA",
         "43.11887",
         "-77.67238"
        ],
        [
         "ROW",
         "Roswell International Air Center",
         "Roswell",
         "NM",
         "USA",
         "33.30156",
         "-104.53056"
        ],
        [
         "RST",
         "Rochester International Airport",
         "Rochester",
         "MN",
         "USA",
         "43.90883",
         "-92.49799"
        ],
        [
         "RSW",
         "Southwest Florida International Airport",
         "Ft. Myers",
         "FL",
         "USA",
         "26.53617",
         "-81.75517"
        ],
        [
         "SAF",
         "Santa Fe Municipal Airport",
         "Santa Fe",
         "NM",
         "USA",
         "35.61678",
         "-106.08814"
        ],
        [
         "SAN",
         "San Diego International Airport (Lindbergh Field)",
         "San Diego",
         "CA",
         "USA",
         "32.73356",
         "-117.18966"
        ],
        [
         "SAT",
         "San Antonio International Airport",
         "San Antonio",
         "TX",
         "USA",
         "29.53369",
         "-98.46978"
        ],
        [
         "SAV",
         "Savannah/Hilton Head International Airport",
         "Savannah",
         "GA",
         "USA",
         "32.12758",
         "-81.20214"
        ],
        [
         "SBA",
         "Santa Barbara Municipal Airport (Santa Barbara Airport)",
         "Santa Barbara",
         "CA",
         "USA",
         "34.42621",
         "-119.84037"
        ],
        [
         "SBN",
         "South Bend International Airport (South Bend Regional)",
         "South Bend",
         "IN",
         "USA",
         "41.70895",
         "-86.31847"
        ],
        [
         "SBP",
         "San Luis Obispo County Regional Airport (McChesney Field)",
         "San Luis Obispo",
         "CA",
         "USA",
         "35.23706",
         "-120.64239"
        ],
        [
         "SCC",
         "Deadhorse Airport (Prudhoe Bay Airport)",
         "Deadhorse",
         "AK",
         "USA",
         "70.19476",
         "-148.46516"
        ],
        [
         "SCE",
         "University Park Airport",
         "State College",
         "PA",
         "USA",
         "40.85121",
         "-77.84630"
        ],
        [
         "SDF",
         "Louisville International Airport (Standiford Field)",
         "Louisville",
         "KY",
         "USA",
         "38.17439",
         "-85.73600"
        ],
        [
         "SEA",
         "Seattle-Tacoma International Airport",
         "Seattle",
         "WA",
         "USA",
         "47.44898",
         "-122.30931"
        ],
        [
         "SFO",
         "San Francisco International Airport",
         "San Francisco",
         "CA",
         "USA",
         "37.61900",
         "-122.37484"
        ],
        [
         "SGF",
         "Springfield-Branson National Airport",
         "Springfield",
         "MO",
         "USA",
         "37.24433",
         "-93.38686"
        ],
        [
         "SGU",
         "St. George Regional Airport",
         "St George",
         "UT",
         "USA",
         "37.09058",
         "-113.59306"
        ],
        [
         "SHV",
         "Shreveport Regional Airport",
         "Shreveport",
         "LA",
         "USA",
         "32.44663",
         "-93.82560"
        ],
        [
         "SIT",
         "Sitka Rocky Gutierrez Airport",
         "Sitka",
         "AK",
         "USA",
         "57.04714",
         "-135.36160"
        ],
        [
         "SJC",
         "Norman Y. Mineta San José International Airport",
         "San Jose",
         "CA",
         "USA",
         "37.36186",
         "-121.92901"
        ],
        [
         "SJT",
         "San Angelo Regional Airport (Mathis Field)",
         "San Angelo",
         "TX",
         "USA",
         "31.35775",
         "-100.49631"
        ],
        [
         "SJU",
         "Luis Muñoz Marín International Airport",
         "San Juan",
         "PR",
         "USA",
         "18.43942",
         "-66.00183"
        ],
        [
         "SLC",
         "Salt Lake City International Airport",
         "Salt Lake City",
         "UT",
         "USA",
         "40.78839",
         "-111.97777"
        ],
        [
         "SMF",
         "Sacramento International Airport",
         "Sacramento",
         "CA",
         "USA",
         "38.69542",
         "-121.59077"
        ],
        [
         "SMX",
         "Santa Maria Public Airport (Capt G. Allan Hancock Field)",
         "Santa Maria",
         "CA",
         "USA",
         "34.89925",
         "-120.45758"
        ],
        [
         "SNA",
         "John Wayne Airport (Orange County Airport)",
         "Santa Ana",
         "CA",
         "USA",
         "33.67566",
         "-117.86822"
        ],
        [
         "SPI",
         "Abraham Lincoln Capital Airport",
         "Springfield",
         "IL",
         "USA",
         "39.84395",
         "-89.67762"
        ],
        [
         "SPS",
         "Wichita Falls Municipal Airport/Sheppard AFB",
         "Wichita Falls",
         "TX",
         "USA",
         "33.98880",
         "-98.49189"
        ],
        [
         "SRQ",
         "Sarasota-Bradenton International Airport",
         "Sarasota",
         "FL",
         "USA",
         "27.39533",
         "-82.55411"
        ],
        [
         "STC",
         "St. Cloud Regional Airport",
         "St Cloud",
         "MN",
         "USA",
         "45.54532",
         "-94.05834"
        ],
        [
         "STL",
         "St. Louis International Airport at Lambert Field",
         "St Louis",
         "MO",
         "USA",
         "38.74769",
         "-90.35999"
        ],
        [
         "STT",
         "Cyril E. King Airport",
         "Charlotte Amalie",
         "VI",
         "USA",
         "18.33731",
         "-64.97336"
        ],
        [
         "STT",
         "Cyril E. King Airport",
         "Charlotte Amalie",
         null,
         null,
         "VI",
         "USA"
        ],
        [
         "STX",
         "Henry E. Rohlsen Airport",
         "Christiansted",
         "VI",
         "USA",
         "17.70189",
         "-64.79856"
        ],
        [
         "SUN",
         "Friedman Memorial Airport",
         "Hailey",
         "ID",
         "USA",
         "43.50484",
         "-114.29659"
        ],
        [
         "SUX",
         "Sioux Gateway Airport",
         "Sioux City",
         "IA",
         "USA",
         "42.40260",
         "-96.38437"
        ],
        [
         "SWF",
         "Stewart International Airport",
         "Newburgh",
         "NY",
         "USA",
         "41.50409",
         "-74.10484"
        ],
        [
         "SYR",
         "Syracuse Hancock International Airport",
         "Syracuse",
         "NY",
         "USA",
         "43.11119",
         "-76.10631"
        ],
        [
         "TLH",
         "Tallahassee International Airport",
         "Tallahassee",
         "FL",
         "USA",
         "30.39653",
         "-84.35033"
        ],
        [
         "TOL",
         "Toledo Express Airport",
         "Toledo",
         "OH",
         "USA",
         "41.58681",
         "-83.80783"
        ],
        [
         "TPA",
         "Tampa International Airport",
         "Tampa",
         "FL",
         "USA",
         "27.97547",
         "-82.53325"
        ],
        [
         "TRI",
         "Tri-Cities Regional Airport",
         "Bristol",
         "TN",
         "USA",
         "36.47521",
         "-82.40742"
        ],
        [
         "TTN",
         "Trenton Mercer Airport",
         "Trenton",
         "NJ",
         "USA",
         "40.27669",
         "-74.81347"
        ],
        [
         "TUL",
         "Tulsa International Airport",
         "Tulsa",
         "OK",
         "USA",
         "36.19837",
         "-95.88824"
        ],
        [
         "TUS",
         "Tucson International Airport",
         "Tucson",
         "AZ",
         "USA",
         "32.11608",
         "-110.94103"
        ],
        [
         "TVC",
         "Cherry Capital Airport",
         "Traverse City",
         "MI",
         "USA",
         "44.74144",
         "-85.58224"
        ],
        [
         "TWF",
         "Magic Valley Regional Airport (Joslin Field)",
         "Twin Falls",
         "ID",
         "USA",
         "42.48180",
         "-114.48774"
        ],
        [
         "TXK",
         "Texarkana Regional Airport (Webb Field)",
         "Texarkana",
         "AR",
         "USA",
         "33.45371",
         "-93.99102"
        ],
        [
         "TYR",
         "Tyler Pounds Regional Airport",
         "Tyler",
         "TX",
         "USA",
         "32.35414",
         "-95.40239"
        ],
        [
         "TYS",
         "McGhee Tyson Airport",
         "Knoxville",
         "TN",
         "USA",
         "35.81249",
         "-83.99286"
        ],
        [
         "UST",
         "Northeast Florida Regional Airport (St. Augustine Airport)",
         "St. Augustine",
         "FL",
         "USA",
         null,
         null
        ],
        [
         "VEL",
         "Valdez Airport",
         "Vernal",
         "UT",
         "USA",
         "40.44090",
         "-109.50992"
        ],
        [
         "VLD",
         "Valdosta Regional Airport",
         "Valdosta",
         "GA",
         "USA",
         "30.78250",
         "-83.27672"
        ],
        [
         "VPS",
         "Destin-Fort Walton Beach Airport/Eglin AFB",
         "Valparaiso",
         "FL",
         "USA",
         "30.48325",
         "-86.52540"
        ],
        [
         "WRG",
         "Wrangell Airport",
         "Wrangell",
         "AK",
         "USA",
         "56.48433",
         "-132.36982"
        ],
        [
         "WYS",
         "Westerly State Airport",
         "West Yellowstone",
         "MT",
         "USA",
         "44.68840",
         "-111.11764"
        ],
        [
         "XNA",
         "Northwest Arkansas Regional Airport",
         "Fayetteville/Springdale/Rogers",
         "AR",
         "USA",
         "36.28187",
         "-94.30681"
        ],
        [
         "YAK",
         "Yakutat Airport",
         "Yakutat",
         "AK",
         "USA",
         "59.50336",
         "-139.66023"
        ],
        [
         "YUM",
         "Yuma International Airport",
         "Yuma",
         "AZ",
         "USA",
         "32.65658",
         "-114.60597"
        ],
        [
         "YUM",
         "Yuma International Airport",
         "Yuma",
         "AZ",
         "USA",
         "32.65658",
         null
        ]
       ],
       "datasetInfos": [],
       "dbfsResultPath": null,
       "isJsonSchema": true,
       "metadata": {},
       "overflow": false,
       "plotOptions": {
        "customPlotOptions": {},
        "displayType": "table",
        "pivotAggregation": null,
        "pivotColumns": null,
        "xColumns": null,
        "yColumns": null
       },
       "removedWidgets": [],
       "schema": [
        {
         "metadata": "{}",
         "name": "IATA_CODE",
         "type": "\"string\""
        },
        {
         "metadata": "{}",
         "name": "AIRPORT",
         "type": "\"string\""
        },
        {
         "metadata": "{}",
         "name": "CITY",
         "type": "\"string\""
        },
        {
         "metadata": "{}",
         "name": "STATE",
         "type": "\"string\""
        },
        {
         "metadata": "{}",
         "name": "COUNTRY",
         "type": "\"string\""
        },
        {
         "metadata": "{}",
         "name": "LATITUDE",
         "type": "\"string\""
        },
        {
         "metadata": "{}",
         "name": "LONGITUDE",
         "type": "\"string\""
        }
       ],
       "type": "table"
      }
     },
     "output_type": "display_data"
    }
   ],
   "source": [
    "display(df_airports)"
   ]
  },
  {
   "cell_type": "code",
   "execution_count": 0,
   "metadata": {
    "application/vnd.databricks.v1+cell": {
     "cellMetadata": {
      "byteLimit": 2048000,
      "rowLimit": 10000
     },
     "inputWidgets": {},
     "nuid": "3b1f9fb4-35e9-4692-837c-9fd8c3c42e06",
     "showTitle": false,
     "title": ""
    }
   },
   "outputs": [],
   "source": [
    "df_flights = spark.read.format('csv').options(header='true').load('dbfs:/FileStore/ph_data/flights')"
   ]
  },
  {
   "cell_type": "code",
   "execution_count": 0,
   "metadata": {
    "application/vnd.databricks.v1+cell": {
     "cellMetadata": {
      "byteLimit": 2048000,
      "rowLimit": 10000
     },
     "inputWidgets": {},
     "nuid": "873c782f-777e-46ff-b100-aee6ead2c979",
     "showTitle": false,
     "title": ""
    }
   },
   "outputs": [],
   "source": [
    "df_airlines = spark.read.format('json').load('dbfs:/FileStore/ph_data/airlines-1.json')"
   ]
  },
  {
   "cell_type": "code",
   "execution_count": 0,
   "metadata": {
    "application/vnd.databricks.v1+cell": {
     "cellMetadata": {},
     "inputWidgets": {},
     "nuid": "acff1002-02ff-4918-a8c9-563af99afc72",
     "showTitle": false,
     "title": ""
    }
   },
   "outputs": [],
   "source": [
    "#region ap-southeast-1\n",
    "#Org AYPWYOS , aypwyos\n",
    "#Account ST90550 , st90550\n",
    "#locator PL60458, pl60458\n",
    "\n",
    "https://docs.snowflake.com/en/user-guide/admin-account-identifier\n"
   ]
  },
  {
   "cell_type": "code",
   "execution_count": 0,
   "metadata": {
    "application/vnd.databricks.v1+cell": {
     "cellMetadata": {
      "byteLimit": 2048000,
      "rowLimit": 10000
     },
     "inputWidgets": {},
     "nuid": "e29a32b4-607f-44c4-84c9-7bb4f6808760",
     "showTitle": false,
     "title": ""
    }
   },
   "outputs": [],
   "source": [
    "username = 'KAMLA'\n",
    "role = 'ACCOUNTADMIN'\n",
    "account = 'pl60458.ap-southeast-1'\n",
    "warehouse = 'compute_wh'\n",
    "database = 'SNOWFLAKE_SAMPLE_DATA'\n",
    "schema = 'TPCDS_SF10TCL'"
   ]
  },
  {
   "cell_type": "code",
   "execution_count": 0,
   "metadata": {
    "application/vnd.databricks.v1+cell": {
     "cellMetadata": {
      "byteLimit": 2048000,
      "rowLimit": 10000
     },
     "inputWidgets": {},
     "nuid": "2b66b2e0-c742-494a-afba-8ac62ca91cd9",
     "showTitle": false,
     "title": ""
    }
   },
   "outputs": [],
   "source": [
    "def sf_auth_client(username,account,warehouse,role,database,schema,client_session_keep_alive=False):\n",
    "    try:\n",
    "        ctx = snowflake.connector.connect (\n",
    "            user = username,\n",
    "            password = 'Kamla.@12345',\n",
    "            role = role,\n",
    "            account = account,\n",
    "            warehouse = warehouse,\n",
    "            database = database,\n",
    "            schema = schema,\n",
    "            client_session_keep_alive = client_session_keep_alive\n",
    "        )\n",
    "        return ctx\n",
    "    except snowflake.connector.errors.DatabaseError as db_ex:\n",
    "        if db_ex.errno == 250001:\n",
    "            print(\"Invalid username/password\")\n",
    "\n",
    "        else:\n",
    "            raise print(\"DB error\")\n",
    "    except Exception as ex:\n",
    "        print(f\"SF connection error : {ex}\")\n",
    "        raise\n",
    "            \n",
    "def data_sf_df(query,conn=None):\n",
    "    cursor = None\n",
    "    if conn is None:\n",
    "        conn = sf_auth_client(username,account,warehouse,role,database,schema)\n",
    "    try:\n",
    "        cursor = conn.cursor()\n",
    "        cursor.execute(query)\n",
    "        dataframe = pd.DataFrame.from_records(\n",
    "            iter(cursor),columns = [x[0] for x in cursor.description]\n",
    "        )\n",
    "        return dataframe\n",
    "    except Exception as ex:\n",
    "        print(f\"SF data_sf_df error : {ex}\")\n",
    "\n",
    "    finally:\n",
    "        if cursor:\n",
    "            cursor.close()\n",
    "\n",
    "    \n",
    "\n",
    "def sf_query(query,conn):\n",
    "    cursor = None\n",
    "    if conn is None:\n",
    "        conn = sf_auth_client(username,account,warehouse,role,database,schema)\n",
    "    try:\n",
    "        cursor = conn.cursor()\n",
    "        cursor.execute(query_ins)\n",
    "        query_id = cursor.sfqid\n",
    "        while conn.is_still_running(conn.get_query_status_throw_if_error(query_id)):\n",
    "            time.sleep(1)\n",
    "        conn.commit()\n",
    "        results = cursor.fetchall()\n",
    "        return results\n",
    "    except Exception as ex:\n",
    "        print(f\"SF sf_query error : {ex}\")\n",
    "\n",
    "    finally:\n",
    "        if cursor:\n",
    "            cursor.close()\n",
    "\n"
   ]
  },
  {
   "cell_type": "code",
   "execution_count": 0,
   "metadata": {
    "application/vnd.databricks.v1+cell": {
     "cellMetadata": {
      "byteLimit": 2048000,
      "rowLimit": 10000
     },
     "inputWidgets": {},
     "nuid": "ff1d3650-9547-45a2-a3b7-8fa39df8c86d",
     "showTitle": false,
     "title": ""
    }
   },
   "outputs": [],
   "source": [
    "ctx = sf_auth_client(username=username,account=account,warehouse=warehouse,role=role,database='PH_DATA_RAW',schema='NORTHWOODS_RAW_LAYER',client_session_keep_alive=True)\n",
    "\n",
    "success, nchunks, nrows , ext = write_pandas(\n",
    "    conn=ctx,\n",
    "    df=df_airports.toPandas(),\n",
    "    table_name='AIRPORTS',\n",
    "    auto_create_table=True,\n",
    "    table_type='',\n",
    "    overwrite=True,\n",
    "    database='PH_DATA_RAW',\n",
    "    schema=\"NORTHWOODS_RAW_LAYER\"\n",
    ")\n",
    "ctx.close()"
   ]
  },
  {
   "cell_type": "code",
   "execution_count": 0,
   "metadata": {
    "application/vnd.databricks.v1+cell": {
     "cellMetadata": {
      "byteLimit": 2048000,
      "rowLimit": 10000
     },
     "inputWidgets": {},
     "nuid": "5f5efe74-c08a-45a1-8de0-5f4ca1bd0955",
     "showTitle": false,
     "title": ""
    }
   },
   "outputs": [],
   "source": [
    "ctx = sf_auth_client(username=username,account=account,warehouse=warehouse,role=role,database='PH_DATA_RAW',schema='NORTHWOODS_RAW_LAYER',client_session_keep_alive=True)\n",
    "\n",
    "success, nchunks, nrows , ext = write_pandas(\n",
    "    conn=ctx,\n",
    "    df=df_airlines.toPandas(),\n",
    "    table_name='AIRLINES',\n",
    "    auto_create_table=True,\n",
    "    table_type='',\n",
    "    overwrite=True,\n",
    "    database='PH_DATA_RAW',\n",
    "    schema=\"NORTHWOODS_RAW_LAYER\"\n",
    "\n",
    ")\n",
    "ctx.close()"
   ]
  },
  {
   "cell_type": "code",
   "execution_count": 0,
   "metadata": {
    "application/vnd.databricks.v1+cell": {
     "cellMetadata": {
      "byteLimit": 2048000,
      "rowLimit": 10000
     },
     "inputWidgets": {},
     "nuid": "db704a67-44f6-4707-9c31-4414f11544c1",
     "showTitle": false,
     "title": ""
    }
   },
   "outputs": [],
   "source": [
    "ctx = sf_auth_client(username=username,account=account,warehouse=warehouse,role=role,database='PH_DATA_RAW',schema='NORTHWOODS_RAW_LAYER',client_session_keep_alive=True)\n",
    "\n",
    "success, nchunks, nrows , ext = write_pandas(\n",
    "    conn=ctx,\n",
    "    df=df_flights.toPandas(),\n",
    "    table_name='FLIGHTS',\n",
    "    auto_create_table=True,\n",
    "    table_type='',\n",
    "    overwrite=True,\n",
    "    database='PH_DATA_RAW',\n",
    "    schema=\"NORTHWOODS_RAW_LAYER\",\n",
    "    parallel=4\n",
    "\n",
    ")\n",
    "ctx.close()"
   ]
  },
  {
   "cell_type": "code",
   "execution_count": 0,
   "metadata": {
    "application/vnd.databricks.v1+cell": {
     "cellMetadata": {
      "byteLimit": 2048000,
      "rowLimit": 10000
     },
     "inputWidgets": {},
     "nuid": "ed573bfb-49a5-46fa-a9c8-f8775ba49796",
     "showTitle": false,
     "title": ""
    }
   },
   "outputs": [],
   "source": [
    "ctx = sf_auth_client(username=username,account=account,warehouse=warehouse,role=role,database='PH_DATA_RAW',schema='NORTHWOODS_RAW_LAYER',client_session_keep_alive=True)\n",
    "\n",
    "success, nchunks, nrows , ext = write_pandas(\n",
    "    conn=ctx,\n",
    "    df=df_flights.toPandas(),\n",
    "    table_name='FLIGHTS',\n",
    "    auto_create_table=True,\n",
    "    table_type='',\n",
    "    overwrite=True,\n",
    "    database='PH_DATA_RAW',\n",
    "    schema=\"NORTHWOODS_RAW_LAYER\",\n",
    "    parallel=4,\n",
    "    chunk_size=100000\n",
    "\n",
    ")\n",
    "ctx.close()"
   ]
  },
  {
   "cell_type": "code",
   "execution_count": 0,
   "metadata": {
    "application/vnd.databricks.v1+cell": {
     "cellMetadata": {
      "byteLimit": 2048000,
      "rowLimit": 10000
     },
     "inputWidgets": {},
     "nuid": "0e0d00e0-ca9d-48db-af72-807ba0ba5b4b",
     "showTitle": false,
     "title": ""
    }
   },
   "outputs": [],
   "source": [
    "ctx = sf_auth_client(username=username,account=account,warehouse=warehouse,role=role,database='PH_DATA_RAW',schema='NORTHWOODS_RAW_LAYER',client_session_keep_alive=True)\n",
    "\n",
    "success, nchunks, nrows , ext = write_pandas(\n",
    "    conn=ctx,\n",
    "    df=df_flights.toPandas(),\n",
    "    table_name='FLIGHTS',\n",
    "    auto_create_table=True,\n",
    "    table_type='',\n",
    "    overwrite=True,\n",
    "    database='PH_DATA_RAW',\n",
    "    schema=\"NORTHWOODS_RAW_LAYER\",\n",
    "    parallel=15,\n",
    "\n",
    ")\n",
    "ctx.close()"
   ]
  },
  {
   "cell_type": "code",
   "execution_count": 0,
   "metadata": {
    "application/vnd.databricks.v1+cell": {
     "cellMetadata": {
      "byteLimit": 2048000,
      "rowLimit": 10000
     },
     "inputWidgets": {},
     "nuid": "da9abb0e-d249-446c-94d4-054ab09dfc57",
     "showTitle": false,
     "title": ""
    }
   },
   "outputs": [],
   "source": [
    "ctx = sf_auth_client(username=username,account=account,warehouse=warehouse,role=role,database='PH_DATA_RAW',schema='NORTHWOODS_RAW_LAYER',client_session_keep_alive=True)\n",
    "\n",
    "success, nchunks, nrows , ext = write_pandas(\n",
    "    conn=ctx,\n",
    "    df=df_flights.toPandas(),\n",
    "    table_name='FLIGHTS',\n",
    "    auto_create_table=True,\n",
    "    table_type='',\n",
    "    overwrite=True,\n",
    "    database='PH_DATA_RAW',\n",
    "    schema=\"NORTHWOODS_RAW_LAYER\",\n",
    "    parallel=8,\n",
    "\n",
    ")\n",
    "ctx.close()"
   ]
  },
  {
   "cell_type": "code",
   "execution_count": 0,
   "metadata": {
    "application/vnd.databricks.v1+cell": {
     "cellMetadata": {
      "byteLimit": 2048000,
      "rowLimit": 10000
     },
     "inputWidgets": {},
     "nuid": "6e2b377e-31c6-4789-98cd-28543cb876f1",
     "showTitle": false,
     "title": ""
    }
   },
   "outputs": [
    {
     "output_type": "execute_result",
     "data": {
      "text/plain": [
       "3920766"
      ]
     },
     "execution_count": 12,
     "metadata": {},
     "output_type": "execute_result"
    }
   ],
   "source": [
    "df_flights.count()"
   ]
  },
  {
   "cell_type": "code",
   "execution_count": 0,
   "metadata": {
    "application/vnd.databricks.v1+cell": {
     "cellMetadata": {
      "byteLimit": 2048000,
      "rowLimit": 10000
     },
     "inputWidgets": {},
     "nuid": "923422ea-ecc7-4908-b33a-365fa78a56fb",
     "showTitle": false,
     "title": ""
    }
   },
   "outputs": [
    {
     "output_type": "execute_result",
     "data": {
      "text/plain": [
       "3920766"
      ]
     },
     "execution_count": 59,
     "metadata": {},
     "output_type": "execute_result"
    }
   ],
   "source": [
    "df_flights.count()"
   ]
  },
  {
   "cell_type": "code",
   "execution_count": 0,
   "metadata": {
    "application/vnd.databricks.v1+cell": {
     "cellMetadata": {
      "byteLimit": 2048000,
      "rowLimit": 10000
     },
     "inputWidgets": {},
     "nuid": "4fdfe482-9954-4707-8027-d0f0568394c9",
     "showTitle": false,
     "title": ""
    }
   },
   "outputs": [
    {
     "output_type": "execute_result",
     "data": {
      "text/plain": [
       "(True,\n",
       " 40,\n",
       " 3920766,\n",
       " [('pmmtrtrxvc/file13.txt',\n",
       "   'LOADED',\n",
       "   100000,\n",
       "   100000,\n",
       "   1,\n",
       "   0,\n",
       "   None,\n",
       "   None,\n",
       "   None,\n",
       "   None),\n",
       "  ('pmmtrtrxvc/file22.txt',\n",
       "   'LOADED',\n",
       "   100000,\n",
       "   100000,\n",
       "   1,\n",
       "   0,\n",
       "   None,\n",
       "   None,\n",
       "   None,\n",
       "   None),\n",
       "  ('pmmtrtrxvc/file3.txt',\n",
       "   'LOADED',\n",
       "   100000,\n",
       "   100000,\n",
       "   1,\n",
       "   0,\n",
       "   None,\n",
       "   None,\n",
       "   None,\n",
       "   None),\n",
       "  ('pmmtrtrxvc/file37.txt',\n",
       "   'LOADED',\n",
       "   100000,\n",
       "   100000,\n",
       "   1,\n",
       "   0,\n",
       "   None,\n",
       "   None,\n",
       "   None,\n",
       "   None),\n",
       "  ('pmmtrtrxvc/file14.txt',\n",
       "   'LOADED',\n",
       "   100000,\n",
       "   100000,\n",
       "   1,\n",
       "   0,\n",
       "   None,\n",
       "   None,\n",
       "   None,\n",
       "   None),\n",
       "  ('pmmtrtrxvc/file20.txt',\n",
       "   'LOADED',\n",
       "   100000,\n",
       "   100000,\n",
       "   1,\n",
       "   0,\n",
       "   None,\n",
       "   None,\n",
       "   None,\n",
       "   None),\n",
       "  ('pmmtrtrxvc/file27.txt',\n",
       "   'LOADED',\n",
       "   100000,\n",
       "   100000,\n",
       "   1,\n",
       "   0,\n",
       "   None,\n",
       "   None,\n",
       "   None,\n",
       "   None),\n",
       "  ('pmmtrtrxvc/file35.txt',\n",
       "   'LOADED',\n",
       "   100000,\n",
       "   100000,\n",
       "   1,\n",
       "   0,\n",
       "   None,\n",
       "   None,\n",
       "   None,\n",
       "   None),\n",
       "  ('pmmtrtrxvc/file38.txt',\n",
       "   'LOADED',\n",
       "   100000,\n",
       "   100000,\n",
       "   1,\n",
       "   0,\n",
       "   None,\n",
       "   None,\n",
       "   None,\n",
       "   None),\n",
       "  ('pmmtrtrxvc/file15.txt',\n",
       "   'LOADED',\n",
       "   100000,\n",
       "   100000,\n",
       "   1,\n",
       "   0,\n",
       "   None,\n",
       "   None,\n",
       "   None,\n",
       "   None),\n",
       "  ('pmmtrtrxvc/file18.txt',\n",
       "   'LOADED',\n",
       "   100000,\n",
       "   100000,\n",
       "   1,\n",
       "   0,\n",
       "   None,\n",
       "   None,\n",
       "   None,\n",
       "   None),\n",
       "  ('pmmtrtrxvc/file24.txt',\n",
       "   'LOADED',\n",
       "   100000,\n",
       "   100000,\n",
       "   1,\n",
       "   0,\n",
       "   None,\n",
       "   None,\n",
       "   None,\n",
       "   None),\n",
       "  ('pmmtrtrxvc/file31.txt',\n",
       "   'LOADED',\n",
       "   100000,\n",
       "   100000,\n",
       "   1,\n",
       "   0,\n",
       "   None,\n",
       "   None,\n",
       "   None,\n",
       "   None),\n",
       "  ('pmmtrtrxvc/file4.txt',\n",
       "   'LOADED',\n",
       "   100000,\n",
       "   100000,\n",
       "   1,\n",
       "   0,\n",
       "   None,\n",
       "   None,\n",
       "   None,\n",
       "   None),\n",
       "  ('pmmtrtrxvc/file1.txt',\n",
       "   'LOADED',\n",
       "   100000,\n",
       "   100000,\n",
       "   1,\n",
       "   0,\n",
       "   None,\n",
       "   None,\n",
       "   None,\n",
       "   None),\n",
       "  ('pmmtrtrxvc/file2.txt',\n",
       "   'LOADED',\n",
       "   100000,\n",
       "   100000,\n",
       "   1,\n",
       "   0,\n",
       "   None,\n",
       "   None,\n",
       "   None,\n",
       "   None),\n",
       "  ('pmmtrtrxvc/file26.txt',\n",
       "   'LOADED',\n",
       "   100000,\n",
       "   100000,\n",
       "   1,\n",
       "   0,\n",
       "   None,\n",
       "   None,\n",
       "   None,\n",
       "   None),\n",
       "  ('pmmtrtrxvc/file32.txt',\n",
       "   'LOADED',\n",
       "   100000,\n",
       "   100000,\n",
       "   1,\n",
       "   0,\n",
       "   None,\n",
       "   None,\n",
       "   None,\n",
       "   None),\n",
       "  ('pmmtrtrxvc/file5.txt',\n",
       "   'LOADED',\n",
       "   100000,\n",
       "   100000,\n",
       "   1,\n",
       "   0,\n",
       "   None,\n",
       "   None,\n",
       "   None,\n",
       "   None),\n",
       "  ('pmmtrtrxvc/file12.txt',\n",
       "   'LOADED',\n",
       "   100000,\n",
       "   100000,\n",
       "   1,\n",
       "   0,\n",
       "   None,\n",
       "   None,\n",
       "   None,\n",
       "   None),\n",
       "  ('pmmtrtrxvc/file17.txt',\n",
       "   'LOADED',\n",
       "   100000,\n",
       "   100000,\n",
       "   1,\n",
       "   0,\n",
       "   None,\n",
       "   None,\n",
       "   None,\n",
       "   None),\n",
       "  ('pmmtrtrxvc/file25.txt',\n",
       "   'LOADED',\n",
       "   100000,\n",
       "   100000,\n",
       "   1,\n",
       "   0,\n",
       "   None,\n",
       "   None,\n",
       "   None,\n",
       "   None),\n",
       "  ('pmmtrtrxvc/file34.txt',\n",
       "   'LOADED',\n",
       "   100000,\n",
       "   100000,\n",
       "   1,\n",
       "   0,\n",
       "   None,\n",
       "   None,\n",
       "   None,\n",
       "   None),\n",
       "  ('pmmtrtrxvc/file7.txt',\n",
       "   'LOADED',\n",
       "   100000,\n",
       "   100000,\n",
       "   1,\n",
       "   0,\n",
       "   None,\n",
       "   None,\n",
       "   None,\n",
       "   None),\n",
       "  ('pmmtrtrxvc/file11.txt',\n",
       "   'LOADED',\n",
       "   100000,\n",
       "   100000,\n",
       "   1,\n",
       "   0,\n",
       "   None,\n",
       "   None,\n",
       "   None,\n",
       "   None),\n",
       "  ('pmmtrtrxvc/file21.txt',\n",
       "   'LOADED',\n",
       "   100000,\n",
       "   100000,\n",
       "   1,\n",
       "   0,\n",
       "   None,\n",
       "   None,\n",
       "   None,\n",
       "   None),\n",
       "  ('pmmtrtrxvc/file28.txt',\n",
       "   'LOADED',\n",
       "   100000,\n",
       "   100000,\n",
       "   1,\n",
       "   0,\n",
       "   None,\n",
       "   None,\n",
       "   None,\n",
       "   None),\n",
       "  ('pmmtrtrxvc/file33.txt',\n",
       "   'LOADED',\n",
       "   100000,\n",
       "   100000,\n",
       "   1,\n",
       "   0,\n",
       "   None,\n",
       "   None,\n",
       "   None,\n",
       "   None),\n",
       "  ('pmmtrtrxvc/file6.txt',\n",
       "   'LOADED',\n",
       "   100000,\n",
       "   100000,\n",
       "   1,\n",
       "   0,\n",
       "   None,\n",
       "   None,\n",
       "   None,\n",
       "   None),\n",
       "  ('pmmtrtrxvc/file0.txt',\n",
       "   'LOADED',\n",
       "   100000,\n",
       "   100000,\n",
       "   1,\n",
       "   0,\n",
       "   None,\n",
       "   None,\n",
       "   None,\n",
       "   None),\n",
       "  ('pmmtrtrxvc/file19.txt',\n",
       "   'LOADED',\n",
       "   100000,\n",
       "   100000,\n",
       "   1,\n",
       "   0,\n",
       "   None,\n",
       "   None,\n",
       "   None,\n",
       "   None),\n",
       "  ('pmmtrtrxvc/file29.txt',\n",
       "   'LOADED',\n",
       "   100000,\n",
       "   100000,\n",
       "   1,\n",
       "   0,\n",
       "   None,\n",
       "   None,\n",
       "   None,\n",
       "   None),\n",
       "  ('pmmtrtrxvc/file36.txt',\n",
       "   'LOADED',\n",
       "   100000,\n",
       "   100000,\n",
       "   1,\n",
       "   0,\n",
       "   None,\n",
       "   None,\n",
       "   None,\n",
       "   None),\n",
       "  ('pmmtrtrxvc/file8.txt',\n",
       "   'LOADED',\n",
       "   100000,\n",
       "   100000,\n",
       "   1,\n",
       "   0,\n",
       "   None,\n",
       "   None,\n",
       "   None,\n",
       "   None),\n",
       "  ('pmmtrtrxvc/file10.txt',\n",
       "   'LOADED',\n",
       "   100000,\n",
       "   100000,\n",
       "   1,\n",
       "   0,\n",
       "   None,\n",
       "   None,\n",
       "   None,\n",
       "   None),\n",
       "  ('pmmtrtrxvc/file16.txt',\n",
       "   'LOADED',\n",
       "   100000,\n",
       "   100000,\n",
       "   1,\n",
       "   0,\n",
       "   None,\n",
       "   None,\n",
       "   None,\n",
       "   None),\n",
       "  ('pmmtrtrxvc/file23.txt',\n",
       "   'LOADED',\n",
       "   100000,\n",
       "   100000,\n",
       "   1,\n",
       "   0,\n",
       "   None,\n",
       "   None,\n",
       "   None,\n",
       "   None),\n",
       "  ('pmmtrtrxvc/file30.txt',\n",
       "   'LOADED',\n",
       "   100000,\n",
       "   100000,\n",
       "   1,\n",
       "   0,\n",
       "   None,\n",
       "   None,\n",
       "   None,\n",
       "   None),\n",
       "  ('pmmtrtrxvc/file39.txt',\n",
       "   'LOADED',\n",
       "   20766,\n",
       "   20766,\n",
       "   1,\n",
       "   0,\n",
       "   None,\n",
       "   None,\n",
       "   None,\n",
       "   None),\n",
       "  ('pmmtrtrxvc/file9.txt',\n",
       "   'LOADED',\n",
       "   100000,\n",
       "   100000,\n",
       "   1,\n",
       "   0,\n",
       "   None,\n",
       "   None,\n",
       "   None,\n",
       "   None)])"
      ]
     },
     "execution_count": 13,
     "metadata": {},
     "output_type": "execute_result"
    }
   ],
   "source": [
    "success, nchunks, nrows , ext"
   ]
  }
 ],
 "metadata": {
  "application/vnd.databricks.v1+notebook": {
   "dashboards": [],
   "environmentMetadata": null,
   "language": "python",
   "notebookMetadata": {
    "pythonIndentUnit": 4
   },
   "notebookName": "Snowflake_PH_DATA",
   "widgets": {}
  }
 },
 "nbformat": 4,
 "nbformat_minor": 0
}
