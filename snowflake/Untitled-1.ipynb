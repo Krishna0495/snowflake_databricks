{
 "cells": [
  {
   "cell_type": "code",
   "execution_count": null,
   "metadata": {},
   "outputs": [],
   "source": [
    "       5\n",
    "     /   \\\n",
    "    4     8\n",
    "   /     /   \\\n",
    "  11    13     6\n",
    " /   \\    \\\n",
    "7    2      1"
   ]
  },
  {
   "cell_type": "code",
   "execution_count": null,
   "metadata": {},
   "outputs": [],
   "source": [
    "{\n",
    "    1: [5],\n",
    "    2: [4,8],\n",
    "    3: [11,13,6],\n",
    "    4: [7,2,1]\n",
    "\n",
    "}"
   ]
  },
  {
   "cell_type": "code",
   "execution_count": null,
   "metadata": {},
   "outputs": [],
   "source": [
    "n = 12"
   ]
  },
  {
   "cell_type": "code",
   "execution_count": null,
   "metadata": {},
   "outputs": [],
   "source": [
    "c = 0\n",
    "\n",
    "def sum_ud(r ):\n",
    "        if r.left is not None:\n",
    "            return sum_ud(r.left)\n",
    "        if r.right is not None:\n",
    "            return sum_ud(r.right)\n",
    "        \n"
   ]
  },
  {
   "cell_type": "code",
   "execution_count": null,
   "metadata": {},
   "outputs": [],
   "source": [
    "c = c + sum_ud(root,n)"
   ]
  },
  {
   "cell_type": "code",
   "execution_count": 2,
   "metadata": {},
   "outputs": [],
   "source": [
    "class TreeNode:\n",
    "    def __init__(self, data):\n",
    "        self.data = data\n",
    "        self.left = None\n",
    "        self.right = None\n",
    "\n",
    "root = TreeNode(5)\n",
    "node4 = TreeNode(4)\n",
    "node8 = TreeNode(8)\n",
    "node11 = TreeNode(11)\n",
    "node13 = TreeNode(13)\n",
    "node7 = TreeNode(7)\n",
    "node2 = TreeNode(2)\n",
    "node1 = TreeNode(1)\n",
    "node6 = TreeNode(6)\n",
    "\n",
    "root.left = node4\n",
    "root.right = node8\n",
    "\n",
    "node4.left = node11\n",
    "node11.left = node7\n",
    "node11.right = node2\n",
    "\n",
    "node8.left = node13\n",
    "\n",
    "node13.right = node1\n",
    "\n",
    "node8.right = node6\n",
    "\n",
    "\n",
    "\n",
    "\n",
    "\n"
   ]
  },
  {
   "cell_type": "code",
   "execution_count": 3,
   "metadata": {},
   "outputs": [
    {
     "data": {
      "text/plain": [
       "<__main__.TreeNode at 0x1048671c0>"
      ]
     },
     "execution_count": 3,
     "metadata": {},
     "output_type": "execute_result"
    }
   ],
   "source": [
    "root"
   ]
  },
  {
   "cell_type": "code",
   "execution_count": null,
   "metadata": {},
   "outputs": [],
   "source": []
  }
 ],
 "metadata": {
  "kernelspec": {
   "display_name": "Python 3",
   "language": "python",
   "name": "python3"
  },
  "language_info": {
   "codemirror_mode": {
    "name": "ipython",
    "version": 3
   },
   "file_extension": ".py",
   "mimetype": "text/x-python",
   "name": "python",
   "nbconvert_exporter": "python",
   "pygments_lexer": "ipython3",
   "version": "3.9.6"
  }
 },
 "nbformat": 4,
 "nbformat_minor": 2
}
