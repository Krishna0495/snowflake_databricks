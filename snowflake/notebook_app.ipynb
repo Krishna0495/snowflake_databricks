{
 "cells": [
  {
   "cell_type": "code",
   "execution_count": null,
   "id": "ebb9cfdd",
   "metadata": {},
   "outputs": [],
   "source": [
    "s=\"falafal\"\n"
   ]
  },
  {
   "cell_type": "code",
   "execution_count": 28,
   "id": "a510efe4",
   "metadata": {},
   "outputs": [],
   "source": [
    "s = \"))(((()(((\"\n"
   ]
  },
  {
   "cell_type": "code",
   "execution_count": 43,
   "id": "7dd7fafa",
   "metadata": {},
   "outputs": [
    {
     "data": {
      "text/plain": [
       "'((((())'"
      ]
     },
     "execution_count": 43,
     "metadata": {},
     "output_type": "execute_result"
    }
   ],
   "source": [
    "s[::-1]"
   ]
  },
  {
   "cell_type": "code",
   "execution_count": 138,
   "id": "610deea8",
   "metadata": {},
   "outputs": [],
   "source": [
    "students = [0, 1, 1, 1, 1, 1, 0] \n",
    "sandwiches = [0, 1, 0, 1, 1, 1, 0]\n",
    "\n",
    "students = [0,0,0,1,0,1,1,1,1,0,1]\n",
    "sandwiches = [0,0,0,1,0,0,0,0,0,1,0]"
   ]
  },
  {
   "cell_type": "code",
   "execution_count": 142,
   "id": "d58f662b",
   "metadata": {},
   "outputs": [
    {
     "data": {
      "text/plain": [
       "{0: 5, 1: 6}"
      ]
     },
     "execution_count": 142,
     "metadata": {},
     "output_type": "execute_result"
    }
   ],
   "source": [
    "m"
   ]
  },
  {
   "cell_type": "code",
   "execution_count": 145,
   "id": "78bf8e0f",
   "metadata": {},
   "outputs": [
    {
     "data": {
      "text/plain": [
       "5"
      ]
     },
     "execution_count": 145,
     "metadata": {},
     "output_type": "execute_result"
    }
   ],
   "source": [
    "m"
   ]
  },
  {
   "cell_type": "code",
   "execution_count": 141,
   "id": "c6c57030",
   "metadata": {},
   "outputs": [],
   "source": [
    "m = {}\n",
    "for student in students:\n",
    "    m[student] = m.get(student, 0) + 1\n",
    "# for sandwich in sandwiches:\n",
    "#     if sandwich in m and m[sandwich] > 0:\n",
    "#         m[sandwich] -= 1\n",
    "#     else:\n",
    "#         print(sum(m.values()))\n",
    "#         break"
   ]
  },
  {
   "cell_type": "code",
   "execution_count": 135,
   "id": "3a664443",
   "metadata": {},
   "outputs": [
    {
     "name": "stdout",
     "output_type": "stream",
     "text": [
      "[0, 0, 0, 1, 0, 1, 1, 1, 1, 0, 1] -1 [0, 0, 0, 1, 0, 0, 0, 0, 0, 1, 0]\n",
      "[0, 1, 0, 1, 1, 1, 1, 0, 1, 0] 0 [0, 0, 1, 0, 0, 0, 0, 0, 1, 0]\n",
      "[0, 1, 1, 1, 1, 0, 1, 0, 1] 0 [0, 1, 0, 0, 0, 0, 0, 1, 0]\n",
      "[1, 1, 1, 0, 1, 0, 1, 1] 0 [1, 0, 0, 0, 0, 0, 1, 0]\n",
      "[1, 0, 1, 0, 1, 1, 1] 0 [0, 0, 0, 0, 0, 1, 0]\n",
      "[0, 1, 0, 1, 1, 1, 1] 1 [0, 0, 0, 0, 0, 1, 0]\n",
      "[0, 1, 1, 1, 1, 1] 0 [0, 0, 0, 0, 1, 0]\n",
      "[1, 1, 1, 1, 1] 0 [0, 0, 0, 1, 0]\n",
      "[1, 1, 1, 1, 1] 1 [0, 0, 0, 1, 0]\n",
      "[1, 1, 1, 1, 1] 2 [0, 0, 0, 1, 0]\n",
      "[1, 1, 1, 1, 1] 3 [0, 0, 0, 1, 0]\n",
      "[1, 1, 1, 1, 1] 4 [0, 0, 0, 1, 0]\n"
     ]
    }
   ],
   "source": [
    "no_of_sw = len(sandwiches)\n",
    "round_s  = len(students)\n",
    "shift_val = 0\n",
    "round_student = students\n",
    "while no_of_sw>=0:\n",
    "    while len(round_student)>=shift_val:\n",
    "        print(round_student,shift_val-1,sandwiches)\n",
    "        if round_student[0]==sandwiches[0]:\n",
    "            sandwiches.pop(0)\n",
    "            round_student.pop(0)\n",
    "            no_of_sw = no_of_sw - 1\n",
    "            shift_val = 0\n",
    "        \n",
    "        # round_student = round_student[-shift_val:]+round_student[:-shift_val]\n",
    "        round_student.append(round_student.pop(0))\n",
    "        shift_val = shift_val + 1\n",
    "    no_of_sw = no_of_sw - 1\n",
    "# return len(round_student)\n",
    "\n",
    "    \n",
    "    \n",
    "    \n",
    "\n",
    "\n",
    "\n",
    "    "
   ]
  },
  {
   "cell_type": "code",
   "execution_count": 115,
   "id": "dae0254c",
   "metadata": {},
   "outputs": [
    {
     "name": "stdout",
     "output_type": "stream",
     "text": [
      "[1, 1, 1, 1, 0, 1]\n",
      "[1, 1, 1, 1, 1, 0]\n",
      "[0, 1, 1, 1, 1, 1]\n",
      "[1, 0, 1, 1, 1, 1]\n",
      "[1, 1, 0, 1, 1, 1]\n",
      "[1, 1, 1, 0, 1, 1]\n",
      "[1, 1, 1, 1, 0, 1]\n"
     ]
    }
   ],
   "source": [
    "test = [1, 1, 1, 1, 0, 1]\n",
    "n = 0\n",
    "while n<=len(test):\n",
    "    print(test[-n:]+test[:-n])\n",
    "    n = n + 1\n",
    "\n",
    "\n"
   ]
  },
  {
   "cell_type": "code",
   "execution_count": 114,
   "id": "3a6a50b2",
   "metadata": {},
   "outputs": [
    {
     "data": {
      "text/plain": [
       "1"
      ]
     },
     "execution_count": 114,
     "metadata": {},
     "output_type": "execute_result"
    }
   ],
   "source": [
    "n"
   ]
  },
  {
   "cell_type": "code",
   "execution_count": 93,
   "id": "934d1a13",
   "metadata": {},
   "outputs": [],
   "source": [
    "students=[1,2,3,4]\n",
    "shift_val = 2"
   ]
  },
  {
   "cell_type": "code",
   "execution_count": 94,
   "id": "500a573d",
   "metadata": {},
   "outputs": [],
   "source": [
    "round_student = students[shift_val:]+students[:shift_val]"
   ]
  },
  {
   "cell_type": "code",
   "execution_count": 95,
   "id": "1edaaf71",
   "metadata": {},
   "outputs": [
    {
     "data": {
      "text/plain": [
       "[3, 4, 1, 2]"
      ]
     },
     "execution_count": 95,
     "metadata": {},
     "output_type": "execute_result"
    }
   ],
   "source": [
    "round_student"
   ]
  },
  {
   "cell_type": "code",
   "execution_count": 44,
   "id": "7e00b25e",
   "metadata": {},
   "outputs": [],
   "source": [
    "# s=s[::-1]"
   ]
  },
  {
   "cell_type": "code",
   "execution_count": 86,
   "id": "bfea4860",
   "metadata": {},
   "outputs": [
    {
     "name": "stdout",
     "output_type": "stream",
     "text": [
      "( 0 [] 0 0\n",
      "( 1 [0] 1 0\n",
      "( 2 [0, 1] 2 0\n",
      "( 3 [0, 1, 2] 3 0\n",
      "( 4 [0, 1, 2, 3] 4 0\n",
      "* 5 [0, 1, 2, 3, 4] 5 0\n",
      "( 6 [0, 1, 2, 3, 4] 5 0\n",
      "( 7 [0, 1, 2, 3, 4, 6] 6 0\n",
      ") 8 [0, 1, 2, 3, 4, 6, 7] 7 0\n",
      "( 9 [0, 1, 2, 3, 4, 6] 7 1\n",
      "( 10 [0, 1, 2, 3, 4, 6, 9] 8 1\n",
      "( 11 [0, 1, 2, 3, 4, 6, 9, 10] 9 1\n",
      "( 12 [0, 1, 2, 3, 4, 6, 9, 10, 11] 10 1\n",
      "* 13 [0, 1, 2, 3, 4, 6, 9, 10, 11, 12] 11 1\n",
      "( 14 [0, 1, 2, 3, 4, 6, 9, 10, 11, 12] 11 1\n",
      "( 15 [0, 1, 2, 3, 4, 6, 9, 10, 11, 12, 14] 12 1\n",
      "* 16 [0, 1, 2, 3, 4, 6, 9, 10, 11, 12, 14, 15] 13 1\n",
      "* 17 [0, 1, 2, 3, 4, 6, 9, 10, 11, 12, 14, 15] 13 1\n",
      "( 18 [0, 1, 2, 3, 4, 6, 9, 10, 11, 12, 14, 15] 13 1\n",
      "( 19 [0, 1, 2, 3, 4, 6, 9, 10, 11, 12, 14, 15, 18] 14 1\n",
      "( 20 [0, 1, 2, 3, 4, 6, 9, 10, 11, 12, 14, 15, 18, 19] 15 1\n",
      "( 21 [0, 1, 2, 3, 4, 6, 9, 10, 11, 12, 14, 15, 18, 19, 20] 16 1\n",
      ") 22 [0, 1, 2, 3, 4, 6, 9, 10, 11, 12, 14, 15, 18, 19, 20, 21] 17 1\n",
      "( 23 [0, 1, 2, 3, 4, 6, 9, 10, 11, 12, 14, 15, 18, 19, 20] 17 2\n",
      ") 24 [0, 1, 2, 3, 4, 6, 9, 10, 11, 12, 14, 15, 18, 19, 20, 23] 18 2\n",
      "* 25 [0, 1, 2, 3, 4, 6, 9, 10, 11, 12, 14, 15, 18, 19, 20] 18 3\n",
      ") 26 [0, 1, 2, 3, 4, 6, 9, 10, 11, 12, 14, 15, 18, 19, 20] 18 3\n",
      "( 27 [0, 1, 2, 3, 4, 6, 9, 10, 11, 12, 14, 15, 18, 19] 18 4\n",
      ") 28 [0, 1, 2, 3, 4, 6, 9, 10, 11, 12, 14, 15, 18, 19, 27] 19 4\n",
      "( 29 [0, 1, 2, 3, 4, 6, 9, 10, 11, 12, 14, 15, 18, 19] 19 5\n",
      ") 30 [0, 1, 2, 3, 4, 6, 9, 10, 11, 12, 14, 15, 18, 19, 29] 20 5\n",
      "( 31 [0, 1, 2, 3, 4, 6, 9, 10, 11, 12, 14, 15, 18, 19] 20 6\n",
      ") 32 [0, 1, 2, 3, 4, 6, 9, 10, 11, 12, 14, 15, 18, 19, 31] 21 6\n",
      "* 33 [0, 1, 2, 3, 4, 6, 9, 10, 11, 12, 14, 15, 18, 19] 21 7\n",
      "( 34 [0, 1, 2, 3, 4, 6, 9, 10, 11, 12, 14, 15, 18, 19] 21 7\n",
      "( 35 [0, 1, 2, 3, 4, 6, 9, 10, 11, 12, 14, 15, 18, 19, 34] 22 7\n",
      "( 36 [0, 1, 2, 3, 4, 6, 9, 10, 11, 12, 14, 15, 18, 19, 34, 35] 23 7\n",
      "( 37 [0, 1, 2, 3, 4, 6, 9, 10, 11, 12, 14, 15, 18, 19, 34, 35, 36] 24 7\n",
      "* 38 [0, 1, 2, 3, 4, 6, 9, 10, 11, 12, 14, 15, 18, 19, 34, 35, 36, 37] 25 7\n",
      "* 39 [0, 1, 2, 3, 4, 6, 9, 10, 11, 12, 14, 15, 18, 19, 34, 35, 36, 37] 25 7\n",
      ") 40 [0, 1, 2, 3, 4, 6, 9, 10, 11, 12, 14, 15, 18, 19, 34, 35, 36, 37] 25 7\n",
      "( 41 [0, 1, 2, 3, 4, 6, 9, 10, 11, 12, 14, 15, 18, 19, 34, 35, 36] 25 8\n",
      ") 42 [0, 1, 2, 3, 4, 6, 9, 10, 11, 12, 14, 15, 18, 19, 34, 35, 36, 41] 26 8\n",
      ") 43 [0, 1, 2, 3, 4, 6, 9, 10, 11, 12, 14, 15, 18, 19, 34, 35, 36] 26 9\n",
      "* 44 [0, 1, 2, 3, 4, 6, 9, 10, 11, 12, 14, 15, 18, 19, 34, 35] 26 10\n",
      ") 45 [0, 1, 2, 3, 4, 6, 9, 10, 11, 12, 14, 15, 18, 19, 34, 35] 26 10\n",
      "* 46 [0, 1, 2, 3, 4, 6, 9, 10, 11, 12, 14, 15, 18, 19, 34] 26 11\n",
      ") 47 [0, 1, 2, 3, 4, 6, 9, 10, 11, 12, 14, 15, 18, 19, 34] 26 11\n",
      ") 48 [0, 1, 2, 3, 4, 6, 9, 10, 11, 12, 14, 15, 18, 19] 26 12\n",
      ") 49 [0, 1, 2, 3, 4, 6, 9, 10, 11, 12, 14, 15, 18] 26 13\n",
      ") 50 [0, 1, 2, 3, 4, 6, 9, 10, 11, 12, 14, 15] 26 14\n",
      ") 51 [0, 1, 2, 3, 4, 6, 9, 10, 11, 12, 14] 26 15\n",
      ") 52 [0, 1, 2, 3, 4, 6, 9, 10, 11, 12] 26 16\n",
      ") 53 [0, 1, 2, 3, 4, 6, 9, 10, 11] 26 17\n",
      "( 54 [0, 1, 2, 3, 4, 6, 9, 10] 26 18\n",
      "( 55 [0, 1, 2, 3, 4, 6, 9, 10, 54] 27 18\n",
      ") 56 [0, 1, 2, 3, 4, 6, 9, 10, 54, 55] 28 18\n",
      ") 57 [0, 1, 2, 3, 4, 6, 9, 10, 54] 28 19\n",
      "( 58 [0, 1, 2, 3, 4, 6, 9, 10] 28 20\n",
      "( 59 [0, 1, 2, 3, 4, 6, 9, 10, 58] 29 20\n",
      ") 60 [0, 1, 2, 3, 4, 6, 9, 10, 58, 59] 30 20\n",
      ") 61 [0, 1, 2, 3, 4, 6, 9, 10, 58] 30 21\n",
      ") 62 [0, 1, 2, 3, 4, 6, 9, 10] 30 22\n",
      "( 63 [0, 1, 2, 3, 4, 6, 9] 30 23\n",
      ") 64 [0, 1, 2, 3, 4, 6, 9, 63] 31 23\n",
      ") 65 [0, 1, 2, 3, 4, 6, 9] 31 24\n",
      "( 66 [0, 1, 2, 3, 4, 6] 31 25\n",
      "( 67 [0, 1, 2, 3, 4, 6, 66] 32 25\n",
      "* 68 [0, 1, 2, 3, 4, 6, 66, 67] 33 25\n",
      "( 69 [0, 1, 2, 3, 4, 6, 66, 67] 33 25\n",
      ") 70 [0, 1, 2, 3, 4, 6, 66, 67, 69] 34 25\n",
      "( 71 [0, 1, 2, 3, 4, 6, 66, 67] 34 26\n",
      ") 72 [0, 1, 2, 3, 4, 6, 66, 67, 71] 35 26\n",
      "( 73 [0, 1, 2, 3, 4, 6, 66, 67] 35 27\n",
      "( 74 [0, 1, 2, 3, 4, 6, 66, 67, 73] 36 27\n",
      "( 75 [0, 1, 2, 3, 4, 6, 66, 67, 73, 74] 37 27\n",
      "( 76 [0, 1, 2, 3, 4, 6, 66, 67, 73, 74, 75] 38 27\n",
      ") 77 [0, 1, 2, 3, 4, 6, 66, 67, 73, 74, 75, 76] 39 27\n",
      "( 78 [0, 1, 2, 3, 4, 6, 66, 67, 73, 74, 75] 39 28\n",
      "( 79 [0, 1, 2, 3, 4, 6, 66, 67, 73, 74, 75, 78] 40 28\n",
      "( 80 [0, 1, 2, 3, 4, 6, 66, 67, 73, 74, 75, 78, 79] 41 28\n",
      ") 81 [0, 1, 2, 3, 4, 6, 66, 67, 73, 74, 75, 78, 79, 80] 42 28\n",
      "* 82 [0, 1, 2, 3, 4, 6, 66, 67, 73, 74, 75, 78, 79] 42 29\n",
      "( 83 [0, 1, 2, 3, 4, 6, 66, 67, 73, 74, 75, 78, 79] 42 29\n",
      "( 84 [0, 1, 2, 3, 4, 6, 66, 67, 73, 74, 75, 78, 79, 83] 43 29\n",
      ") 85 [0, 1, 2, 3, 4, 6, 66, 67, 73, 74, 75, 78, 79, 83, 84] 44 29\n",
      ") 86 [0, 1, 2, 3, 4, 6, 66, 67, 73, 74, 75, 78, 79, 83] 44 30\n",
      "* 87 [0, 1, 2, 3, 4, 6, 66, 67, 73, 74, 75, 78, 79] 44 31\n",
      "( 88 [0, 1, 2, 3, 4, 6, 66, 67, 73, 74, 75, 78, 79] 44 31\n",
      "( 89 [0, 1, 2, 3, 4, 6, 66, 67, 73, 74, 75, 78, 79, 88] 45 31\n",
      ") 90 [0, 1, 2, 3, 4, 6, 66, 67, 73, 74, 75, 78, 79, 88, 89] 46 31\n",
      "* 91 [0, 1, 2, 3, 4, 6, 66, 67, 73, 74, 75, 78, 79, 88] 46 32\n",
      "* 92 [0, 1, 2, 3, 4, 6, 66, 67, 73, 74, 75, 78, 79, 88] 46 32\n",
      ") 93 [0, 1, 2, 3, 4, 6, 66, 67, 73, 74, 75, 78, 79, 88] 46 32\n",
      "( 94 [0, 1, 2, 3, 4, 6, 66, 67, 73, 74, 75, 78, 79] 46 33\n",
      ") 95 [0, 1, 2, 3, 4, 6, 66, 67, 73, 74, 75, 78, 79, 94] 47 33\n",
      "( 96 [0, 1, 2, 3, 4, 6, 66, 67, 73, 74, 75, 78, 79] 47 34\n",
      "( 97 [0, 1, 2, 3, 4, 6, 66, 67, 73, 74, 75, 78, 79, 96] 48 34\n",
      ") 98 [0, 1, 2, 3, 4, 6, 66, 67, 73, 74, 75, 78, 79, 96, 97] 49 34\n",
      ") 99 [0, 1, 2, 3, 4, 6, 66, 67, 73, 74, 75, 78, 79, 96] 49 35\n",
      "True\n"
     ]
    }
   ],
   "source": [
    "s = \"(((((*(()((((*((**(((()()*)()()()*((((**)())*)*)))))))(())(()))())((*()()(((()((()*(())*(()**)()(())\"\n",
    "op = '('\n",
    "cl = ')'\n",
    "l = len(s)\n",
    "i = 0\n",
    "op_c = 0\n",
    "cl_c = 0\n",
    "lo = []\n",
    "var = 0\n",
    "for idx,char in enumerate(s):\n",
    "    print(char,idx,lo,op_c,cl_c)\n",
    "    if char==cl:\n",
    "        cl_c = cl_c + 1\n",
    "        if op_c<=0:\n",
    "            lo.append(idx)\n",
    "            cl_c = cl_c - 1\n",
    "        elif op_c<cl_c :\n",
    "            lo.append(idx)\n",
    "            cl_c = cl_c - 1\n",
    "        else:\n",
    "            lo.pop()\n",
    "\n",
    "    if char==op:\n",
    "        lo.append(idx)\n",
    "        op_c = op_c + 1\n",
    "    if \"*\"==char:\n",
    "        var = var + 1\n",
    "\n",
    "if len(lo)<=var or var==1:\n",
    "    print(True)\n",
    "# new_char = \"\"\n",
    "# for idx, char in enumerate(s):\n",
    "#     if idx not in lo:\n",
    "#         new_char= new_char+char\n",
    "# new_char\n"
   ]
  },
  {
   "cell_type": "code",
   "execution_count": 87,
   "id": "d547b43c",
   "metadata": {},
   "outputs": [
    {
     "data": {
      "text/plain": [
       "15"
      ]
     },
     "execution_count": 87,
     "metadata": {},
     "output_type": "execute_result"
    }
   ],
   "source": [
    "var"
   ]
  },
  {
   "cell_type": "code",
   "execution_count": 89,
   "id": "91cf19ff",
   "metadata": {},
   "outputs": [
    {
     "data": {
      "text/plain": [
       "([0, 1, 2, 3, 4, 6, 66, 67, 73, 74, 75, 78, 79], 13)"
      ]
     },
     "execution_count": 89,
     "metadata": {},
     "output_type": "execute_result"
    }
   ],
   "source": [
    "lo,len(lo)"
   ]
  },
  {
   "cell_type": "code",
   "execution_count": 78,
   "id": "1db27490",
   "metadata": {},
   "outputs": [
    {
     "data": {
      "text/plain": [
       "[3]"
      ]
     },
     "execution_count": 78,
     "metadata": {},
     "output_type": "execute_result"
    }
   ],
   "source": [
    "lo"
   ]
  },
  {
   "cell_type": "code",
   "execution_count": 51,
   "id": "c25eca00",
   "metadata": {},
   "outputs": [
    {
     "name": "stdout",
     "output_type": "stream",
     "text": [
      ") strat\n",
      "here \n",
      "))(((()(((\n",
      ") strat\n",
      "here \n",
      "))(((()(((\n",
      ") strat\n",
      "here \n",
      "))(((()(((\n",
      ") strat\n",
      "here \n",
      "))(((()(((\n",
      ") strat\n",
      "here \n",
      "))(((()(((\n",
      ") strat\n",
      "here \n",
      "))(((()(((\n"
     ]
    }
   ],
   "source": [
    "s = \"))(((()(((\"\n",
    "op = '('\n",
    "cl = ')'\n",
    "l = len(s)\n",
    "i = 0\n",
    "op_c = 0\n",
    "cl_c = 0\n",
    "lo = []\n",
    "while l>=0:\n",
    "    print(s[i],\"strat\")\n",
    "    flg=0\n",
    "    if s[i] == op:\n",
    "        op_c = op_c + 1\n",
    "        lo.append(i)\n",
    "    if s[i] == cl:\n",
    "        cl_c = cl_c + 1\n",
    "        if len(lo)>0:\n",
    "            lo.pop()\n",
    "    if cl_c>op_c:\n",
    "        print(\"here\",s[:i])\n",
    "        lo.append(i)\n",
    "        i = i - 1\n",
    "        l = l - 1\n",
    "        # cl_c = cl_c - 1\n",
    "    \n",
    "\n",
    "\n",
    "\n",
    "    if len(s)<i:\n",
    "        print(\"\")\n",
    "        break\n",
    "    else:\n",
    "        print(s)\n",
    "\n",
    "    i = i + 1\n",
    "    l = l - 1\n",
    "\n",
    "for idx,j in enumerate(s):\n",
    "    for o in lo:\n",
    "        if idx==o and j==op:\n",
    "            s = s[:idx]+s[idx+1:]\n",
    "\n",
    "\n"
   ]
  },
  {
   "cell_type": "code",
   "execution_count": 46,
   "id": "7e01349c",
   "metadata": {},
   "outputs": [
    {
     "data": {
      "text/plain": [
       "[0]"
      ]
     },
     "execution_count": 46,
     "metadata": {},
     "output_type": "execute_result"
    }
   ],
   "source": [
    "lo"
   ]
  },
  {
   "cell_type": "code",
   "execution_count": 42,
   "id": "a1034ac7",
   "metadata": {},
   "outputs": [
    {
     "data": {
      "text/plain": [
       "('((((())', '))(((((')"
      ]
     },
     "execution_count": 42,
     "metadata": {},
     "output_type": "execute_result"
    }
   ],
   "source": [
    "s[::-1],s"
   ]
  },
  {
   "cell_type": "code",
   "execution_count": 103,
   "id": "399f9d07",
   "metadata": {},
   "outputs": [
    {
     "data": {
      "text/plain": [
       "(0, 2)"
      ]
     },
     "execution_count": 103,
     "metadata": {},
     "output_type": "execute_result"
    }
   ],
   "source": [
    "op_c,cl_c"
   ]
  },
  {
   "cell_type": "code",
   "execution_count": 5,
   "id": "a3ab631a",
   "metadata": {},
   "outputs": [
    {
     "data": {
      "text/plain": [
       "13"
      ]
     },
     "execution_count": 5,
     "metadata": {},
     "output_type": "execute_result"
    }
   ],
   "source": [
    "len(s)"
   ]
  },
  {
   "cell_type": "code",
   "execution_count": null,
   "id": "3775908f-ca36-4846-8f38-5adca39217f2",
   "metadata": {
    "language": "python",
    "name": "cell1"
   },
   "outputs": [],
   "source": [
    "# Import python packages\n",
    "import streamlit as st\n",
    "import pandas as pd\n",
    "\n",
    "# We can also use Snowpark for our analyses!\n",
    "from snowflake.snowpark.context import get_active_session\n",
    "session = get_active_session()\n"
   ]
  },
  {
   "cell_type": "code",
   "execution_count": null,
   "id": "8d50cbf4-0c8d-4950-86cb-114990437ac9",
   "metadata": {
    "collapsed": false,
    "language": "sql",
    "name": "cell2"
   },
   "outputs": [],
   "source": [
    "select \n",
    "cast(concat(YEAR,'-',MONTH,'-',DAY) as DATE) as DATE\n",
    ",cast(concat(YEAR,'-',MONTH,'-',DAY,\n",
    "' ',SUBSTR(SCHEDULED_DEPARTURE,0,2),':',SUBSTR(SCHEDULED_DEPARTURE,3,4)\n",
    ") as DATETIME) as SCHEDULED_DEPARTURE\n",
    ",cast(concat(YEAR,'-',MONTH,'-',DAY,\n",
    "' ',SUBSTR(DEPARTURE_TIME,0,2),':',SUBSTR(DEPARTURE_TIME,3,4)\n",
    ") as DATETIME) as DEPARTURE_TIME\n",
    "-- ,cast(concat(YEAR,'-',MONTH,'-',DAY,\n",
    "-- ' ',SUBSTR(SCHEDULED_TIME,0,2),':',SUBSTR(DEPARTURE_TIME,3,4)\n",
    "-- ) as DATETIME) as SCHEDULED_TIME\n",
    ",*\n",
    "from \n",
    "PH_DATA_RAW.NORTHWOODS_RAW_LAYER.FLIGHTS\n",
    "limit 100;\n"
   ]
  },
  {
   "cell_type": "code",
   "execution_count": null,
   "id": "f9c489d4-61df-462b-b3aa-b85d121be8d3",
   "metadata": {
    "language": "sql",
    "name": "cell10"
   },
   "outputs": [],
   "source": [
    "--  query for dup check on primary key / unique key\n",
    "select \n",
    "YEAR,\n",
    "MONTH,\n",
    "DAY,\n",
    "FLIGHT_NUMBER,\n",
    "AIRLINE,\n",
    "ORIGIN_AIRPORT,\n",
    "DESTINATION_AIRPORT,\n",
    "count(*)\n",
    "from \n",
    "PH_DATA_RAW.NORTHWOODS_RAW_LAYER.FLIGHTS\n",
    "group by\n",
    "YEAR,\n",
    "MONTH,\n",
    "DAY,\n",
    "FLIGHT_NUMBER,\n",
    "AIRLINE,\n",
    "ORIGIN_AIRPORT,\n",
    "DESTINATION_AIRPORT\n",
    "having count(*)>1"
   ]
  },
  {
   "cell_type": "code",
   "execution_count": null,
   "id": "d48845ba-b515-4227-b440-b42323ed1811",
   "metadata": {
    "language": "sql",
    "name": "cell11"
   },
   "outputs": [],
   "source": [
    "-- Helpful query for partition key / cluster key\n",
    "select \n",
    "YEAR,\n",
    "MONTH,\n",
    "count(*)\n",
    "from \n",
    "PH_DATA_RAW.NORTHWOODS_RAW_LAYER.FLIGHTS\n",
    "group by\n",
    "YEAR,\n",
    "MONTH\n",
    "--having count(*)>1"
   ]
  },
  {
   "cell_type": "code",
   "execution_count": null,
   "id": "67fa6314-80f0-4e0c-a951-4c4f195ff196",
   "metadata": {
    "codeCollapsed": false,
    "language": "sql",
    "name": "cell7"
   },
   "outputs": [],
   "source": [
    "---\n",
    "Create  table PH_DATA.NORTHWOODS.FLIGHTS\n",
    "cluster by LINEAR(YEAR,MONTH)\n",
    "(\n",
    "YEAR NUMBER(38,0) NOT NULL,\n",
    "\tMONTH NUMBER(38,0) NOT NULL,\n",
    "\tDAY NUMBER(38,0) NOT NULL,\n",
    "\tDAY_OF_WEEK NUMBER(38,0),\n",
    "\tAIRLINE VARCHAR(16777216) NOT NULL,\n",
    "\tFLIGHT_NUMBER VARCHAR(16777216) NOT NULL,\n",
    "\tTAIL_NUMBER VARCHAR(16777216),\n",
    "\tORIGIN_AIRPORT VARCHAR(16777216) NOT NULL,\n",
    "\tDESTINATION_AIRPORT VARCHAR(16777216) NOT NULL,\n",
    "\tSCHEDULED_DEPARTURE VARCHAR(16777216),\n",
    "\tDEPARTURE_TIME VARCHAR(16777216),\n",
    "\tDEPARTURE_DELAY NUMBER(38,0),\n",
    "\tTAXI_OUT NUMBER(38,0),\n",
    "\tWHEELS_OFF VARCHAR(16777216),\n",
    "\tSCHEDULED_TIME NUMBER(38,0),\n",
    "\tELAPSED_TIME NUMBER(38,0),\n",
    "\tAIR_TIME NUMBER(38,0),\n",
    "\tDISTANCE NUMBER(38,0),\n",
    "\tWHEELS_ON NUMBER(38,0),\n",
    "\tTAXI_IN NUMBER(38,0),\n",
    "\tSCHEDULED_ARRIVAL NUMBER(38,0),\n",
    "\tARRIVAL_TIME VARCHAR(16777216),\n",
    "\tARRIVAL_DELAY VARCHAR(16777216),\n",
    "\tDIVERTED NUMBER(38,0),\n",
    "\tCANCELLED NUMBER(38,0),\n",
    "\tCANCELLATION_REASON VARCHAR(16777216),\n",
    "\tAIR_SYSTEM_DELAY NUMBER(38,0),\n",
    "\tSECURITY_DELAY NUMBER(38,0),\n",
    "\tAIRLINE_DELAY NUMBER(38,0),\n",
    "\tLATE_AIRCRAFT_DELAY NUMBER(38,0),\n",
    "\tWEATHER_DELAY NUMBER(38,0),\n",
    "    CONSTRAINT PK_FLIGHTS_KEY PRIMARY KEY (YEAR,\n",
    "                                            MONTH,\n",
    "                                            DAY,\n",
    "                                            FLIGHT_NUMBER,\n",
    "                                            AIRLINE,\n",
    "                                            ORIGIN_AIRPORT,\n",
    "                                            DESTINATION_AIRPORT)\n",
    "    , CONSTRAINT FK_FLIGHTS_KEY_AIRLINE FOREIGN KEY (AIRLINE) REFERENCES PH_DATA.NORTHWOODS.AIRLINES(IATA_CODE)\n",
    "    , CONSTRAINT FK_FLIGHTS_KEY_ORIGIN_AIRPORTS FOREIGN KEY (ORIGIN_AIRPORT) REFERENCES PH_DATA.NORTHWOODS.AIRPORTS(IATA_CODE)\n",
    "    , CONSTRAINT FK_FLIGHTS_KEY_DESTINATION_AIRPORTS FOREIGN KEY (DESTINATION_AIRPORT) REFERENCES PH_DATA.NORTHWOODS.AIRPORTS(IATA_CODE)\n",
    "            \n",
    ");\n"
   ]
  },
  {
   "cell_type": "code",
   "execution_count": null,
   "id": "16d3460e-db75-41ba-9566-ac154c043920",
   "metadata": {
    "language": "sql",
    "name": "cell22"
   },
   "outputs": [],
   "source": [
    "select *\n",
    "\n",
    "From INFORMATION_SCHEMA.COLUMNS As C\n",
    "limit 20;"
   ]
  },
  {
   "cell_type": "code",
   "execution_count": null,
   "id": "f85cc1a7-ac62-41e4-8226-3ead92e610e4",
   "metadata": {
    "codeCollapsed": false,
    "language": "sql",
    "name": "cell20"
   },
   "outputs": [],
   "source": [
    "use database PH_DATA;\n",
    "use schema NORTHWOODS;\n",
    "Select T.TABLE_NAME,\n",
    "listagg(\n",
    "(case when \n",
    "DATA_TYPE='FLOAT' then \n",
    "concat(  \n",
    "', \\n',\n",
    "-- C.COLUMN_NAME \n",
    "--,'!= \n",
    "'try_to_decimal(src.',C.COLUMN_NAME,',38,10 ) '\n",
    ")\n",
    "when \n",
    "DATA_TYPE='NUMBER' then\n",
    "concat(\n",
    "', \\n',\n",
    "--C.COLUMN_NAME \n",
    "--,'!= \n",
    "'try_to_number(src.',C.COLUMN_NAME,',38,10 ) '\n",
    ")\n",
    "else\n",
    "concat( \n",
    "', \\n',\n",
    "--C.COLUMN_NAME \n",
    "--,'!= \n",
    "'src.',C.COLUMN_NAME,''\n",
    ")\n",
    "end\n",
    ")\n",
    ")\n",
    "\n",
    "        From (select * from INFORMATION_SCHEMA.COLUMNS\n",
    "        order by COLUMN_NAME,ORDINAL_POSITION) As C\n",
    "        join\n",
    "        INFORMATION_SCHEMA.TABLES As T\n",
    "        Where C.TABLE_SCHEMA = T.TABLE_SCHEMA\n",
    "            And C.TABLE_NAME = T.TABLE_NAME\n",
    "            group by\n",
    "            T.TABLE_NAME\n",
    "        --Order By C.ORDINAL_POSITION\n",
    "\n",
    "\n",
    "        ;\n",
    "-- Select TABLE_SCHEMA, TABLE_NAME\n",
    "--     , \n",
    "--         (\n",
    "--         Select ', ' + C.COLUMN_NAME\n",
    "--         From INFORMATION_SCHEMA.COLUMNS As C\n",
    "--         Where C.TABLE_SCHEMA = T.TABLE_SCHEMA\n",
    "--             And C.TABLE_NAME = T.TABLE_NAME\n",
    "--         Order By C.ORDINAL_POSITION\n",
    "\n",
    "--         ) As Columns\n",
    "-- From INFORMATION_SCHEMA.TABLES As T"
   ]
  },
  {
   "cell_type": "code",
   "execution_count": null,
   "id": "f02ca443-69a8-4274-a893-93f9ec95d06d",
   "metadata": {
    "codeCollapsed": false,
    "language": "sql",
    "name": "cell9"
   },
   "outputs": [],
   "source": [
    "create  TABLE FLIGHTS (\n",
    "\tYEAR VARCHAR(16777216),\n",
    "\tMONTH VARCHAR(16777216),\n",
    "\tDAY VARCHAR(16777216),\n",
    "\tDAY_OF_WEEK VARCHAR(16777216),\n",
    "\tAIRLINE VARCHAR(16777216),\n",
    "\tFLIGHT_NUMBER VARCHAR(16777216),\n",
    "\tTAIL_NUMBER VARCHAR(16777216),\n",
    "\tORIGIN_AIRPORT VARCHAR(16777216),\n",
    "\tDESTINATION_AIRPORT VARCHAR(16777216),\n",
    "\tSCHEDULED_DEPARTURE VARCHAR(16777216),\n",
    "\tDEPARTURE_TIME VARCHAR(16777216),\n",
    "\tDEPARTURE_DELAY VARCHAR(16777216),\n",
    "\tTAXI_OUT VARCHAR(16777216),\n",
    "\tWHEELS_OFF VARCHAR(16777216),\n",
    "\tSCHEDULED_TIME VARCHAR(16777216),\n",
    "\tELAPSED_TIME VARCHAR(16777216),\n",
    "\tAIR_TIME VARCHAR(16777216),\n",
    "\tDISTANCE VARCHAR(16777216),\n",
    "\tWHEELS_ON VARCHAR(16777216),\n",
    "\tTAXI_IN VARCHAR(16777216),\n",
    "\tSCHEDULED_ARRIVAL VARCHAR(16777216),\n",
    "\tARRIVAL_TIME VARCHAR(16777216),\n",
    "\tARRIVAL_DELAY VARCHAR(16777216),\n",
    "\tDIVERTED VARCHAR(16777216),\n",
    "\tCANCELLED VARCHAR(16777216),\n",
    "\tCANCELLATION_REASON VARCHAR(16777216),\n",
    "\tAIR_SYSTEM_DELAY VARCHAR(16777216),\n",
    "\tSECURITY_DELAY VARCHAR(16777216),\n",
    "\tAIRLINE_DELAY VARCHAR(16777216),\n",
    "\tLATE_AIRCRAFT_DELAY VARCHAR(16777216),\n",
    "\tWEATHER_DELAY VARCHAR(16777216)\n",
    ";;;kkppp);"
   ]
  },
  {
   "cell_type": "code",
   "execution_count": null,
   "id": "89483c9a-a2d8-457b-bb52-924c19705a92",
   "metadata": {
    "language": "sql",
    "name": "cell23"
   },
   "outputs": [],
   "source": [
    ", DIVERTED= try_to_number(src.DIVERTED,38,10 ) \n",
    ", DAY_OF_WEEK= try_to_number(src.DAY_OF_WEEK,38,10 ) \n",
    ", WEATHER_DELAY= try_to_number(src.WEATHER_DELAY,38,10 ) \n",
    ", CANCELLED= try_to_number(src.CANCELLED,38,10 ) \n",
    ", DEPARTURE_DELAY= try_to_number(src.DEPARTURE_DELAY,38,10 ) \n",
    ", SCHEDULED_ARRIVAL= try_to_number(src.SCHEDULED_ARRIVAL,38,10 ) \n",
    ", TAXI_OUT= try_to_number(src.TAXI_OUT,38,10 ) \n",
    ", DESTINATION_AIRPORT= src.DESTINATION_AIRPORT \n",
    ", SCHEDULED_TIME= try_to_number(src.SCHEDULED_TIME,38,10 ) \n",
    ", DISTANCE= try_to_number(src.DISTANCE,38,10 ) \n",
    ", TAIL_NUMBER= src.TAIL_NUMBER \n",
    ", AIR_TIME= try_to_number(src.AIR_TIME,38,10 ) \n",
    ", ARRIVAL_DELAY= src.ARRIVAL_DELAY \n",
    ", SCHEDULED_DEPARTURE= src.SCHEDULED_DEPARTURE \n",
    ", LATE_AIRCRAFT_DELAY= try_to_number(src.LATE_AIRCRAFT_DELAY,38,10 ) \n",
    ", YEAR= try_to_number(src.YEAR,38,10 ) \n",
    ", AIR_SYSTEM_DELAY= try_to_number(src.AIR_SYSTEM_DELAY,38,10 ) \n",
    ", CANCELLATION_REASON= src.CANCELLATION_REASON \n",
    ", ARRIVAL_TIME= src.ARRIVAL_TIME \n",
    ", SECURITY_DELAY= try_to_number(src.SECURITY_DELAY,38,10 ) \n",
    ", MONTH= try_to_number(src.MONTH,38,10 ) \n",
    ", ORIGIN_AIRPORT= src.ORIGIN_AIRPORT \n",
    ", DEPARTURE_TIME= src.DEPARTURE_TIME \n",
    ", WHEELS_ON= try_to_number(src.WHEELS_ON,38,10 ) \n",
    ", ELAPSED_TIME= try_to_number(src.ELAPSED_TIME,38,10 ) \n",
    ", AIRLINE= src.AIRLINE \n",
    ", WHEELS_OFF= src.WHEELS_OFF \n",
    ", AIRLINE_DELAY= try_to_number(src.AIRLINE_DELAY,38,10 ) \n",
    ", TAXI_IN= try_to_number(src.TAXI_IN,38,10 ) \n",
    ", DAY= try_to_number(src.DAY,38,10 ) \n",
    ", FLIGHT_NUMBER= src.FLIGHT_NUMBER \n"
   ]
  },
  {
   "cell_type": "code",
   "execution_count": null,
   "id": "23f57205-492d-46dc-822f-a54b1fdd9908",
   "metadata": {
    "language": "sql",
    "name": "cell21"
   },
   "outputs": [],
   "source": [
    ", MONTH= src.MONTH\n",
    ", WHEELS_ON= src.WHEELS_ON\n",
    ", ORIGIN_AIRPORT= src.ORIGIN_AIRPORT\n",
    ", WHEELS_OFF= src.WHEELS_OFF\n",
    ", AIRLINE_DELAY= src.AIRLINE_DELAY\n",
    ", DEPARTURE_TIME= src.DEPARTURE_TIME\n",
    ", AIRLINE= src.AIRLINE\n",
    ", ELAPSED_TIME= src.ELAPSED_TIME\n",
    ", TAXI_OUT= src.TAXI_OUT\n",
    ", DESTINATION_AIRPORT= src.DESTINATION_AIRPORT\n",
    ", DISTANCE= src.DISTANCE\n",
    ", SCHEDULED_TIME= src.SCHEDULED_TIME\n",
    ", LATE_AIRCRAFT_DELAY= src.LATE_AIRCRAFT_DELAY\n",
    ", YEAR= src.YEAR\n",
    ", ARRIVAL_DELAY= src.ARRIVAL_DELAY\n",
    ", AIR_SYSTEM_DELAY= src.AIR_SYSTEM_DELAY\n",
    ", SCHEDULED_DEPARTURE= src.SCHEDULED_DEPARTURE\n",
    ", TAXI_IN= src.TAXI_IN\n",
    ", DAY= src.DAY\n",
    ", FLIGHT_NUMBER= src.FLIGHT_NUMBER\n",
    ", WEATHER_DELAY= src.WEATHER_DELAY\n",
    ", DAY_OF_WEEK= src.DAY_OF_WEEK\n",
    ", SCHEDULED_ARRIVAL= src.SCHEDULED_ARRIVAL\n",
    ", CANCELLED= src.CANCELLED\n",
    ", DEPARTURE_DELAY= src.DEPARTURE_DELAY\n",
    ", DIVERTED= src.DIVERTED\n",
    ", TAIL_NUMBER= src.TAIL_NUMBER\n",
    ", AIR_TIME= src.AIR_TIME\n",
    ", SECURITY_DELAY= src.SECURITY_DELAY\n",
    ", CANCELLATION_REASON= src.CANCELLATION_REASON\n",
    ", ARRIVAL_TIME= src.ARRIVAL_TIME"
   ]
  },
  {
   "cell_type": "code",
   "execution_count": null,
   "id": "dee79b00-d27a-4a8c-80cc-80168f84250e",
   "metadata": {
    "codeCollapsed": false,
    "language": "sql",
    "name": "cell14"
   },
   "outputs": [],
   "source": [
    "-- create  TABLE PH_DATA.NORTHWOODS.AIRLINES ( \t\n",
    "-- AIRLINE VARCHAR(16777216), \tIATA_CODE VARCHAR(16777216) \n",
    "-- );"
   ]
  },
  {
   "cell_type": "code",
   "execution_count": null,
   "id": "eddf9540-4281-44d2-b083-823a04f0c6c9",
   "metadata": {
    "language": "sql",
    "name": "cell12"
   },
   "outputs": [],
   "source": [
    "create or replace TABLE PH_DATA_RAW.NORTHWOODS_RAW_LAYER.AIRLINES ( \t\n",
    "AIRLINE VARCHAR(16777216), \tIATA_CODE VARCHAR(16777216) \n",
    ";;;);"
   ]
  },
  {
   "cell_type": "code",
   "execution_count": null,
   "id": "b561d6ca-d98f-40e9-b886-fe204c21a080",
   "metadata": {
    "language": "sql",
    "name": "cell15"
   },
   "outputs": [],
   "source": [
    "create  TABLE PH_DATA.NORTHWOODS.AIRLINES ( \t\n",
    "AIRLINE VARCHAR(16777216), \tIATA_CODE VARCHAR(16777216) ,\n",
    "CONSTRAINT PK_AIRLINES_KEY PRIMARY KEY (IATA_CODE)\n",
    ");"
   ]
  },
  {
   "cell_type": "code",
   "execution_count": null,
   "id": "979dc5a9-34a3-4a1f-b41f-899aed8450f9",
   "metadata": {
    "codeCollapsed": false,
    "language": "sql",
    "name": "cell13"
   },
   "outputs": [],
   "source": [
    "create  TABLE PH_DATA.NORTHWOODS.AIRPORTS (\n",
    "\tIATA_CODE VARCHAR(16777216),\n",
    "\tAIRPORT VARCHAR(16777216),\n",
    "\tCITY VARCHAR(16777216),\n",
    "\tSTATE VARCHAR(16777216),\n",
    "\tCOUNTRY VARCHAR(16777216),\n",
    "\tLATITUDE FLOAT,\n",
    "\tLONGITUDE FLOAT,\n",
    "    CONSTRAINT PK_AIRPORTS_KEY PRIMARY KEY (IATA_CODE)\n",
    ");"
   ]
  },
  {
   "cell_type": "code",
   "execution_count": null,
   "id": "3c9ff1ad-8cdf-40ef-a992-f39964ce27e4",
   "metadata": {
    "language": "sql",
    "name": "cell17"
   },
   "outputs": [],
   "source": [
    "select\n",
    "--distinct cast(src.LATITUDE as float) LATITUDE\n",
    "--,\n",
    "try_to_decimal(src.LATITUDE,38,37 ),\n",
    "try_to_number(src.LATITUDE,38,37 ),\n",
    "LATITUDE,\n",
    "-- to_char(substr(LATITUDE,0, 39)::number(38, 37),'9.9999999999999999999999999999999999999'),\n",
    "NVL(LATITUDE,null),\n",
    "-- to_char(substr(\n",
    "-- (\n",
    "-- case when \n",
    "-- try_to_decimal(src.LATITUDE,20,10 ) is not null\n",
    "-- and LATITUDE is not null\n",
    "-- then \n",
    "-- LATITUDE else null end \n",
    "-- )\n",
    "-- ,0, 39)::number(38, 37),'9.9999999999999999999999999999999999999'),\n",
    "NVL(\n",
    "cast(\n",
    "(\n",
    "case when \n",
    "try_to_decimal(src.LATITUDE,20,10 ) is not null\n",
    "and LATITUDE is not null\n",
    "then \n",
    "NVL(LATITUDE,null) else null end \n",
    ")\n",
    "as\n",
    "number(38,35)\n",
    ")\n",
    ",null)\n",
    ",\n",
    "case when LATITUDE=cast(try_to_decimal(src.LATITUDE,20,10 ) as varchar) then\n",
    "'okay' else 'issue' end\n",
    "from\n",
    "PH_DATA_RAW.NORTHWOODS_RAW_LAYER.AIRPORTS src\n",
    "-- where \n",
    "-- try_to_decimal(src.LATITUDE,20,10 ) is null\n",
    "-- and LATITUDE is not null"
   ]
  },
  {
   "cell_type": "code",
   "execution_count": null,
   "id": "a7116256-ad44-422d-9fcd-f4ce6bb22649",
   "metadata": {
    "codeCollapsed": false,
    "language": "sql",
    "name": "cell16"
   },
   "outputs": [],
   "source": [
    "create  TABLE PH_DATA_RAW.NORTHWOODS_RAW_LAYER.AIRPORTS (\n",
    "\tIATA_CODE VARCHAR(16777216),\n",
    "\tAIRPORT VARCHAR(16777216),\n",
    "\tCITY VARCHAR(16777216),\n",
    "\tSTATE VARCHAR(16777216),\n",
    "\tCOUNTRY VARCHAR(16777216),\n",
    "\tLATITUDE VARCHAR(16777216),\n",
    "\t-- LONGITUDE VARCHAR(16777216)\n",
    ");"
   ]
  },
  {
   "cell_type": "code",
   "execution_count": null,
   "id": "605b989d-6682-441e-9839-682861e363e4",
   "metadata": {
    "collapsed": false,
    "language": "sql",
    "name": "cell8"
   },
   "outputs": [],
   "source": [
    "select get_ddl('table','PH_DATA_RAW.NORTHWOODS_RAW_LAYER.AIRPORTS')"
   ]
  },
  {
   "cell_type": "code",
   "execution_count": null,
   "id": "f1999db0-0c8f-4f2b-8fc8-5c9f52b168ff",
   "metadata": {
    "language": "sql",
    "name": "PH_DATA_NORTHWOODS_AIRLINES_ELT"
   },
   "outputs": [],
   "source": [
    "Update PH_DATA.NORTHWOODS.AIRLINES\n",
    "set AIRLINE=src.AIRLINE\n",
    "from \n",
    "PH_DATA.NORTHWOODS.AIRLINES tgt\n",
    "right join\n",
    "PH_DATA_RAW.NORTHWOODS_RAW_LAYER.AIRLINES src\n",
    "on src.IATA_CODE=tgt.IATA_CODE\n",
    "where\n",
    "src.AIRLINE!=tgt.AIRLINE\n",
    ";\n",
    "\n",
    "Insert into PH_DATA.NORTHWOODS.AIRLINES\n",
    "(\n",
    "IATA_CODE,\n",
    "AIRLINE\n",
    ")\n",
    "\n",
    "select \n",
    "src.IATA_CODE,\n",
    "src.AIRLINE\n",
    "from\n",
    "PH_DATA_RAW.NORTHWOODS_RAW_LAYER.AIRLINES src\n",
    "where src.IATA_CODE not in (\n",
    "select tgt.IATA_CODE\n",
    "from\n",
    "PH_DATA.NORTHWOODS.AIRLINES tgt\n",
    ")\n",
    "\n",
    ";\n",
    "select *\n",
    "from\n",
    "PH_DATA.NORTHWOODS.AIRLINES"
   ]
  },
  {
   "cell_type": "code",
   "execution_count": null,
   "id": "f3d3cad6-7598-46ea-94f1-c2ee42479947",
   "metadata": {
    "language": "sql",
    "name": "PH_DATA_NORTHWOODS_AIRPORTS_ELT"
   },
   "outputs": [],
   "source": [
    "Update PH_DATA.NORTHWOODS.AIRPORTS\n",
    "set \n",
    "AIRPORT=src.AIRPORT,\n",
    "CITY =src.CITY,\n",
    "STATE =src.STATE,\n",
    "COUNTRY =src.COUNTRY,\n",
    "LATITUDE =try_to_decimal(src.LATITUDE,38,10 ),\n",
    "LONGITUDE =try_to_decimal(src.LONGITUDE,38,10 )\n",
    "from \n",
    "PH_DATA.NORTHWOODS.AIRPORTS tgt\n",
    "right join\n",
    "PH_DATA_RAW.NORTHWOODS_RAW_LAYER.AIRPORTS src\n",
    "on src.IATA_CODE=tgt.IATA_CODE\n",
    "where\n",
    "(src.AIRPORT!=tgt.AIRPORT\n",
    "or \n",
    "src.CITY!=tgt.CITY\n",
    "or\n",
    "src.STATE!=tgt.STATE\n",
    "or\n",
    "src.COUNTRY!=tgt.COUNTRY\n",
    "or\n",
    "src.AIRPORT!=tgt.AIRPORT\n",
    "or\n",
    "try_to_decimal(src.LATITUDE,38,10 )!=tgt.LATITUDE\n",
    "or\n",
    "try_to_decimal(src.LONGITUDE,38,10 )!=tgt.LONGITUDE\n",
    ")\n",
    ";\n",
    "\n",
    "Insert into PH_DATA.NORTHWOODS.AIRPORTS\n",
    "(\n",
    "IATA_CODE,\n",
    "AIRPORT,\n",
    "CITY ,\n",
    "STATE,\n",
    "COUNTRY ,\n",
    "LATITUDE ,\n",
    "LONGITUDE \n",
    ")\n",
    "select \n",
    "src.IATA_CODE,\n",
    "src.AIRPORT,\n",
    "src.CITY ,\n",
    "src.STATE,\n",
    "src.COUNTRY ,\n",
    "try_to_decimal(src.LATITUDE,38,10 ) LATITUDE,\n",
    "try_to_decimal(src.LONGITUDE,38,10 ) LONGITUDE\n",
    "from\n",
    "PH_DATA_RAW.NORTHWOODS_RAW_LAYER.AIRPORTS src\n",
    "where src.IATA_CODE not in (\n",
    "select tgt.IATA_CODE\n",
    "from\n",
    "PH_DATA.NORTHWOODS.AIRPORTS tgt\n",
    ")\n",
    "\n",
    ";"
   ]
  },
  {
   "cell_type": "code",
   "execution_count": null,
   "id": "f11ca46e-1bb6-4972-a63a-2777dcc2e0aa",
   "metadata": {
    "language": "sql",
    "name": "PH_DATA_NORTHWOODS_FLIGHTS_ELT"
   },
   "outputs": [],
   "source": [
    "Update PH_DATA.NORTHWOODS.FLIGHTS\n",
    "set \n",
    "  DIVERTED= try_to_number(src.DIVERTED,38,10 ) \n",
    ", DAY_OF_WEEK= try_to_number(src.DAY_OF_WEEK,38,10 ) \n",
    ", WEATHER_DELAY= try_to_number(src.WEATHER_DELAY,38,10 ) \n",
    ", CANCELLED= try_to_number(src.CANCELLED,38,10 ) \n",
    ", DEPARTURE_DELAY= try_to_number(src.DEPARTURE_DELAY,38,10 ) \n",
    ", SCHEDULED_ARRIVAL= try_to_number(src.SCHEDULED_ARRIVAL,38,10 ) \n",
    ", TAXI_OUT= try_to_number(src.TAXI_OUT,38,10 ) \n",
    ", DESTINATION_AIRPORT= src.DESTINATION_AIRPORT \n",
    ", SCHEDULED_TIME= try_to_number(src.SCHEDULED_TIME,38,10 ) \n",
    ", DISTANCE= try_to_number(src.DISTANCE,38,10 ) \n",
    ", TAIL_NUMBER= src.TAIL_NUMBER \n",
    ", AIR_TIME= try_to_number(src.AIR_TIME,38,10 ) \n",
    ", ARRIVAL_DELAY= src.ARRIVAL_DELAY \n",
    ", SCHEDULED_DEPARTURE= src.SCHEDULED_DEPARTURE \n",
    ", LATE_AIRCRAFT_DELAY= try_to_number(src.LATE_AIRCRAFT_DELAY,38,10 ) \n",
    ", YEAR= try_to_number(src.YEAR,38,10 ) \n",
    ", AIR_SYSTEM_DELAY= try_to_number(src.AIR_SYSTEM_DELAY,38,10 ) \n",
    ", CANCELLATION_REASON= src.CANCELLATION_REASON \n",
    ", ARRIVAL_TIME= src.ARRIVAL_TIME \n",
    ", SECURITY_DELAY= try_to_number(src.SECURITY_DELAY,38,10 ) \n",
    ", MONTH= try_to_number(src.MONTH,38,10 ) \n",
    ", ORIGIN_AIRPORT= src.ORIGIN_AIRPORT \n",
    ", DEPARTURE_TIME= src.DEPARTURE_TIME \n",
    ", WHEELS_ON= try_to_number(src.WHEELS_ON,38,10 ) \n",
    ", ELAPSED_TIME= try_to_number(src.ELAPSED_TIME,38,10 ) \n",
    ", AIRLINE= src.AIRLINE \n",
    ", WHEELS_OFF= src.WHEELS_OFF \n",
    ", AIRLINE_DELAY= try_to_number(src.AIRLINE_DELAY,38,10 ) \n",
    ", TAXI_IN= try_to_number(src.TAXI_IN,38,10 ) \n",
    ", DAY= try_to_number(src.DAY,38,10 ) \n",
    ", FLIGHT_NUMBER= src.FLIGHT_NUMBER \n",
    "from \n",
    "PH_DATA.NORTHWOODS.FLIGHTS tgt\n",
    "right join\n",
    "PH_DATA_RAW.NORTHWOODS_RAW_LAYER.FLIGHTS src\n",
    "on src.YEAR=tgt.YEAR\n",
    "and src.MONTH=tgt.MONTH\n",
    "and src.DAY=tgt.DAY\n",
    "and src.FLIGHT_NUMBER=tgt.FLIGHT_NUMBER\n",
    "and src.AIRLINE=tgt.AIRLINE\n",
    "and src.ORIGIN_AIRPORT=tgt.ORIGIN_AIRPORT\n",
    "and src.DESTINATION_AIRPORT=tgt.DESTINATION_AIRPORT\n",
    "where\n",
    "(\n",
    "tgt.AIR_TIME!= try_to_number(src.AIR_TIME,38,10 ) or \n",
    "tgt.TAIL_NUMBER!= src.TAIL_NUMBER or\n",
    "tgt.LATE_AIRCRAFT_DELAY!= try_to_number(src.LATE_AIRCRAFT_DELAY,38,10 ) or \n",
    "tgt.SCHEDULED_DEPARTURE!= src.SCHEDULED_DEPARTURE or\n",
    "tgt.ARRIVAL_DELAY!= src.ARRIVAL_DELAY or\n",
    "tgt.AIR_SYSTEM_DELAY!= try_to_number(src.AIR_SYSTEM_DELAY,38,10 ) or \n",
    "tgt.SCHEDULED_ARRIVAL!= try_to_number(src.SCHEDULED_ARRIVAL,38,10 ) or \n",
    "tgt.WEATHER_DELAY!= try_to_number(src.WEATHER_DELAY,38,10 ) or \n",
    "tgt.DAY_OF_WEEK!= try_to_number(src.DAY_OF_WEEK,38,10 ) or \n",
    "tgt.CANCELLED!= try_to_number(src.CANCELLED,38,10 ) or \n",
    "tgt.DEPARTURE_DELAY!= try_to_number(src.DEPARTURE_DELAY,38,10 ) or \n",
    "tgt.DISTANCE!= try_to_number(src.DISTANCE,38,10 ) or \n",
    "tgt.TAXI_OUT!= try_to_number(src.TAXI_OUT,38,10 ) or \n",
    "tgt.SCHEDULED_TIME!= try_to_number(src.SCHEDULED_TIME,38,10 ) or \n",
    "tgt.WHEELS_ON!= try_to_number(src.WHEELS_ON,38,10 ) or \n",
    "tgt.DEPARTURE_TIME!= src.DEPARTURE_TIME or\n",
    "tgt.WHEELS_OFF!= src.WHEELS_OFF or\n",
    "tgt.AIRLINE_DELAY!= try_to_number(src.AIRLINE_DELAY,38,10 ) or \n",
    "tgt.ELAPSED_TIME!= try_to_number(src.ELAPSED_TIME,38,10 ) or \n",
    "tgt.TAXI_IN!= try_to_number(src.TAXI_IN,38,10 ) or \n",
    "tgt.DIVERTED!= try_to_number(src.DIVERTED,38,10 ) or \n",
    "tgt.SECURITY_DELAY!= try_to_number(src.SECURITY_DELAY,38,10 ) or \n",
    "tgt.CANCELLATION_REASON!= src.CANCELLATION_REASON or\n",
    "tgt.ARRIVAL_TIME!= src.ARRIVAL_TIME \n",
    "\n",
    ")\n",
    ";\n",
    "\n",
    "Insert into PH_DATA.NORTHWOODS.FLIGHTS\n",
    "(\n",
    "AIRLINE, \n",
    "AIRLINE_DELAY, \n",
    "AIR_SYSTEM_DELAY, \n",
    "AIR_TIME, \n",
    "ARRIVAL_DELAY, \n",
    "ARRIVAL_TIME, \n",
    "CANCELLATION_REASON, \n",
    "CANCELLED, \n",
    "DAY, \n",
    "DAY_OF_WEEK, \n",
    "DEPARTURE_DELAY, \n",
    "DEPARTURE_TIME, \n",
    "DESTINATION_AIRPORT, \n",
    "DISTANCE, \n",
    "DIVERTED, \n",
    "ELAPSED_TIME, \n",
    "FLIGHT_NUMBER, \n",
    "ORIGIN_AIRPORT, \n",
    "LATE_AIRCRAFT_DELAY, \n",
    "MONTH, \n",
    "SCHEDULED_ARRIVAL, \n",
    "SCHEDULED_DEPARTURE, \n",
    "SCHEDULED_TIME, \n",
    "SECURITY_DELAY, \n",
    "TAIL_NUMBER, \n",
    "TAXI_IN, \n",
    "TAXI_OUT, \n",
    "WEATHER_DELAY, \n",
    "WHEELS_OFF, \n",
    "WHEELS_ON, \n",
    "YEAR\n",
    ")\n",
    "select \n",
    "\n",
    "src.AIRLINE, \n",
    "try_to_number(src.AIRLINE_DELAY,38,10 ) , \n",
    "try_to_number(src.AIR_SYSTEM_DELAY,38,10 ) , \n",
    "try_to_number(src.AIR_TIME,38,10 ) , \n",
    "src.ARRIVAL_DELAY, \n",
    "src.ARRIVAL_TIME, \n",
    "\n",
    "src.CANCELLATION_REASON, \n",
    "try_to_number(src.CANCELLED,38,10 ) ,\n",
    "\n",
    "try_to_number(src.DAY,38,10 ) , \n",
    "try_to_number(src.DAY_OF_WEEK,38,10 ) , \n",
    "try_to_number(src.DEPARTURE_DELAY,38,10 ) , \n",
    "src.DEPARTURE_TIME, \n",
    "src.DESTINATION_AIRPORT, \n",
    "try_to_number(src.DISTANCE,38,10 ) , \n",
    "try_to_number(src.DIVERTED,38,10 ) , \n",
    "\n",
    "try_to_number(src.ELAPSED_TIME,38,10 ) , \n",
    "src.FLIGHT_NUMBER, \n",
    "src.ORIGIN_AIRPORT,\n",
    "\n",
    "try_to_number(src.LATE_AIRCRAFT_DELAY,38,10 ) , \n",
    "try_to_number(src.MONTH,38,10 ) ,\n",
    "\n",
    "try_to_number(src.SCHEDULED_ARRIVAL,38,10 ) , \n",
    "src.SCHEDULED_DEPARTURE, \n",
    "try_to_number(src.SCHEDULED_TIME,38,10 ) , \n",
    "try_to_number(src.SECURITY_DELAY,38,10 ) , \n",
    "src.TAIL_NUMBER, \n",
    "try_to_number(src.TAXI_IN,38,10 ) , \n",
    "try_to_number(src.TAXI_OUT,38,10 ) , \n",
    "try_to_number(src.WEATHER_DELAY,38,10 ) , \n",
    "src.WHEELS_OFF, \n",
    "try_to_number(src.WHEELS_ON,38,10 ) , \n",
    "try_to_number(src.YEAR,38,10 ) \n",
    "\n",
    " \n",
    "\n",
    "from\n",
    "PH_DATA_RAW.NORTHWOODS_RAW_LAYER.FLIGHTS src\n",
    "-- on src.YEAR=tgt.YEAR\n",
    "-- and src.MONTH=tgt.MONTH\n",
    "-- and src.DAY=tgt.DAY\n",
    "-- and src.FLIGHT_NUMBER=tgt.FLIGHT_NUMBER\n",
    "-- and src.AIRLINE=tgt.AIRLINE\n",
    "-- and src.ORIGIN_AIRPORT=tgt.ORIGIN_AIRPORT\n",
    "-- and src.DESTINATION_AIRPORT=tgt.DESTINATION_AIRPORT\n",
    "\n",
    "where concat(src.YEAR,src.MONTH,src.DAY,src.FLIGHT_NUMBER,src.AIRLINE,src.ORIGIN_AIRPORT,src.DESTINATION_AIRPORT) not in (\n",
    "select concat(tgt.YEAR,tgt.MONTH,tgt.DAY,tgt.FLIGHT_NUMBER,tgt.AIRLINE,tgt.ORIGIN_AIRPORT,tgt.DESTINATION_AIRPORT)\n",
    "from\n",
    "PH_DATA.NORTHWOODS.FLIGHTS tgt\n",
    ")\n",
    "\n",
    ";"
   ]
  },
  {
   "cell_type": "code",
   "execution_count": null,
   "id": "ed5fa807-2658-4aca-9391-4a7044920708",
   "metadata": {
    "codeCollapsed": false,
    "language": "sql",
    "name": "cell19"
   },
   "outputs": [],
   "source": [
    "select *\n",
    "from \n",
    "PH_DATA.NORTHWOODS.AIRLINES tgt\n",
    "left join\n",
    "PH_DATA_RAW.NORTHWOODS_RAW_LAYER.AIRLINES src\n",
    "on tgt.IATA_CODE=src.IATA_CODE"
   ]
  },
  {
   "cell_type": "code",
   "execution_count": null,
   "id": "01d2e3e8-37e6-4e60-8a9b-b776c6545a59",
   "metadata": {
    "codeCollapsed": false,
    "language": "sql",
    "name": "cell18"
   },
   "outputs": [],
   "source": [
    "Insert into PH_DATA.NORTHWOODS.AIRLINES\n",
    "(\n",
    "IATA_CODE,\n",
    "AIRLINE\n",
    ")\n",
    "as\n",
    "(\n",
    "select \n",
    "IATA_CODE,\n",
    "AIRLINE\n",
    "from\n",
    "PH_DATA.NORTHWOODS.AIRLINES tgt\n",
    "left join\n",
    "PH_DATA_RAW.NORTHWOODS_RAW_LAYER.AIRLINES src\n",
    "on src.IATA_CODE!=tgt.IATA_CODE\n",
    ")\n",
    ";"
   ]
  },
  {
   "cell_type": "code",
   "execution_count": null,
   "id": "55251798-ce27-49e8-8f3e-00960f155902",
   "metadata": {
    "codeCollapsed": false,
    "language": "sql",
    "name": "cell6"
   },
   "outputs": [],
   "source": [
    "(\n",
    "select \n",
    "YEAR,\n",
    "MONTH,\n",
    "AIRLINE,\n",
    "ORIGIN_AIRPORT,\n",
    "count (distinct (FLIGHT_NUMBER))\n",
    "from \n",
    "PH_DATA_RAW.NORTHWOODS_RAW_LAYER.FLIGHTS\n",
    "group by\n",
    "AIRLINE,\n",
    "ORIGIN_AIRPORT,\n",
    "YEAR,\n",
    "MONTH\n",
    "order by \n",
    "YEAR,\n",
    "MONTH,\n",
    "AIRLINE,\n",
    "ORIGIN_AIRPORT\n",
    ") monthly\n",
    "left join\n",
    "PH_DATA_RAW.NORTHWOODS_RAW_LAYER.AIRLINES a\n",
    "on monthly.AIRLINE=a.IATA_CODE\n",
    "left join\n",
    "PH_DATA_RAW.NORTHWOODS_RAW_LAYER.AIRPORTS a\n",
    "on monthly.AIRLINE=a.IATA_CODE\n"
   ]
  },
  {
   "cell_type": "code",
   "execution_count": null,
   "id": "f5bd0b8d-061d-4b2a-bfd6-38c23ae9656b",
   "metadata": {
    "codeCollapsed": false,
    "language": "sql",
    "name": "cell4"
   },
   "outputs": [],
   "source": [
    "select *\n",
    "from \n",
    "PH_DATA_RAW.NORTHWOODS_RAW_LAYER.AIRLINES\n",
    "limit 100;"
   ]
  },
  {
   "cell_type": "code",
   "execution_count": null,
   "id": "ba1bfdfb-3027-4793-bff5-2f24efabbd0f",
   "metadata": {
    "codeCollapsed": false,
    "language": "sql",
    "name": "cell5"
   },
   "outputs": [],
   "source": [
    "select *\n",
    "from \n",
    "PH_DATA_RAW.NORTHWOODS_RAW_LAYER.AIRPORTS\n",
    "limit 100;"
   ]
  },
  {
   "cell_type": "code",
   "execution_count": null,
   "id": "c695373e-ac74-4b62-a1f1-08206cbd5c81",
   "metadata": {
    "codeCollapsed": false,
    "language": "python",
    "name": "cell3"
   },
   "outputs": [],
   "source": [
    "# Then, we can use the python name to turn cell2 into a Pandas dataframe\n",
    "my_df = cell2.to_pandas()\n",
    "\n",
    "# Chart the data\n",
    "st.subheader(\"Chance of SNOW ❄️\")\n",
    "st.line_chart(my_df, x='SNOWDAY', y='CHANCE_OF_SNOW')\n",
    "\n",
    "# Give it a go!\n",
    "st.subheader(\"Try it out yourself and show off your skills 🥇\")"
   ]
  },
  {
   "cell_type": "code",
   "execution_count": null,
   "id": "90229926",
   "metadata": {},
   "outputs": [],
   "source": []
  },
  {
   "cell_type": "code",
   "execution_count": null,
   "id": "6d6e704d",
   "metadata": {},
   "outputs": [],
   "source": [
    "[14:10] Javin Dolia\n",
    "Given a table of purchases by date, \n",
    "calculate the month-over-month percentage change in revenue.\n",
    "The output should include the year-month date (YYYY-MM) and \n",
    "percentage change, rounded to the 2nd decimal point, \n",
    "and sorted from the beginning of the year to the end of the year. \n",
    "The percentage change column will be populated from the 2nd month forward \n",
    "and can be calculated as ((this month's revenue - last month's revenue) / last month's revenue)*100.\n",
    " \n",
    "Table: sf_transactions\n",
    " \n",
    "[14:10] Javin Dolia\n",
    "id:int\n",
    "created_at:datetime\n",
    "value:int\n",
    "purchase_id:int\n",
    " "
   ]
  },
  {
   "cell_type": "code",
   "execution_count": null,
   "id": "bd522c13",
   "metadata": {},
   "outputs": [],
   "source": [
    "ym\trevenue_diff_pct\n",
    "2019-01\t \n",
    "2019-02\t-28.56\n",
    "2019-03\t23.35\n",
    "2019-04\t-13.84\n",
    "2019-05\t13.49\n",
    "2020-01 \n"
   ]
  },
  {
   "cell_type": "code",
   "execution_count": null,
   "id": "929c689f",
   "metadata": {},
   "outputs": [],
   "source": [
    "ym\tval        lag()\n",
    "2019-01\t 10\n",
    "2019-02\t-28.56\n",
    "2019-03\t23.35\n",
    "2019-04\t-13.84\n",
    "2019-05\t13.49\n",
    "2020-01 20"
   ]
  },
  {
   "cell_type": "code",
   "execution_count": null,
   "id": "5aeb48c8",
   "metadata": {},
   "outputs": [],
   "source": [
    "{{\n",
    "    config=(\n",
    "        materialized = \"table\",\n",
    "        id = \"ym\"\n",
    "    )\n",
    "}}\n",
    "with total_rev as\n",
    "(\n",
    "select\n",
    "YEAR(created_at) as created_year,\n",
    "MONTH(created_at) as created_month,\n",
    "concat(created_year,'-',created_month) as ym,\n",
    "sum(value) as total_value\n",
    "from\n",
    "{ref(sf_transactions)}\n",
    "group by\n",
    "created_year,\n",
    "created_month\n",
    "),\n",
    "lagg_rev as (\n",
    "select\n",
    "   created_year,\n",
    "   ym,\n",
    "   total_value,\n",
    "   lag(total_value,1) over(partition by created_year) as prev_total_val\n",
    "   from\n",
    "   total_rev\n",
    ")\n",
    "\n",
    "\n",
    "select\n",
    "ym,\n",
    "round(((total_value - prev_total_val)/total_value)*100,2) as revenue_diff_pct\n",
    "from\n",
    "lagg_rev\n",
    "order by\n",
    "ym\n",
    "\n"
   ]
  },
  {
   "cell_type": "code",
   "execution_count": null,
   "id": "87799ee9",
   "metadata": {},
   "outputs": [],
   "source": [
    "df = spark.read.format(\"csv\").load(\"feje\")\n",
    "\n",
    "df_size = df.size() #(bytes)\n",
    "\n",
    "df_size_mb = df_size/1064\n",
    "num_of_partition = df_size_mb/200\n",
    "\n",
    "df.repartition(num_of_partition).spark.save(\"dvdd\")"
   ]
  },
  {
   "cell_type": "code",
   "execution_count": null,
   "id": "6b08d067",
   "metadata": {},
   "outputs": [],
   "source": [
    "scd type 2 \n",
    "\n",
    "RAW\n",
    "\n",
    "table \"sales\":\n",
    "col : sales_id\n",
    "col : rec_crt_ts\n",
    "col : active_flg\n",
    "\n",
    "target\n",
    "\n",
    "table \"sales\":\n",
    "col : sales_id\n",
    "col : source_rec_crt_ts\n",
    "col : rec_upd_ts\n",
    "col : active_flg"
   ]
  },
  {
   "cell_type": "code",
   "execution_count": null,
   "id": "c97a97a9",
   "metadata": {},
   "outputs": [],
   "source": [
    "update\n",
    "target\n",
    "set\n",
    "sales_id=source.sales_id,\n",
    "# target.source_rec_crt_ts = source.rec_crt_ts,\n",
    "# rec_upd_ts=source.rec_crt_ts\n",
    "from\n",
    "source\n",
    "join\n",
    "target\n",
    "on source.sales_id=target.sales_id\n",
    "and source.rec_crt_ts>target.rec_upd_ts\n",
    "and source.active_flg=1\n",
    "\n",
    "\n"
   ]
  },
  {
   "cell_type": "code",
   "execution_count": null,
   "id": "d4e21426",
   "metadata": {},
   "outputs": [],
   "source": [
    "1. How many multiwarehouse is present in SF and credit used by multiwarehouse"
   ]
  },
  {
   "cell_type": "code",
   "execution_count": null,
   "id": "70f24365",
   "metadata": {},
   "outputs": [],
   "source": [
    "select\n"
   ]
  }
 ],
 "metadata": {
  "kernelspec": {
   "display_name": "Python 3",
   "language": "python",
   "name": "python3"
  },
  "language_info": {
   "codemirror_mode": {
    "name": "ipython",
    "version": 3
   },
   "file_extension": ".py",
   "mimetype": "text/x-python",
   "name": "python",
   "nbconvert_exporter": "python",
   "pygments_lexer": "ipython3",
   "version": "3.9.6"
  }
 },
 "nbformat": 4,
 "nbformat_minor": 5
}
