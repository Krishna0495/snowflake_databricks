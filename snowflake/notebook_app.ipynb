{
 "metadata": {
  "kernelspec": {
   "display_name": "Streamlit Notebook",
   "name": "streamlit"
  }
 },
 "nbformat_minor": 5,
 "nbformat": 4,
 "cells": [
  {
   "cell_type": "code",
   "id": "3775908f-ca36-4846-8f38-5adca39217f2",
   "metadata": {
    "language": "python",
    "name": "cell1"
   },
   "source": "# Import python packages\nimport streamlit as st\nimport pandas as pd\n\n# We can also use Snowpark for our analyses!\nfrom snowflake.snowpark.context import get_active_session\nsession = get_active_session()\n",
   "execution_count": null,
   "outputs": []
  },
  {
   "cell_type": "code",
   "id": "8d50cbf4-0c8d-4950-86cb-114990437ac9",
   "metadata": {
    "language": "sql",
    "name": "cell2",
    "collapsed": false
   },
   "source": "select \ncast(concat(YEAR,'-',MONTH,'-',DAY) as DATE) as DATE\n,cast(concat(YEAR,'-',MONTH,'-',DAY,\n' ',SUBSTR(SCHEDULED_DEPARTURE,0,2),':',SUBSTR(SCHEDULED_DEPARTURE,3,4)\n) as DATETIME) as SCHEDULED_DEPARTURE\n,cast(concat(YEAR,'-',MONTH,'-',DAY,\n' ',SUBSTR(DEPARTURE_TIME,0,2),':',SUBSTR(DEPARTURE_TIME,3,4)\n) as DATETIME) as DEPARTURE_TIME\n-- ,cast(concat(YEAR,'-',MONTH,'-',DAY,\n-- ' ',SUBSTR(SCHEDULED_TIME,0,2),':',SUBSTR(DEPARTURE_TIME,3,4)\n-- ) as DATETIME) as SCHEDULED_TIME\n,*\nfrom \nPH_DATA_RAW.NORTHWOODS_RAW_LAYER.FLIGHTS\nlimit 100;\n",
   "execution_count": null,
   "outputs": []
  },
  {
   "cell_type": "code",
   "id": "f9c489d4-61df-462b-b3aa-b85d121be8d3",
   "metadata": {
    "language": "sql",
    "name": "cell10"
   },
   "outputs": [],
   "source": "--  query for dup check on primary key / unique key\nselect \nYEAR,\nMONTH,\nDAY,\nFLIGHT_NUMBER,\nAIRLINE,\nORIGIN_AIRPORT,\nDESTINATION_AIRPORT,\ncount(*)\nfrom \nPH_DATA_RAW.NORTHWOODS_RAW_LAYER.FLIGHTS\ngroup by\nYEAR,\nMONTH,\nDAY,\nFLIGHT_NUMBER,\nAIRLINE,\nORIGIN_AIRPORT,\nDESTINATION_AIRPORT\nhaving count(*)>1",
   "execution_count": null
  },
  {
   "cell_type": "code",
   "id": "d48845ba-b515-4227-b440-b42323ed1811",
   "metadata": {
    "language": "sql",
    "name": "cell11"
   },
   "outputs": [],
   "source": "-- Helpful query for partition key / cluster key\nselect \nYEAR,\nMONTH,\ncount(*)\nfrom \nPH_DATA_RAW.NORTHWOODS_RAW_LAYER.FLIGHTS\ngroup by\nYEAR,\nMONTH\n--having count(*)>1",
   "execution_count": null
  },
  {
   "cell_type": "code",
   "id": "67fa6314-80f0-4e0c-a951-4c4f195ff196",
   "metadata": {
    "language": "sql",
    "name": "cell7",
    "codeCollapsed": false
   },
   "outputs": [],
   "source": "---\nCreate  table PH_DATA.NORTHWOODS.FLIGHTS\ncluster by LINEAR(YEAR,MONTH)\n(\nYEAR NUMBER(38,0) NOT NULL,\n\tMONTH NUMBER(38,0) NOT NULL,\n\tDAY NUMBER(38,0) NOT NULL,\n\tDAY_OF_WEEK NUMBER(38,0),\n\tAIRLINE VARCHAR(16777216) NOT NULL,\n\tFLIGHT_NUMBER VARCHAR(16777216) NOT NULL,\n\tTAIL_NUMBER VARCHAR(16777216),\n\tORIGIN_AIRPORT VARCHAR(16777216) NOT NULL,\n\tDESTINATION_AIRPORT VARCHAR(16777216) NOT NULL,\n\tSCHEDULED_DEPARTURE VARCHAR(16777216),\n\tDEPARTURE_TIME VARCHAR(16777216),\n\tDEPARTURE_DELAY NUMBER(38,0),\n\tTAXI_OUT NUMBER(38,0),\n\tWHEELS_OFF VARCHAR(16777216),\n\tSCHEDULED_TIME NUMBER(38,0),\n\tELAPSED_TIME NUMBER(38,0),\n\tAIR_TIME NUMBER(38,0),\n\tDISTANCE NUMBER(38,0),\n\tWHEELS_ON NUMBER(38,0),\n\tTAXI_IN NUMBER(38,0),\n\tSCHEDULED_ARRIVAL NUMBER(38,0),\n\tARRIVAL_TIME VARCHAR(16777216),\n\tARRIVAL_DELAY VARCHAR(16777216),\n\tDIVERTED NUMBER(38,0),\n\tCANCELLED NUMBER(38,0),\n\tCANCELLATION_REASON VARCHAR(16777216),\n\tAIR_SYSTEM_DELAY NUMBER(38,0),\n\tSECURITY_DELAY NUMBER(38,0),\n\tAIRLINE_DELAY NUMBER(38,0),\n\tLATE_AIRCRAFT_DELAY NUMBER(38,0),\n\tWEATHER_DELAY NUMBER(38,0),\n    CONSTRAINT PK_FLIGHTS_KEY PRIMARY KEY (YEAR,\n                                            MONTH,\n                                            DAY,\n                                            FLIGHT_NUMBER,\n                                            AIRLINE,\n                                            ORIGIN_AIRPORT,\n                                            DESTINATION_AIRPORT)\n    , CONSTRAINT FK_FLIGHTS_KEY_AIRLINE FOREIGN KEY (AIRLINE) REFERENCES PH_DATA.NORTHWOODS.AIRLINES(IATA_CODE)\n    , CONSTRAINT FK_FLIGHTS_KEY_ORIGIN_AIRPORTS FOREIGN KEY (ORIGIN_AIRPORT) REFERENCES PH_DATA.NORTHWOODS.AIRPORTS(IATA_CODE)\n    , CONSTRAINT FK_FLIGHTS_KEY_DESTINATION_AIRPORTS FOREIGN KEY (DESTINATION_AIRPORT) REFERENCES PH_DATA.NORTHWOODS.AIRPORTS(IATA_CODE)\n            \n);\n",
   "execution_count": null
  },
  {
   "cell_type": "code",
   "id": "16d3460e-db75-41ba-9566-ac154c043920",
   "metadata": {
    "language": "sql",
    "name": "cell22"
   },
   "outputs": [],
   "source": "select *\n\nFrom INFORMATION_SCHEMA.COLUMNS As C\nlimit 20;",
   "execution_count": null
  },
  {
   "cell_type": "code",
   "id": "f85cc1a7-ac62-41e4-8226-3ead92e610e4",
   "metadata": {
    "language": "sql",
    "name": "cell20",
    "codeCollapsed": false
   },
   "outputs": [],
   "source": "use database PH_DATA;\nuse schema NORTHWOODS;\nSelect T.TABLE_NAME,\nlistagg(\n(case when \nDATA_TYPE='FLOAT' then \nconcat(  \n', \\n',\n-- C.COLUMN_NAME \n--,'!= \n'try_to_decimal(src.',C.COLUMN_NAME,',38,10 ) '\n)\nwhen \nDATA_TYPE='NUMBER' then\nconcat(\n', \\n',\n--C.COLUMN_NAME \n--,'!= \n'try_to_number(src.',C.COLUMN_NAME,',38,10 ) '\n)\nelse\nconcat( \n', \\n',\n--C.COLUMN_NAME \n--,'!= \n'src.',C.COLUMN_NAME,''\n)\nend\n)\n)\n\n        From (select * from INFORMATION_SCHEMA.COLUMNS\n        order by COLUMN_NAME,ORDINAL_POSITION) As C\n        join\n        INFORMATION_SCHEMA.TABLES As T\n        Where C.TABLE_SCHEMA = T.TABLE_SCHEMA\n            And C.TABLE_NAME = T.TABLE_NAME\n            group by\n            T.TABLE_NAME\n        --Order By C.ORDINAL_POSITION\n\n\n        ;\n-- Select TABLE_SCHEMA, TABLE_NAME\n--     , \n--         (\n--         Select ', ' + C.COLUMN_NAME\n--         From INFORMATION_SCHEMA.COLUMNS As C\n--         Where C.TABLE_SCHEMA = T.TABLE_SCHEMA\n--             And C.TABLE_NAME = T.TABLE_NAME\n--         Order By C.ORDINAL_POSITION\n\n--         ) As Columns\n-- From INFORMATION_SCHEMA.TABLES As T",
   "execution_count": null
  },
  {
   "cell_type": "code",
   "id": "f02ca443-69a8-4274-a893-93f9ec95d06d",
   "metadata": {
    "language": "sql",
    "name": "cell9",
    "codeCollapsed": false
   },
   "outputs": [],
   "source": "create  TABLE FLIGHTS (\n\tYEAR VARCHAR(16777216),\n\tMONTH VARCHAR(16777216),\n\tDAY VARCHAR(16777216),\n\tDAY_OF_WEEK VARCHAR(16777216),\n\tAIRLINE VARCHAR(16777216),\n\tFLIGHT_NUMBER VARCHAR(16777216),\n\tTAIL_NUMBER VARCHAR(16777216),\n\tORIGIN_AIRPORT VARCHAR(16777216),\n\tDESTINATION_AIRPORT VARCHAR(16777216),\n\tSCHEDULED_DEPARTURE VARCHAR(16777216),\n\tDEPARTURE_TIME VARCHAR(16777216),\n\tDEPARTURE_DELAY VARCHAR(16777216),\n\tTAXI_OUT VARCHAR(16777216),\n\tWHEELS_OFF VARCHAR(16777216),\n\tSCHEDULED_TIME VARCHAR(16777216),\n\tELAPSED_TIME VARCHAR(16777216),\n\tAIR_TIME VARCHAR(16777216),\n\tDISTANCE VARCHAR(16777216),\n\tWHEELS_ON VARCHAR(16777216),\n\tTAXI_IN VARCHAR(16777216),\n\tSCHEDULED_ARRIVAL VARCHAR(16777216),\n\tARRIVAL_TIME VARCHAR(16777216),\n\tARRIVAL_DELAY VARCHAR(16777216),\n\tDIVERTED VARCHAR(16777216),\n\tCANCELLED VARCHAR(16777216),\n\tCANCELLATION_REASON VARCHAR(16777216),\n\tAIR_SYSTEM_DELAY VARCHAR(16777216),\n\tSECURITY_DELAY VARCHAR(16777216),\n\tAIRLINE_DELAY VARCHAR(16777216),\n\tLATE_AIRCRAFT_DELAY VARCHAR(16777216),\n\tWEATHER_DELAY VARCHAR(16777216)\n;;;kkppp);",
   "execution_count": null
  },
  {
   "cell_type": "code",
   "id": "89483c9a-a2d8-457b-bb52-924c19705a92",
   "metadata": {
    "language": "sql",
    "name": "cell23"
   },
   "outputs": [],
   "source": ", DIVERTED= try_to_number(src.DIVERTED,38,10 ) \n, DAY_OF_WEEK= try_to_number(src.DAY_OF_WEEK,38,10 ) \n, WEATHER_DELAY= try_to_number(src.WEATHER_DELAY,38,10 ) \n, CANCELLED= try_to_number(src.CANCELLED,38,10 ) \n, DEPARTURE_DELAY= try_to_number(src.DEPARTURE_DELAY,38,10 ) \n, SCHEDULED_ARRIVAL= try_to_number(src.SCHEDULED_ARRIVAL,38,10 ) \n, TAXI_OUT= try_to_number(src.TAXI_OUT,38,10 ) \n, DESTINATION_AIRPORT= src.DESTINATION_AIRPORT \n, SCHEDULED_TIME= try_to_number(src.SCHEDULED_TIME,38,10 ) \n, DISTANCE= try_to_number(src.DISTANCE,38,10 ) \n, TAIL_NUMBER= src.TAIL_NUMBER \n, AIR_TIME= try_to_number(src.AIR_TIME,38,10 ) \n, ARRIVAL_DELAY= src.ARRIVAL_DELAY \n, SCHEDULED_DEPARTURE= src.SCHEDULED_DEPARTURE \n, LATE_AIRCRAFT_DELAY= try_to_number(src.LATE_AIRCRAFT_DELAY,38,10 ) \n, YEAR= try_to_number(src.YEAR,38,10 ) \n, AIR_SYSTEM_DELAY= try_to_number(src.AIR_SYSTEM_DELAY,38,10 ) \n, CANCELLATION_REASON= src.CANCELLATION_REASON \n, ARRIVAL_TIME= src.ARRIVAL_TIME \n, SECURITY_DELAY= try_to_number(src.SECURITY_DELAY,38,10 ) \n, MONTH= try_to_number(src.MONTH,38,10 ) \n, ORIGIN_AIRPORT= src.ORIGIN_AIRPORT \n, DEPARTURE_TIME= src.DEPARTURE_TIME \n, WHEELS_ON= try_to_number(src.WHEELS_ON,38,10 ) \n, ELAPSED_TIME= try_to_number(src.ELAPSED_TIME,38,10 ) \n, AIRLINE= src.AIRLINE \n, WHEELS_OFF= src.WHEELS_OFF \n, AIRLINE_DELAY= try_to_number(src.AIRLINE_DELAY,38,10 ) \n, TAXI_IN= try_to_number(src.TAXI_IN,38,10 ) \n, DAY= try_to_number(src.DAY,38,10 ) \n, FLIGHT_NUMBER= src.FLIGHT_NUMBER \n",
   "execution_count": null
  },
  {
   "cell_type": "code",
   "id": "23f57205-492d-46dc-822f-a54b1fdd9908",
   "metadata": {
    "language": "sql",
    "name": "cell21"
   },
   "outputs": [],
   "source": ", MONTH= src.MONTH\n, WHEELS_ON= src.WHEELS_ON\n, ORIGIN_AIRPORT= src.ORIGIN_AIRPORT\n, WHEELS_OFF= src.WHEELS_OFF\n, AIRLINE_DELAY= src.AIRLINE_DELAY\n, DEPARTURE_TIME= src.DEPARTURE_TIME\n, AIRLINE= src.AIRLINE\n, ELAPSED_TIME= src.ELAPSED_TIME\n, TAXI_OUT= src.TAXI_OUT\n, DESTINATION_AIRPORT= src.DESTINATION_AIRPORT\n, DISTANCE= src.DISTANCE\n, SCHEDULED_TIME= src.SCHEDULED_TIME\n, LATE_AIRCRAFT_DELAY= src.LATE_AIRCRAFT_DELAY\n, YEAR= src.YEAR\n, ARRIVAL_DELAY= src.ARRIVAL_DELAY\n, AIR_SYSTEM_DELAY= src.AIR_SYSTEM_DELAY\n, SCHEDULED_DEPARTURE= src.SCHEDULED_DEPARTURE\n, TAXI_IN= src.TAXI_IN\n, DAY= src.DAY\n, FLIGHT_NUMBER= src.FLIGHT_NUMBER\n, WEATHER_DELAY= src.WEATHER_DELAY\n, DAY_OF_WEEK= src.DAY_OF_WEEK\n, SCHEDULED_ARRIVAL= src.SCHEDULED_ARRIVAL\n, CANCELLED= src.CANCELLED\n, DEPARTURE_DELAY= src.DEPARTURE_DELAY\n, DIVERTED= src.DIVERTED\n, TAIL_NUMBER= src.TAIL_NUMBER\n, AIR_TIME= src.AIR_TIME\n, SECURITY_DELAY= src.SECURITY_DELAY\n, CANCELLATION_REASON= src.CANCELLATION_REASON\n, ARRIVAL_TIME= src.ARRIVAL_TIME",
   "execution_count": null
  },
  {
   "cell_type": "code",
   "id": "dee79b00-d27a-4a8c-80cc-80168f84250e",
   "metadata": {
    "language": "sql",
    "name": "cell14",
    "codeCollapsed": false
   },
   "outputs": [],
   "source": "-- create  TABLE PH_DATA.NORTHWOODS.AIRLINES ( \t\n-- AIRLINE VARCHAR(16777216), \tIATA_CODE VARCHAR(16777216) \n-- );",
   "execution_count": null
  },
  {
   "cell_type": "code",
   "id": "eddf9540-4281-44d2-b083-823a04f0c6c9",
   "metadata": {
    "language": "sql",
    "name": "cell12"
   },
   "outputs": [],
   "source": "create or replace TABLE PH_DATA_RAW.NORTHWOODS_RAW_LAYER.AIRLINES ( \t\nAIRLINE VARCHAR(16777216), \tIATA_CODE VARCHAR(16777216) \n;;;);",
   "execution_count": null
  },
  {
   "cell_type": "code",
   "id": "b561d6ca-d98f-40e9-b886-fe204c21a080",
   "metadata": {
    "language": "sql",
    "name": "cell15"
   },
   "outputs": [],
   "source": "create  TABLE PH_DATA.NORTHWOODS.AIRLINES ( \t\nAIRLINE VARCHAR(16777216), \tIATA_CODE VARCHAR(16777216) ,\nCONSTRAINT PK_AIRLINES_KEY PRIMARY KEY (IATA_CODE)\n);",
   "execution_count": null
  },
  {
   "cell_type": "code",
   "id": "979dc5a9-34a3-4a1f-b41f-899aed8450f9",
   "metadata": {
    "language": "sql",
    "name": "cell13",
    "codeCollapsed": false
   },
   "outputs": [],
   "source": "create  TABLE PH_DATA.NORTHWOODS.AIRPORTS (\n\tIATA_CODE VARCHAR(16777216),\n\tAIRPORT VARCHAR(16777216),\n\tCITY VARCHAR(16777216),\n\tSTATE VARCHAR(16777216),\n\tCOUNTRY VARCHAR(16777216),\n\tLATITUDE FLOAT,\n\tLONGITUDE FLOAT,\n    CONSTRAINT PK_AIRPORTS_KEY PRIMARY KEY (IATA_CODE)\n);",
   "execution_count": null
  },
  {
   "cell_type": "code",
   "id": "3c9ff1ad-8cdf-40ef-a992-f39964ce27e4",
   "metadata": {
    "language": "sql",
    "name": "cell17"
   },
   "outputs": [],
   "source": "select\n--distinct cast(src.LATITUDE as float) LATITUDE\n--,\ntry_to_decimal(src.LATITUDE,38,37 ),\ntry_to_number(src.LATITUDE,38,37 ),\nLATITUDE,\n-- to_char(substr(LATITUDE,0, 39)::number(38, 37),'9.9999999999999999999999999999999999999'),\nNVL(LATITUDE,null),\n-- to_char(substr(\n-- (\n-- case when \n-- try_to_decimal(src.LATITUDE,20,10 ) is not null\n-- and LATITUDE is not null\n-- then \n-- LATITUDE else null end \n-- )\n-- ,0, 39)::number(38, 37),'9.9999999999999999999999999999999999999'),\nNVL(\ncast(\n(\ncase when \ntry_to_decimal(src.LATITUDE,20,10 ) is not null\nand LATITUDE is not null\nthen \nNVL(LATITUDE,null) else null end \n)\nas\nnumber(38,35)\n)\n,null)\n,\ncase when LATITUDE=cast(try_to_decimal(src.LATITUDE,20,10 ) as varchar) then\n'okay' else 'issue' end\nfrom\nPH_DATA_RAW.NORTHWOODS_RAW_LAYER.AIRPORTS src\n-- where \n-- try_to_decimal(src.LATITUDE,20,10 ) is null\n-- and LATITUDE is not null",
   "execution_count": null
  },
  {
   "cell_type": "code",
   "id": "a7116256-ad44-422d-9fcd-f4ce6bb22649",
   "metadata": {
    "language": "sql",
    "name": "cell16",
    "codeCollapsed": false
   },
   "outputs": [],
   "source": "create  TABLE PH_DATA_RAW.NORTHWOODS_RAW_LAYER.AIRPORTS (\n\tIATA_CODE VARCHAR(16777216),\n\tAIRPORT VARCHAR(16777216),\n\tCITY VARCHAR(16777216),\n\tSTATE VARCHAR(16777216),\n\tCOUNTRY VARCHAR(16777216),\n\tLATITUDE VARCHAR(16777216),\n\t-- LONGITUDE VARCHAR(16777216)\n);",
   "execution_count": null
  },
  {
   "cell_type": "code",
   "id": "605b989d-6682-441e-9839-682861e363e4",
   "metadata": {
    "language": "sql",
    "name": "cell8",
    "collapsed": false
   },
   "outputs": [],
   "source": "select get_ddl('table','PH_DATA_RAW.NORTHWOODS_RAW_LAYER.AIRPORTS')",
   "execution_count": null
  },
  {
   "cell_type": "code",
   "id": "f1999db0-0c8f-4f2b-8fc8-5c9f52b168ff",
   "metadata": {
    "language": "sql",
    "name": "PH_DATA_NORTHWOODS_AIRLINES_ELT"
   },
   "outputs": [],
   "source": "Update PH_DATA.NORTHWOODS.AIRLINES\nset AIRLINE=src.AIRLINE\nfrom \nPH_DATA.NORTHWOODS.AIRLINES tgt\nright join\nPH_DATA_RAW.NORTHWOODS_RAW_LAYER.AIRLINES src\non src.IATA_CODE=tgt.IATA_CODE\nwhere\nsrc.AIRLINE!=tgt.AIRLINE\n;\n\nInsert into PH_DATA.NORTHWOODS.AIRLINES\n(\nIATA_CODE,\nAIRLINE\n)\n\nselect \nsrc.IATA_CODE,\nsrc.AIRLINE\nfrom\nPH_DATA_RAW.NORTHWOODS_RAW_LAYER.AIRLINES src\nwhere src.IATA_CODE not in (\nselect tgt.IATA_CODE\nfrom\nPH_DATA.NORTHWOODS.AIRLINES tgt\n)\n\n;\nselect *\nfrom\nPH_DATA.NORTHWOODS.AIRLINES",
   "execution_count": null
  },
  {
   "cell_type": "code",
   "id": "f3d3cad6-7598-46ea-94f1-c2ee42479947",
   "metadata": {
    "language": "sql",
    "name": "PH_DATA_NORTHWOODS_AIRPORTS_ELT"
   },
   "outputs": [],
   "source": "Update PH_DATA.NORTHWOODS.AIRPORTS\nset \nAIRPORT=src.AIRPORT,\nCITY =src.CITY,\nSTATE =src.STATE,\nCOUNTRY =src.COUNTRY,\nLATITUDE =try_to_decimal(src.LATITUDE,38,10 ),\nLONGITUDE =try_to_decimal(src.LONGITUDE,38,10 )\nfrom \nPH_DATA.NORTHWOODS.AIRPORTS tgt\nright join\nPH_DATA_RAW.NORTHWOODS_RAW_LAYER.AIRPORTS src\non src.IATA_CODE=tgt.IATA_CODE\nwhere\n(src.AIRPORT!=tgt.AIRPORT\nor \nsrc.CITY!=tgt.CITY\nor\nsrc.STATE!=tgt.STATE\nor\nsrc.COUNTRY!=tgt.COUNTRY\nor\nsrc.AIRPORT!=tgt.AIRPORT\nor\ntry_to_decimal(src.LATITUDE,38,10 )!=tgt.LATITUDE\nor\ntry_to_decimal(src.LONGITUDE,38,10 )!=tgt.LONGITUDE\n)\n;\n\nInsert into PH_DATA.NORTHWOODS.AIRPORTS\n(\nIATA_CODE,\nAIRPORT,\nCITY ,\nSTATE,\nCOUNTRY ,\nLATITUDE ,\nLONGITUDE \n)\nselect \nsrc.IATA_CODE,\nsrc.AIRPORT,\nsrc.CITY ,\nsrc.STATE,\nsrc.COUNTRY ,\ntry_to_decimal(src.LATITUDE,38,10 ) LATITUDE,\ntry_to_decimal(src.LONGITUDE,38,10 ) LONGITUDE\nfrom\nPH_DATA_RAW.NORTHWOODS_RAW_LAYER.AIRPORTS src\nwhere src.IATA_CODE not in (\nselect tgt.IATA_CODE\nfrom\nPH_DATA.NORTHWOODS.AIRPORTS tgt\n)\n\n;",
   "execution_count": null
  },
  {
   "cell_type": "code",
   "id": "f11ca46e-1bb6-4972-a63a-2777dcc2e0aa",
   "metadata": {
    "language": "sql",
    "name": "PH_DATA_NORTHWOODS_FLIGHTS_ELT"
   },
   "outputs": [],
   "source": "Update PH_DATA.NORTHWOODS.FLIGHTS\nset \n  DIVERTED= try_to_number(src.DIVERTED,38,10 ) \n, DAY_OF_WEEK= try_to_number(src.DAY_OF_WEEK,38,10 ) \n, WEATHER_DELAY= try_to_number(src.WEATHER_DELAY,38,10 ) \n, CANCELLED= try_to_number(src.CANCELLED,38,10 ) \n, DEPARTURE_DELAY= try_to_number(src.DEPARTURE_DELAY,38,10 ) \n, SCHEDULED_ARRIVAL= try_to_number(src.SCHEDULED_ARRIVAL,38,10 ) \n, TAXI_OUT= try_to_number(src.TAXI_OUT,38,10 ) \n, DESTINATION_AIRPORT= src.DESTINATION_AIRPORT \n, SCHEDULED_TIME= try_to_number(src.SCHEDULED_TIME,38,10 ) \n, DISTANCE= try_to_number(src.DISTANCE,38,10 ) \n, TAIL_NUMBER= src.TAIL_NUMBER \n, AIR_TIME= try_to_number(src.AIR_TIME,38,10 ) \n, ARRIVAL_DELAY= src.ARRIVAL_DELAY \n, SCHEDULED_DEPARTURE= src.SCHEDULED_DEPARTURE \n, LATE_AIRCRAFT_DELAY= try_to_number(src.LATE_AIRCRAFT_DELAY,38,10 ) \n, YEAR= try_to_number(src.YEAR,38,10 ) \n, AIR_SYSTEM_DELAY= try_to_number(src.AIR_SYSTEM_DELAY,38,10 ) \n, CANCELLATION_REASON= src.CANCELLATION_REASON \n, ARRIVAL_TIME= src.ARRIVAL_TIME \n, SECURITY_DELAY= try_to_number(src.SECURITY_DELAY,38,10 ) \n, MONTH= try_to_number(src.MONTH,38,10 ) \n, ORIGIN_AIRPORT= src.ORIGIN_AIRPORT \n, DEPARTURE_TIME= src.DEPARTURE_TIME \n, WHEELS_ON= try_to_number(src.WHEELS_ON,38,10 ) \n, ELAPSED_TIME= try_to_number(src.ELAPSED_TIME,38,10 ) \n, AIRLINE= src.AIRLINE \n, WHEELS_OFF= src.WHEELS_OFF \n, AIRLINE_DELAY= try_to_number(src.AIRLINE_DELAY,38,10 ) \n, TAXI_IN= try_to_number(src.TAXI_IN,38,10 ) \n, DAY= try_to_number(src.DAY,38,10 ) \n, FLIGHT_NUMBER= src.FLIGHT_NUMBER \nfrom \nPH_DATA.NORTHWOODS.FLIGHTS tgt\nright join\nPH_DATA_RAW.NORTHWOODS_RAW_LAYER.FLIGHTS src\non src.YEAR=tgt.YEAR\nand src.MONTH=tgt.MONTH\nand src.DAY=tgt.DAY\nand src.FLIGHT_NUMBER=tgt.FLIGHT_NUMBER\nand src.AIRLINE=tgt.AIRLINE\nand src.ORIGIN_AIRPORT=tgt.ORIGIN_AIRPORT\nand src.DESTINATION_AIRPORT=tgt.DESTINATION_AIRPORT\nwhere\n(\ntgt.AIR_TIME!= try_to_number(src.AIR_TIME,38,10 ) or \ntgt.TAIL_NUMBER!= src.TAIL_NUMBER or\ntgt.LATE_AIRCRAFT_DELAY!= try_to_number(src.LATE_AIRCRAFT_DELAY,38,10 ) or \ntgt.SCHEDULED_DEPARTURE!= src.SCHEDULED_DEPARTURE or\ntgt.ARRIVAL_DELAY!= src.ARRIVAL_DELAY or\ntgt.AIR_SYSTEM_DELAY!= try_to_number(src.AIR_SYSTEM_DELAY,38,10 ) or \ntgt.SCHEDULED_ARRIVAL!= try_to_number(src.SCHEDULED_ARRIVAL,38,10 ) or \ntgt.WEATHER_DELAY!= try_to_number(src.WEATHER_DELAY,38,10 ) or \ntgt.DAY_OF_WEEK!= try_to_number(src.DAY_OF_WEEK,38,10 ) or \ntgt.CANCELLED!= try_to_number(src.CANCELLED,38,10 ) or \ntgt.DEPARTURE_DELAY!= try_to_number(src.DEPARTURE_DELAY,38,10 ) or \ntgt.DISTANCE!= try_to_number(src.DISTANCE,38,10 ) or \ntgt.TAXI_OUT!= try_to_number(src.TAXI_OUT,38,10 ) or \ntgt.SCHEDULED_TIME!= try_to_number(src.SCHEDULED_TIME,38,10 ) or \ntgt.WHEELS_ON!= try_to_number(src.WHEELS_ON,38,10 ) or \ntgt.DEPARTURE_TIME!= src.DEPARTURE_TIME or\ntgt.WHEELS_OFF!= src.WHEELS_OFF or\ntgt.AIRLINE_DELAY!= try_to_number(src.AIRLINE_DELAY,38,10 ) or \ntgt.ELAPSED_TIME!= try_to_number(src.ELAPSED_TIME,38,10 ) or \ntgt.TAXI_IN!= try_to_number(src.TAXI_IN,38,10 ) or \ntgt.DIVERTED!= try_to_number(src.DIVERTED,38,10 ) or \ntgt.SECURITY_DELAY!= try_to_number(src.SECURITY_DELAY,38,10 ) or \ntgt.CANCELLATION_REASON!= src.CANCELLATION_REASON or\ntgt.ARRIVAL_TIME!= src.ARRIVAL_TIME \n\n)\n;\n\nInsert into PH_DATA.NORTHWOODS.FLIGHTS\n(\nAIRLINE, \nAIRLINE_DELAY, \nAIR_SYSTEM_DELAY, \nAIR_TIME, \nARRIVAL_DELAY, \nARRIVAL_TIME, \nCANCELLATION_REASON, \nCANCELLED, \nDAY, \nDAY_OF_WEEK, \nDEPARTURE_DELAY, \nDEPARTURE_TIME, \nDESTINATION_AIRPORT, \nDISTANCE, \nDIVERTED, \nELAPSED_TIME, \nFLIGHT_NUMBER, \nORIGIN_AIRPORT, \nLATE_AIRCRAFT_DELAY, \nMONTH, \nSCHEDULED_ARRIVAL, \nSCHEDULED_DEPARTURE, \nSCHEDULED_TIME, \nSECURITY_DELAY, \nTAIL_NUMBER, \nTAXI_IN, \nTAXI_OUT, \nWEATHER_DELAY, \nWHEELS_OFF, \nWHEELS_ON, \nYEAR\n)\nselect \n\nsrc.AIRLINE, \ntry_to_number(src.AIRLINE_DELAY,38,10 ) , \ntry_to_number(src.AIR_SYSTEM_DELAY,38,10 ) , \ntry_to_number(src.AIR_TIME,38,10 ) , \nsrc.ARRIVAL_DELAY, \nsrc.ARRIVAL_TIME, \n\nsrc.CANCELLATION_REASON, \ntry_to_number(src.CANCELLED,38,10 ) ,\n\ntry_to_number(src.DAY,38,10 ) , \ntry_to_number(src.DAY_OF_WEEK,38,10 ) , \ntry_to_number(src.DEPARTURE_DELAY,38,10 ) , \nsrc.DEPARTURE_TIME, \nsrc.DESTINATION_AIRPORT, \ntry_to_number(src.DISTANCE,38,10 ) , \ntry_to_number(src.DIVERTED,38,10 ) , \n\ntry_to_number(src.ELAPSED_TIME,38,10 ) , \nsrc.FLIGHT_NUMBER, \nsrc.ORIGIN_AIRPORT,\n\ntry_to_number(src.LATE_AIRCRAFT_DELAY,38,10 ) , \ntry_to_number(src.MONTH,38,10 ) ,\n\ntry_to_number(src.SCHEDULED_ARRIVAL,38,10 ) , \nsrc.SCHEDULED_DEPARTURE, \ntry_to_number(src.SCHEDULED_TIME,38,10 ) , \ntry_to_number(src.SECURITY_DELAY,38,10 ) , \nsrc.TAIL_NUMBER, \ntry_to_number(src.TAXI_IN,38,10 ) , \ntry_to_number(src.TAXI_OUT,38,10 ) , \ntry_to_number(src.WEATHER_DELAY,38,10 ) , \nsrc.WHEELS_OFF, \ntry_to_number(src.WHEELS_ON,38,10 ) , \ntry_to_number(src.YEAR,38,10 ) \n\n \n\nfrom\nPH_DATA_RAW.NORTHWOODS_RAW_LAYER.FLIGHTS src\n-- on src.YEAR=tgt.YEAR\n-- and src.MONTH=tgt.MONTH\n-- and src.DAY=tgt.DAY\n-- and src.FLIGHT_NUMBER=tgt.FLIGHT_NUMBER\n-- and src.AIRLINE=tgt.AIRLINE\n-- and src.ORIGIN_AIRPORT=tgt.ORIGIN_AIRPORT\n-- and src.DESTINATION_AIRPORT=tgt.DESTINATION_AIRPORT\n\nwhere concat(src.YEAR,src.MONTH,src.DAY,src.FLIGHT_NUMBER,src.AIRLINE,src.ORIGIN_AIRPORT,src.DESTINATION_AIRPORT) not in (\nselect concat(tgt.YEAR,tgt.MONTH,tgt.DAY,tgt.FLIGHT_NUMBER,tgt.AIRLINE,tgt.ORIGIN_AIRPORT,tgt.DESTINATION_AIRPORT)\nfrom\nPH_DATA.NORTHWOODS.FLIGHTS tgt\n)\n\n;",
   "execution_count": null
  },
  {
   "cell_type": "code",
   "id": "ed5fa807-2658-4aca-9391-4a7044920708",
   "metadata": {
    "language": "sql",
    "name": "cell19",
    "codeCollapsed": false
   },
   "outputs": [],
   "source": "select *\nfrom \nPH_DATA.NORTHWOODS.AIRLINES tgt\nleft join\nPH_DATA_RAW.NORTHWOODS_RAW_LAYER.AIRLINES src\non tgt.IATA_CODE=src.IATA_CODE",
   "execution_count": null
  },
  {
   "cell_type": "code",
   "id": "01d2e3e8-37e6-4e60-8a9b-b776c6545a59",
   "metadata": {
    "language": "sql",
    "name": "cell18",
    "codeCollapsed": false
   },
   "outputs": [],
   "source": "Insert into PH_DATA.NORTHWOODS.AIRLINES\n(\nIATA_CODE,\nAIRLINE\n)\nas\n(\nselect \nIATA_CODE,\nAIRLINE\nfrom\nPH_DATA.NORTHWOODS.AIRLINES tgt\nleft join\nPH_DATA_RAW.NORTHWOODS_RAW_LAYER.AIRLINES src\non src.IATA_CODE!=tgt.IATA_CODE\n)\n;",
   "execution_count": null
  },
  {
   "cell_type": "code",
   "id": "55251798-ce27-49e8-8f3e-00960f155902",
   "metadata": {
    "language": "sql",
    "name": "cell6",
    "codeCollapsed": false
   },
   "outputs": [],
   "source": "(\nselect \nYEAR,\nMONTH,\nAIRLINE,\nORIGIN_AIRPORT,\ncount (distinct (FLIGHT_NUMBER))\nfrom \nPH_DATA_RAW.NORTHWOODS_RAW_LAYER.FLIGHTS\ngroup by\nAIRLINE,\nORIGIN_AIRPORT,\nYEAR,\nMONTH\norder by \nYEAR,\nMONTH,\nAIRLINE,\nORIGIN_AIRPORT\n) monthly\nleft join\nPH_DATA_RAW.NORTHWOODS_RAW_LAYER.AIRLINES a\non monthly.AIRLINE=a.IATA_CODE\nleft join\nPH_DATA_RAW.NORTHWOODS_RAW_LAYER.AIRPORTS a\non monthly.AIRLINE=a.IATA_CODE\n",
   "execution_count": null
  },
  {
   "cell_type": "code",
   "id": "f5bd0b8d-061d-4b2a-bfd6-38c23ae9656b",
   "metadata": {
    "language": "sql",
    "name": "cell4",
    "codeCollapsed": false
   },
   "outputs": [],
   "source": "select *\nfrom \nPH_DATA_RAW.NORTHWOODS_RAW_LAYER.AIRLINES\nlimit 100;",
   "execution_count": null
  },
  {
   "cell_type": "code",
   "id": "ba1bfdfb-3027-4793-bff5-2f24efabbd0f",
   "metadata": {
    "language": "sql",
    "name": "cell5",
    "codeCollapsed": false
   },
   "outputs": [],
   "source": "select *\nfrom \nPH_DATA_RAW.NORTHWOODS_RAW_LAYER.AIRPORTS\nlimit 100;",
   "execution_count": null
  },
  {
   "cell_type": "code",
   "id": "c695373e-ac74-4b62-a1f1-08206cbd5c81",
   "metadata": {
    "language": "python",
    "name": "cell3",
    "codeCollapsed": false
   },
   "source": "# Then, we can use the python name to turn cell2 into a Pandas dataframe\nmy_df = cell2.to_pandas()\n\n# Chart the data\nst.subheader(\"Chance of SNOW ❄️\")\nst.line_chart(my_df, x='SNOWDAY', y='CHANCE_OF_SNOW')\n\n# Give it a go!\nst.subheader(\"Try it out yourself and show off your skills 🥇\")",
   "execution_count": null,
   "outputs": []
  }
 ]
}